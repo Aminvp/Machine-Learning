{
 "cells": [
  {
   "cell_type": "markdown",
   "id": "4fc6a194",
   "metadata": {},
   "source": [
    "<h1 align=center style=\"line-height:200%;font-family:vazir;color:#0099cc\">\n",
    "<font face=\"vazir\" color=\"#0099cc\">\n",
    "ماندن یا نماندن؛ مسئله اینست\n",
    "</font>\n",
    "</h1>"
   ]
  },
  {
   "cell_type": "markdown",
   "id": "75a70eeb",
   "metadata": {},
   "source": [
    "<h3 align=right style=\"line-height:200%;font-family:vazir;color:#0099cc\">\n",
    "<font face=\"vazir\" color=\"#0099cc\">\n",
    "    توضیحات ابتدایی\n",
    "</font>\n",
    "</h3>\n",
    "\n",
    "<p dir=rtl style=\"direction: rtl;text-align: right;line-height:200%;font-family:vazir;font-size:medium\">\n",
    "<font face=\"vazir\" size=3>\n",
    "    در درسنامه‌های گذشته با حذف مقادیر از داده و مدیریت مقادیر گمشده آشنا شدیم. حال در این تمرین قصد داریم با تمرین و کد زدن مهارت خود را به چالش بکشیم!\n",
    "    <br>\n",
    "    فایل migration_rate.csv آمار مهاجرت به و مهاجرت از کشور‌های مختلف را از سال ۱۹۹۰ تا ۲۰۲۰ نشان می‌دهد. هدف این تمرین، تحلیل نرخ مهاجرت تعدادی از کشورهای موجود در این فایل است.\n",
    "</font>\n",
    "</p>"
   ]
  },
  {
   "cell_type": "markdown",
   "id": "5f547b9e",
   "metadata": {},
   "source": [
    "<div dir=rtl style=\"direction: rtl;text-align: right;line-height:200%;font-family:vazir;font-size:medium\">\n",
    "<font face=\"vazir\" size=3>\n",
    "    \n",
    "| نام ستون| توضیح ستون|\n",
    "|:------------------:|:------------------:|\n",
    "| Country | نام کشور |\n",
    "| 1990   | در این ستون نرخ مهاجرت هر کشور در سال ۱۹۹۰ آمده‌است.|\n",
    "| 1995   |در این ستون نرخ مهاجرت هر کشور در سال ۱۹۹۵ آمده‌است.|\n",
    "| 2000   |در این ستون نرخ مهاجرت هر کشور در سال ۲۰۰۰ آمده‌است.|\n",
    "| 2005   |در این ستون نرخ مهاجرت هر کشور در سال ۲۰۰۵ آمده‌است.|\n",
    "| 2010   |در این ستون نرخ مهاجرت هر کشور در سال ۲۰۱۰ آمده‌است.|\n",
    "| 2015   |در این ستون نرخ مهاجرت هر کشور در سال ۲۰۱۵ آمده‌است.|\n",
    "| 2020   |در این ستون نرخ مهاجرت هر کشور در سال ۲۰۲۰ آمده‌است.|\n",
    "\n",
    "</font>\n",
    "</div>"
   ]
  },
  {
   "cell_type": "markdown",
   "id": "365be803",
   "metadata": {},
   "source": [
    "<h3 align=right style=\"line-height:200%;font-family:vazir;color:#0099cc\">\n",
    "<font face=\"vazir\" color=\"#0099cc\">\n",
    "    فرمول محاسبه نرخ مهاجرت\n",
    "</font>\n",
    "</h3>\n",
    "\n",
    "<p dir=rtl style=\"direction: rtl;text-align: right;line-height:200%;font-family:vazir;font-size:medium\">\n",
    "<font face=\"vazir\" size=3>\n",
    "    شاید برایتان سوال شده باشد، نرخ مهاجرت هر کشور چگونه محاسبه شده است!\n",
    "    <br>\n",
    "    نرخ مهاجرت حاصل نسبت تفاوت مهاجران به کشور و مهاجران از کشور، به جمعیت کشور در آن سال به ازای هر ۱۰۰۰ نفر است. به فرمول زیر توجه کنید.\n",
    "    </font>\n",
    "</p>\n",
    "\n",
    "\n",
    "<p dir=rtl style=\"text-align: center;line-height:200%;font-family:vazir;font-size:medium\">\n",
    "<font face=\"vazir\" size=5>\n",
    "    $\\frac{(migration in - migration out) * 1000 }{population}$\n",
    "</font>\n",
    "</p>\n",
    "\n",
    "<p dir=rtl style=\"direction:trl; text-align: right;line-height:200%;font-family:vazir;font-size:medium\">\n",
    "<font face=\"vazir\" size=3>\n",
    "    این فرمول در حل مسئله هیچ تاثیری ندارد، بلکه فقط برای درک بهتر آورده شده‌است.\n",
    "</font>\n",
    "</p>"
   ]
  },
  {
   "cell_type": "code",
   "execution_count": 1,
   "id": "6411a592",
   "metadata": {},
   "outputs": [],
   "source": [
    "import numpy as np\n",
    "import pandas as pd "
   ]
  },
  {
   "cell_type": "code",
   "execution_count": 3,
   "id": "0dc3abd5",
   "metadata": {},
   "outputs": [
    {
     "data": {
      "text/html": [
       "<div>\n",
       "<style scoped>\n",
       "    .dataframe tbody tr th:only-of-type {\n",
       "        vertical-align: middle;\n",
       "    }\n",
       "\n",
       "    .dataframe tbody tr th {\n",
       "        vertical-align: top;\n",
       "    }\n",
       "\n",
       "    .dataframe thead th {\n",
       "        text-align: right;\n",
       "    }\n",
       "</style>\n",
       "<table border=\"1\" class=\"dataframe\">\n",
       "  <thead>\n",
       "    <tr style=\"text-align: right;\">\n",
       "      <th></th>\n",
       "      <th>Country</th>\n",
       "      <th>1990</th>\n",
       "      <th>1995</th>\n",
       "      <th>2000</th>\n",
       "      <th>2005</th>\n",
       "      <th>2010</th>\n",
       "      <th>2015</th>\n",
       "      <th>2020</th>\n",
       "    </tr>\n",
       "  </thead>\n",
       "  <tbody>\n",
       "    <tr>\n",
       "      <th>0</th>\n",
       "      <td>United States</td>\n",
       "      <td>2.7</td>\n",
       "      <td>3.5</td>\n",
       "      <td>6.5</td>\n",
       "      <td>3.7</td>\n",
       "      <td>3.6</td>\n",
       "      <td>3.2</td>\n",
       "      <td>2.9</td>\n",
       "    </tr>\n",
       "    <tr>\n",
       "      <th>1</th>\n",
       "      <td>India</td>\n",
       "      <td>0.0</td>\n",
       "      <td>NaN</td>\n",
       "      <td>-0.1</td>\n",
       "      <td>-0.3</td>\n",
       "      <td>-0.4</td>\n",
       "      <td>-0.4</td>\n",
       "      <td>-0.4</td>\n",
       "    </tr>\n",
       "    <tr>\n",
       "      <th>2</th>\n",
       "      <td>Russian Federation</td>\n",
       "      <td>1.2</td>\n",
       "      <td>3.4</td>\n",
       "      <td>3.2</td>\n",
       "      <td>2.5</td>\n",
       "      <td>3.2</td>\n",
       "      <td>2.5</td>\n",
       "      <td>1.3</td>\n",
       "    </tr>\n",
       "    <tr>\n",
       "      <th>3</th>\n",
       "      <td>Germany</td>\n",
       "      <td>4.3</td>\n",
       "      <td>6.6</td>\n",
       "      <td>1.8</td>\n",
       "      <td>NaN</td>\n",
       "      <td>0.1</td>\n",
       "      <td>4.8</td>\n",
       "      <td>6.6</td>\n",
       "    </tr>\n",
       "    <tr>\n",
       "      <th>4</th>\n",
       "      <td>Algeria</td>\n",
       "      <td>-0.8</td>\n",
       "      <td>-0.9</td>\n",
       "      <td>-1.1</td>\n",
       "      <td>-1.3</td>\n",
       "      <td>NaN</td>\n",
       "      <td>-0.8</td>\n",
       "      <td>-0.2</td>\n",
       "    </tr>\n",
       "    <tr>\n",
       "      <th>...</th>\n",
       "      <td>...</td>\n",
       "      <td>...</td>\n",
       "      <td>...</td>\n",
       "      <td>...</td>\n",
       "      <td>...</td>\n",
       "      <td>...</td>\n",
       "      <td>...</td>\n",
       "      <td>...</td>\n",
       "    </tr>\n",
       "    <tr>\n",
       "      <th>186</th>\n",
       "      <td>Mali</td>\n",
       "      <td>-12.1</td>\n",
       "      <td>-3.8</td>\n",
       "      <td>-2.8</td>\n",
       "      <td>-1.1</td>\n",
       "      <td>-1.4</td>\n",
       "      <td>-3.7</td>\n",
       "      <td>-2.1</td>\n",
       "    </tr>\n",
       "    <tr>\n",
       "      <th>187</th>\n",
       "      <td>Costa Rica</td>\n",
       "      <td>1.2</td>\n",
       "      <td>4.2</td>\n",
       "      <td>4.8</td>\n",
       "      <td>2.0</td>\n",
       "      <td>1.4</td>\n",
       "      <td>0.8</td>\n",
       "      <td>0.8</td>\n",
       "    </tr>\n",
       "    <tr>\n",
       "      <th>188</th>\n",
       "      <td>Norway</td>\n",
       "      <td>1.8</td>\n",
       "      <td>2.2</td>\n",
       "      <td>2.7</td>\n",
       "      <td>3.0</td>\n",
       "      <td>6.9</td>\n",
       "      <td>8.8</td>\n",
       "      <td>5.3</td>\n",
       "    </tr>\n",
       "    <tr>\n",
       "      <th>189</th>\n",
       "      <td>Tajikistan</td>\n",
       "      <td>-1.3</td>\n",
       "      <td>NaN</td>\n",
       "      <td>-7.9</td>\n",
       "      <td>-4.5</td>\n",
       "      <td>-4.1</td>\n",
       "      <td>-3.4</td>\n",
       "      <td>-2.2</td>\n",
       "    </tr>\n",
       "    <tr>\n",
       "      <th>190</th>\n",
       "      <td>Angola</td>\n",
       "      <td>3.5</td>\n",
       "      <td>2.2</td>\n",
       "      <td>2.6</td>\n",
       "      <td>2.9</td>\n",
       "      <td>3.3</td>\n",
       "      <td>1.3</td>\n",
       "      <td>0.2</td>\n",
       "    </tr>\n",
       "  </tbody>\n",
       "</table>\n",
       "<p>191 rows × 8 columns</p>\n",
       "</div>"
      ],
      "text/plain": [
       "                Country  1990  1995  2000  2005  2010  2015  2020\n",
       "0         United States   2.7   3.5   6.5   3.7   3.6   3.2   2.9\n",
       "1                 India   0.0   NaN  -0.1  -0.3  -0.4  -0.4  -0.4\n",
       "2    Russian Federation   1.2   3.4   3.2   2.5   3.2   2.5   1.3\n",
       "3               Germany   4.3   6.6   1.8   NaN   0.1   4.8   6.6\n",
       "4               Algeria  -0.8  -0.9  -1.1  -1.3   NaN  -0.8  -0.2\n",
       "..                  ...   ...   ...   ...   ...   ...   ...   ...\n",
       "186                Mali -12.1  -3.8  -2.8  -1.1  -1.4  -3.7  -2.1\n",
       "187          Costa Rica   1.2   4.2   4.8   2.0   1.4   0.8   0.8\n",
       "188              Norway   1.8   2.2   2.7   3.0   6.9   8.8   5.3\n",
       "189          Tajikistan  -1.3   NaN  -7.9  -4.5  -4.1  -3.4  -2.2\n",
       "190              Angola   3.5   2.2   2.6   2.9   3.3   1.3   0.2\n",
       "\n",
       "[191 rows x 8 columns]"
      ]
     },
     "execution_count": 3,
     "metadata": {},
     "output_type": "execute_result"
    }
   ],
   "source": [
    "# read csv file in df\n",
    "df = pd.read_csv('./migration_rate.csv')\n",
    "df"
   ]
  },
  {
   "cell_type": "markdown",
   "id": "883c753f",
   "metadata": {},
   "source": [
    "\n",
    "<p dir=rtl style=\"direction: rtl;text-align: right;line-height:200%;font-family:vazir;font-size:medium\">\n",
    "<font face=\"vazir\" size=3>\n",
    "این تمرین در دو بخش آماده شده‌است. بخش اول به منظور پیش‌پردازش و بخش دوم برای پاسخدهی به تعدادی سوال تحلیلی از داده طراحی شده‌است.    \n",
    "</font>\n",
    "</p>\n",
    "\n"
   ]
  },
  {
   "cell_type": "markdown",
   "id": "6ef94595",
   "metadata": {},
   "source": [
    "<h3 align=right style=\"line-height:200%;font-family:vazir;color:#0099cc\">\n",
    "<font face=\"vazir\" color=\"#0099cc\">\n",
    "بخش اول : پیش‌پردازش\n",
    "</font>\n",
    "</h3>\n",
    "\n",
    "<div dir=rtl style=\"direction: rtl;text-align: right;line-height:200%;font-family:vazir;font-size:medium\">\n",
    "<font face=\"vazir\" size=3>\n",
    "    پیش از تحلیل باید مقادیر گم‌شده در داده را مدیریت کنید و برخی از اطلاعات را نیز از بین ببرید.\n",
    "<br>\n",
    "در گام پیش‌پردازش به ترتیب مراحل زیر را انجام دهید.\n",
    "<ul>\n",
    "    <li>\n",
    "کشور‌هایی را که نرخ‌ مهاجرت در هر ۷ سال آن‌ها گم‌شده است از دیتاست برای همیشه حذف کنید.\n",
    "    </li>\n",
    "    <li>\n",
    "مقادیر گمشده کشور‌هایی که اطلاعات برخی از سال‌ها را از دست داده‌اند را با میانگین آن کشور پر کنید. به‌عنوان مثال اگر نرخ مهاجرت کشوری از سال ۱۹۹۵ تا ۲۰۲۰ به ترتیب 5.2-، 3.4-، 0.7-، 0.9، 1.3 و 2.5 باشد، نرخ مهاجرت سال ۱۹۹۰ که گمشده بود را باید با عدد 0.76- پر کنید.\n",
    "    </li>\n",
    "</ul>\n",
    "    </font>\n",
    "</div>\n",
    "\n"
   ]
  },
  {
   "cell_type": "markdown",
   "id": "e781cde6",
   "metadata": {},
   "source": [
    "<h3 align=right style=\"line-height:200%;font-family:vazir;color:#0099cc\">\n",
    "<font face=\"vazir\" color=\"#0099cc\">\n",
    "گام اول پیش‌پردازش\n",
    "</font>\n",
    "</h3>\n",
    "\n",
    "<div dir=rtl style=\"direction: rtl;text-align: right;line-height:200%;font-family:vazir;font-size:medium\">\n",
    "<font face=\"vazir\" size=3>\n",
    "        سطرهایی که نرخ هر ۷ سال در آن‌ها گمشده اند را حذف کنید.\n",
    "</font>\n",
    "</div>\n",
    "\n"
   ]
  },
  {
   "cell_type": "code",
   "execution_count": 7,
   "id": "35a42ee5",
   "metadata": {},
   "outputs": [],
   "source": [
    "# TODO: drop some rows\n",
    "df.dropna(how='all', subset=['1990', '1995', '2000', \"2005\", \"2010\", \"2015\"], inplace=True)"
   ]
  },
  {
   "cell_type": "markdown",
   "id": "ecd9f826",
   "metadata": {},
   "source": [
    "<h3 align=right style=\"line-height:200%;font-family:vazir;color:#0099cc\">\n",
    "<font face=\"vazir\" color=\"#0099cc\">\n",
    "گام دوم پیش‌پردازش\n",
    "</font>\n",
    "</h3>\n",
    "\n",
    "<div dir=rtl style=\"direction: rtl;text-align: right;line-height:200%;font-family:vazir;font-size:medium\">\n",
    "<font face=\"vazir\" size=3>\n",
    "    مقادیر گمشده هر سطر را با میانگین آن سطر پر کنید.\n",
    "</font>\n",
    "</div>\n"
   ]
  },
  {
   "cell_type": "code",
   "execution_count": 8,
   "id": "3d1d5777",
   "metadata": {},
   "outputs": [],
   "source": [
    "# TODO: fill null values of rows\n",
    "year_columns = ['1990', '1995', '2000', '2005', '2010', '2015', '2020']\n",
    "df.loc[:,year_columns] = df.drop('Country', axis=1).apply(lambda row : row.fillna(row.mean()), axis=1)"
   ]
  },
  {
   "cell_type": "markdown",
   "id": "8818886d",
   "metadata": {},
   "source": [
    "<div dir=rtl id=\"start\" style=\"direction:rtl;line-height:200%;\">\n",
    "\t<font face=\"vazir\" size=3>\n",
    "        بعد از اتمام هر دو مرحله پیش‌پردازش، تعداد مقادیر گمشده همه ستون‌ها باید 0 باشد.\n",
    "    </font>\n",
    "</div>"
   ]
  },
  {
   "cell_type": "code",
   "execution_count": 9,
   "id": "33d43dac",
   "metadata": {},
   "outputs": [
    {
     "data": {
      "text/plain": [
       "Country    0\n",
       "1990       0\n",
       "1995       0\n",
       "2000       0\n",
       "2005       0\n",
       "2010       0\n",
       "2015       0\n",
       "2020       0\n",
       "dtype: int64"
      ]
     },
     "execution_count": 9,
     "metadata": {},
     "output_type": "execute_result"
    }
   ],
   "source": [
    "df.isna().sum()"
   ]
  },
  {
   "cell_type": "markdown",
   "id": "0a16a62e",
   "metadata": {},
   "source": [
    "<div dir=rtl id=\"start\" style=\"direction:rtl;line-height:200%;\">\n",
    "\t<font face=\"vazir\" size=3>\n",
    "        متغیر <code>df</code> مورد داوری قرار خواهد گرفت، بنابراین به‌غیر از دو گام پیش‌پردازشی، هیچ‌گونه تغییری روی آن اعمال نکنید!\n",
    "    </font>\n",
    "</div>"
   ]
  },
  {
   "cell_type": "markdown",
   "id": "7dc2ab30",
   "metadata": {},
   "source": [
    "<h3 align=right style=\"line-height:200%;font-family:vazir;color:#0099cc\">\n",
    "<font face=\"vazir\" color=\"#0099cc\">\n",
    "بخش دوم : تحلیل\n",
    "</font>\n",
    "</h3>\n",
    "\n",
    "<div dir=rtl style=\"direction: rtl;text-align: right;line-height:200%;font-family:vazir;font-size:medium\">\n",
    "<font face=\"vazir\" size=3>\n",
    "پس از اینکه ۲ مرحله بالا را انجام دادید به سوالات زیر پاسخ دهید.\n",
    "    <br>\n",
    "    قصد داریم با پاسخ به سوالات زیر، شهود دقیقی نسبت به وضع مهاجرت در برخی کشور‌ها به‌دست آوریم.\n",
    "</font>\n",
    "</div>\n",
    "\n"
   ]
  },
  {
   "cell_type": "markdown",
   "id": "89d472c5",
   "metadata": {},
   "source": [
    "<h3 align=right style=\"line-height:200%;font-family:vazir;color:#0099cc\">\n",
    "<font face=\"vazir\" color=\"#0099cc\">\n",
    "سوال اول\n",
    "</font>\n",
    "</h3>\n",
    "\n",
    "<div dir=rtl style=\"direction: rtl;text-align: right;line-height:200%;font-family:vazir;font-size:medium\">\n",
    "<font face=\"vazir\" size=3>\n",
    "    در سال ۲۰۲۰، <b>اسم</b> سه کشوری که بیشترین نرخ پذیرش مهاجر را دارند پیدا کنید. جواب خود را درون لیست <code>top_countries</code> ذخیره کنید. عنصر اول، دوم و سوم این لیست به ترتیب کشورهایی هستند که در رتبه اول تا سوم جذب مهاجر قرار می‌گیرند.\n",
    "</font>\n",
    "</div>\n",
    "\n"
   ]
  },
  {
   "cell_type": "code",
   "execution_count": 6,
   "id": "c210f7d1",
   "metadata": {},
   "outputs": [
    {
     "name": "stdout",
     "output_type": "stream",
     "text": [
      "['Bahrain', 'Maldives', 'Oman']\n"
     ]
    }
   ],
   "source": [
    "top_countries = df.loc[df['2020'].nlargest(3).index].Country.tolist()\n",
    "print(top_countries)"
   ]
  },
  {
   "cell_type": "markdown",
   "id": "1310dcec",
   "metadata": {},
   "source": [
    "<h3 align=right style=\"line-height:200%;font-family:vazir;color:#0099cc\">\n",
    "<font face=\"vazir\" color=\"#0099cc\">\n",
    "سوال دوم\n",
    "</font>\n",
    "</h3>\n",
    "\n",
    "<div dir=rtl style=\"direction: rtl;text-align: right;line-height:200%;font-family:vazir;font-size:medium\">\n",
    "<font face=\"vazir\" size=3>\n",
    "    میانگین نرخ مهاجرت کشور ایران در این بازه ۳۰ ساله محاسبه کرده و جواب را در متغیر <code>iran_mean</code> بنویسید. جنس این متغیر باید <code>numpy.float64</code> باشد.\n",
    "    <br>\n",
    "    اسم کشور ایران در این مجموعه داده به صورت <code>Iran (Islamic Republic of)</code> آمده‌است.\n",
    "</font>\n",
    "</div>\n",
    "\n"
   ]
  },
  {
   "cell_type": "code",
   "execution_count": 7,
   "id": "56df3669",
   "metadata": {},
   "outputs": [
    {
     "name": "stdout",
     "output_type": "stream",
     "text": [
      "-0.22857142857142865\n"
     ]
    },
    {
     "name": "stderr",
     "output_type": "stream",
     "text": [
      "C:\\Users\\NP\\AppData\\Local\\Temp/ipykernel_9780/2490009656.py:1: FutureWarning: Dropping of nuisance columns in DataFrame reductions (with 'numeric_only=None') is deprecated; in a future version this will raise TypeError.  Select only valid columns before calling the reduction.\n",
      "  iran_mean = df[df.Country == \"Iran (Islamic Republic of)\"].mean(axis=1).values[0]\n"
     ]
    }
   ],
   "source": [
    "iran_mean = df[df.Country == \"Iran (Islamic Republic of)\"].mean(axis=1).values[0]\n",
    "print(iran_mean)"
   ]
  },
  {
   "cell_type": "markdown",
   "id": "b4572529",
   "metadata": {},
   "source": [
    "<h3 align=right style=\"line-height:200%;font-family:vazir;color:#0099cc\">\n",
    "<font face=\"vazir\" color=\"#0099cc\">\n",
    "سوال سوم\n",
    "</font>\n",
    "</h3>\n",
    "\n",
    "<div dir=rtl style=\"direction: rtl;text-align: right;line-height:200%;font-family:vazir;font-size:medium\">\n",
    "<font face=\"vazir\" size=3>\n",
    "    <b>اسم</b> کشوری که در این بازه ۳۰ ساله، بیشترین رشد را داشته است در متغیر <code>highest_growth</code> بنویسید. این متغیر از نوع <i>str</i> است. منظور از رشد، تفاضل نرخ سال ۲۰۲۰ از سال ۱۹۹۰ است.\n",
    "\n",
    "</font>\n",
    "</div>\n",
    "\n"
   ]
  },
  {
   "cell_type": "code",
   "execution_count": 8,
   "id": "fcbf7a10",
   "metadata": {},
   "outputs": [
    {
     "name": "stdout",
     "output_type": "stream",
     "text": [
      "Liberia\n"
     ]
    }
   ],
   "source": [
    "index = df.apply(lambda row : row[\"2020\"] - row[\"1990\"], axis=1).idxmax()\n",
    "highest_growth = df.loc[index].Country\n",
    "print(highest_growth)"
   ]
  },
  {
   "cell_type": "markdown",
   "id": "eeca036a",
   "metadata": {},
   "source": [
    "<h3 align=right style=\"line-height:200%;font-family:vazir;color:#0099cc\">\n",
    "<font face=\"vazir\" color=\"#0099cc\">\n",
    "    سلول جواب‌ساز\n",
    "</font>\n",
    "</h3>\n"
   ]
  },
  {
   "cell_type": "code",
   "execution_count": 9,
   "id": "b10ef49e",
   "metadata": {},
   "outputs": [
    {
     "name": "stdout",
     "output_type": "stream",
     "text": [
      "File Paths:\n",
      "['df.csv', 'top_countries', 'iran_mean', 'highest_growth', 'to_stay_or_not_to_stay.ipynb']\n"
     ]
    },
    {
     "ename": "FileNotFoundError",
     "evalue": "[WinError 2] The system cannot find the file specified: './to_stay_or_not_to_stay.ipynb'",
     "output_type": "error",
     "traceback": [
      "\u001b[1;31m---------------------------------------------------------------------------\u001b[0m",
      "\u001b[1;31mFileNotFoundError\u001b[0m                         Traceback (most recent call last)",
      "\u001b[1;32m~\\AppData\\Local\\Temp/ipykernel_9780/597532015.py\u001b[0m in \u001b[0;36m<module>\u001b[1;34m\u001b[0m\n\u001b[0;32m     23\u001b[0m \u001b[1;33m\u001b[0m\u001b[0m\n\u001b[0;32m     24\u001b[0m \u001b[0mfile_names\u001b[0m \u001b[1;33m=\u001b[0m \u001b[1;33m[\u001b[0m\u001b[1;34m\"df.csv\"\u001b[0m\u001b[1;33m,\u001b[0m \u001b[1;34m\"top_countries\"\u001b[0m\u001b[1;33m,\u001b[0m \u001b[1;34m\"iran_mean\"\u001b[0m\u001b[1;33m,\u001b[0m \u001b[1;34m\"highest_growth\"\u001b[0m\u001b[1;33m,\u001b[0m \u001b[1;34m\"to_stay_or_not_to_stay.ipynb\"\u001b[0m\u001b[1;33m]\u001b[0m\u001b[1;33m\u001b[0m\u001b[1;33m\u001b[0m\u001b[0m\n\u001b[1;32m---> 25\u001b[1;33m \u001b[0mcompress\u001b[0m\u001b[1;33m(\u001b[0m\u001b[0mfile_names\u001b[0m\u001b[1;33m)\u001b[0m\u001b[1;33m\u001b[0m\u001b[1;33m\u001b[0m\u001b[0m\n\u001b[0m",
      "\u001b[1;32m~\\AppData\\Local\\Temp/ipykernel_9780/597532015.py\u001b[0m in \u001b[0;36mcompress\u001b[1;34m(file_names)\u001b[0m\n\u001b[0;32m     19\u001b[0m             \u001b[1;31m# Add file to the zip file\u001b[0m\u001b[1;33m\u001b[0m\u001b[1;33m\u001b[0m\u001b[1;33m\u001b[0m\u001b[0m\n\u001b[0;32m     20\u001b[0m             \u001b[1;31m# first parameter file to zip, second filename in zip\u001b[0m\u001b[1;33m\u001b[0m\u001b[1;33m\u001b[0m\u001b[1;33m\u001b[0m\u001b[0m\n\u001b[1;32m---> 21\u001b[1;33m             \u001b[0mzf\u001b[0m\u001b[1;33m.\u001b[0m\u001b[0mwrite\u001b[0m\u001b[1;33m(\u001b[0m\u001b[1;34m'./'\u001b[0m \u001b[1;33m+\u001b[0m \u001b[0mfile_name\u001b[0m\u001b[1;33m,\u001b[0m \u001b[0mfile_name\u001b[0m\u001b[1;33m,\u001b[0m \u001b[0mcompress_type\u001b[0m\u001b[1;33m=\u001b[0m\u001b[0mcompression\u001b[0m\u001b[1;33m)\u001b[0m\u001b[1;33m\u001b[0m\u001b[1;33m\u001b[0m\u001b[0m\n\u001b[0m\u001b[0;32m     22\u001b[0m \u001b[1;33m\u001b[0m\u001b[0m\n\u001b[0;32m     23\u001b[0m \u001b[1;33m\u001b[0m\u001b[0m\n",
      "\u001b[1;32m~\\AppData\\Local\\Programs\\Python\\Python38\\lib\\zipfile.py\u001b[0m in \u001b[0;36mwrite\u001b[1;34m(self, filename, arcname, compress_type, compresslevel)\u001b[0m\n\u001b[0;32m   1739\u001b[0m             )\n\u001b[0;32m   1740\u001b[0m \u001b[1;33m\u001b[0m\u001b[0m\n\u001b[1;32m-> 1741\u001b[1;33m         zinfo = ZipInfo.from_file(filename, arcname,\n\u001b[0m\u001b[0;32m   1742\u001b[0m                                   strict_timestamps=self._strict_timestamps)\n\u001b[0;32m   1743\u001b[0m \u001b[1;33m\u001b[0m\u001b[0m\n",
      "\u001b[1;32m~\\AppData\\Local\\Programs\\Python\\Python38\\lib\\zipfile.py\u001b[0m in \u001b[0;36mfrom_file\u001b[1;34m(cls, filename, arcname, strict_timestamps)\u001b[0m\n\u001b[0;32m    521\u001b[0m         \u001b[1;32mif\u001b[0m \u001b[0misinstance\u001b[0m\u001b[1;33m(\u001b[0m\u001b[0mfilename\u001b[0m\u001b[1;33m,\u001b[0m \u001b[0mos\u001b[0m\u001b[1;33m.\u001b[0m\u001b[0mPathLike\u001b[0m\u001b[1;33m)\u001b[0m\u001b[1;33m:\u001b[0m\u001b[1;33m\u001b[0m\u001b[1;33m\u001b[0m\u001b[0m\n\u001b[0;32m    522\u001b[0m             \u001b[0mfilename\u001b[0m \u001b[1;33m=\u001b[0m \u001b[0mos\u001b[0m\u001b[1;33m.\u001b[0m\u001b[0mfspath\u001b[0m\u001b[1;33m(\u001b[0m\u001b[0mfilename\u001b[0m\u001b[1;33m)\u001b[0m\u001b[1;33m\u001b[0m\u001b[1;33m\u001b[0m\u001b[0m\n\u001b[1;32m--> 523\u001b[1;33m         \u001b[0mst\u001b[0m \u001b[1;33m=\u001b[0m \u001b[0mos\u001b[0m\u001b[1;33m.\u001b[0m\u001b[0mstat\u001b[0m\u001b[1;33m(\u001b[0m\u001b[0mfilename\u001b[0m\u001b[1;33m)\u001b[0m\u001b[1;33m\u001b[0m\u001b[1;33m\u001b[0m\u001b[0m\n\u001b[0m\u001b[0;32m    524\u001b[0m         \u001b[0misdir\u001b[0m \u001b[1;33m=\u001b[0m \u001b[0mstat\u001b[0m\u001b[1;33m.\u001b[0m\u001b[0mS_ISDIR\u001b[0m\u001b[1;33m(\u001b[0m\u001b[0mst\u001b[0m\u001b[1;33m.\u001b[0m\u001b[0mst_mode\u001b[0m\u001b[1;33m)\u001b[0m\u001b[1;33m\u001b[0m\u001b[1;33m\u001b[0m\u001b[0m\n\u001b[0;32m    525\u001b[0m         \u001b[0mmtime\u001b[0m \u001b[1;33m=\u001b[0m \u001b[0mtime\u001b[0m\u001b[1;33m.\u001b[0m\u001b[0mlocaltime\u001b[0m\u001b[1;33m(\u001b[0m\u001b[0mst\u001b[0m\u001b[1;33m.\u001b[0m\u001b[0mst_mtime\u001b[0m\u001b[1;33m)\u001b[0m\u001b[1;33m\u001b[0m\u001b[1;33m\u001b[0m\u001b[0m\n",
      "\u001b[1;31mFileNotFoundError\u001b[0m: [WinError 2] The system cannot find the file specified: './to_stay_or_not_to_stay.ipynb'"
     ]
    }
   ],
   "source": [
    "import zipfile\n",
    "import joblib\n",
    "\n",
    "df.to_csv('./df.csv', index=False)\n",
    "joblib.dump(top_countries,\"top_countries\")\n",
    "joblib.dump(iran_mean,\"iran_mean\")\n",
    "joblib.dump(highest_growth, \"highest_growth\")\n",
    "\n",
    "\n",
    "def compress(file_names):\n",
    "    print(\"File Paths:\")\n",
    "    print(file_names)\n",
    "    # Select the compression mode ZIP_DEFLATED for compression\n",
    "    # or zipfile.ZIP_STORED to just store the file\n",
    "    compression = zipfile.ZIP_DEFLATED\n",
    "    # create the zip file first parameter path/name, second mode\n",
    "    with zipfile.ZipFile(\"result.zip\", mode=\"w\") as zf:\n",
    "        for file_name in file_names:\n",
    "            # Add file to the zip file\n",
    "            # first parameter file to zip, second filename in zip\n",
    "            zf.write('./' + file_name, file_name, compress_type=compression)\n",
    "\n",
    "\n",
    "file_names = [\"df.csv\", \"top_countries\", \"iran_mean\", \"highest_growth\", \"to_stay_or_not_to_stay.ipynb\"]\n",
    "compress(file_names)"
   ]
  }
 ],
 "metadata": {
  "kernelspec": {
   "display_name": "qenv",
   "language": "python",
   "name": "qenv"
  },
  "language_info": {
   "codemirror_mode": {
    "name": "ipython",
    "version": 3
   },
   "file_extension": ".py",
   "mimetype": "text/x-python",
   "name": "python",
   "nbconvert_exporter": "python",
   "pygments_lexer": "ipython3",
   "version": "3.8.10"
  }
 },
 "nbformat": 4,
 "nbformat_minor": 5
}
