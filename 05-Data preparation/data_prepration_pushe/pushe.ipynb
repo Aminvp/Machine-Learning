{
 "cells": [
  {
   "cell_type": "markdown",
   "id": "489e9c0d",
   "metadata": {},
   "source": [
    "<h1 align=center style=\"line-height:200%;font-family:vazir;color:#0099cc\">\n",
    "<font face=\"vazir\" color=\"#0099cc\">\n",
    "پوشه\n",
    "</font>\n",
    "</h1>"
   ]
  },
  {
   "cell_type": "markdown",
   "id": "a831c29a",
   "metadata": {},
   "source": [
    "<p dir=rtl style=\"direction: rtl;text-align: right;line-height:200%;font-family:vazir;font-size:medium\">\n",
    "<font face=\"vazir\" size=3>\n",
    "    هدف این تمرین، دوره کردن مطالب درسنامه‌های قبلی  به کمک تحلیل داده پوشه است.\n",
    "</font>\n",
    "</p>\n",
    "    "
   ]
  },
  {
   "cell_type": "markdown",
   "id": "355641c2",
   "metadata": {},
   "source": [
    "<h3 align=right style=\"line-height:200%;font-family:vazir;color:#0099cc\">\n",
    "<font face=\"vazir\" color=\"#0099cc\">\n",
    "   نوتیفیکیشن چیست؟\n",
    "<br>\n",
    "    به نقل از وبسایت پوشه\n",
    "    </font>\n",
    "</h3>\n",
    "\n",
    "<p dir=rtl style=\"direction: rtl;text-align: right;line-height:200%;font-family:vazir;font-size:medium\">\n",
    "<font face=\"vazir\" size=3>\n",
    "  نوتیفیکیشن یا همان پوش نوتیفیکیشن، یک راه ارتباطی بین مالک اپلیکیشن موبایل یا وب با کاربرانش است. نوتیفیکیشن این اجازه را میدهد که صاحب اپلیکیشن خبر یا اتفاقی جدید را به کاربران خود برساند حتی اگر در آن هنگام کاربر در حال استفاده از اپلیکیشن نباشد.\n",
    "برای مثال توسعه دهنده می خواهد به کاربران خود بگوید که اپلیکیشن را آپدیت کنند یا او می تواند به راحتی از طریق نوتیفیکیشن این اطلاع را به کاربران خود بدهد و همچنین لینک آپدیت را در آن قرار دهد. \n",
    "</font>\n",
    "</p>"
   ]
  },
  {
   "cell_type": "markdown",
   "id": "221a7ee6",
   "metadata": {},
   "source": [
    "<h3 align=right style=\"line-height:200%;font-family:vazir;color:#0099cc\">\n",
    "<font face=\"vazir\" color=\"#0099cc\">\n",
    "   پوشه چیست؟\n",
    "<br>\n",
    "    به نقل از وبسایت پوشه\n",
    "    </font>\n",
    "</h3>\n",
    "\n",
    "<p dir=rtl style=\"direction: rtl;text-align: right;line-height:200%;font-family:vazir;font-size:medium\">\n",
    "<font face=\"vazir\" size=3>\n",
    "    پوشه یک سرویس ارسال پوش نوتیفیکیشن برای نرم افزارهای موبایل و وب است. کسب‌وکارها و توسعه‌دهندگان موبایل و وب به هنگام نوشتن برنامه، ازSDK پوشه در نرم افزار خودشان استفاده می‌کنند تا از طریق آن نرخ بازگشت و میزان درگیر شدن کاربرانشان با برنامه را افزایش دهند و از آمار و فیلترهایی که پوشه در اختیارشان قرار می‌دهد برای بهبود برنامه و افزایش رضایت کاربران بهره ببرند.\n",
    "</font>\n",
    "</p>"
   ]
  },
  {
   "cell_type": "markdown",
   "id": "049c7644",
   "metadata": {},
   "source": [
    "<h2 align=right style=\"line-height:200%;font-family:vazir;color:#0099cc\">\n",
    "<font face=\"vazir\" color=\"#0099cc\">\n",
    "توضیح داده\n",
    "</font>\n",
    "</h2>\n",
    "\n",
    "<p dir=rtl style=\"direction: rtl;text-align: right;line-height:200%;font-family:vazir;font-size:medium\">\n",
    "<font face=\"vazir\" size=3>\n",
    "    حال داده‌ای که ما در اختیار داریم، اطلاعاتی از نوتیفیکیشن‌هایی که به تلفن همراه کاربران ارسال شده‌است را به دست می‌دهد.\n",
    "    <br>\n",
    "    هر سطر از این دیتافریم مشخص می‌کند چه نوتیفیکیشنی، در چه زمانی، توسط چه برنامه‌ای به چه کاربری فرستاده شده‌است و واکنش کاربر نسبت به آن چه بوده‌است.\n",
    "    در جدول زیر ستون‌های داده‌ای که در فایل <i>notifications.csv</i> موجود هست را بررسی می‌کنیم.\n",
    "</font>\n",
    "</p>"
   ]
  },
  {
   "cell_type": "markdown",
   "id": "82cdf091",
   "metadata": {},
   "source": [
    "<div dir=rtl style=\"direction: rtl;text-align: right;line-height:200%;font-family:vazir;font-size:medium\">\n",
    "    <font face=\"vazir\" size=3>\n",
    "    \n",
    "| ستون | توضیح |\n",
    "| ----------- | ------|\n",
    "| action|کلیک کردن (C)، رد کردن (F)|\n",
    "| application_id| شناسه‌ی برنامه|\n",
    "| interaction_time|زمان دریافت پیام|\n",
    "| notification_id| شناسه‌ی نوتیفیکیشن|\n",
    "| user_id| شناسه‌ی کاربر|\n",
    "    </font>\n",
    "</div>"
   ]
  },
  {
   "cell_type": "markdown",
   "id": "a21805eb",
   "metadata": {},
   "source": [
    "<h3 align=right style=\"line-height:200%;font-family:vazir;color:#0099cc\">\n",
    "<font face=\"vazir\" color=\"#0099cc\">\n",
    "توجه\n",
    "</font>\n",
    "</h3>\n",
    "\n",
    "<p dir=rtl style=\"direction: rtl;text-align: right;line-height:200%;font-family:vazir;font-size:medium\">\n",
    "<font face=\"vazir\" size=3>\n",
    "    عددی که در ستون <i>interaction_time</i> آمده‌است بر حسب ثانیه است. این عدد نشان می‌دهد چند ثانیه از تاریخ <b>۲۰۱۹/۶/۱</b> گذشته است.\n",
    "    <br>\n",
    "       به عنوان مثال، زمان ۵۲۵۸۷۰۰ به معنی گذشتن ۵۲۵۸۷۰۰ ثانیه از ۲۰۱۹/۶/۱ است. \n",
    "</font>\n",
    "</p>"
   ]
  },
  {
   "cell_type": "code",
   "execution_count": 1,
   "id": "3bf36d88",
   "metadata": {},
   "outputs": [],
   "source": [
    "import pandas as pd \n",
    "import datetime\n",
    "from datetime import timedelta"
   ]
  },
  {
   "cell_type": "code",
   "execution_count": 2,
   "id": "620704d2",
   "metadata": {},
   "outputs": [
    {
     "data": {
      "text/html": [
       "<div>\n",
       "<style scoped>\n",
       "    .dataframe tbody tr th:only-of-type {\n",
       "        vertical-align: middle;\n",
       "    }\n",
       "\n",
       "    .dataframe tbody tr th {\n",
       "        vertical-align: top;\n",
       "    }\n",
       "\n",
       "    .dataframe thead th {\n",
       "        text-align: right;\n",
       "    }\n",
       "</style>\n",
       "<table border=\"1\" class=\"dataframe\">\n",
       "  <thead>\n",
       "    <tr style=\"text-align: right;\">\n",
       "      <th></th>\n",
       "      <th>action</th>\n",
       "      <th>application_id</th>\n",
       "      <th>interaction_time</th>\n",
       "      <th>notification_id</th>\n",
       "      <th>user_id</th>\n",
       "    </tr>\n",
       "  </thead>\n",
       "  <tbody>\n",
       "    <tr>\n",
       "      <th>0</th>\n",
       "      <td>F</td>\n",
       "      <td>1</td>\n",
       "      <td>4489200</td>\n",
       "      <td>79</td>\n",
       "      <td>665</td>\n",
       "    </tr>\n",
       "    <tr>\n",
       "      <th>1</th>\n",
       "      <td>F</td>\n",
       "      <td>1</td>\n",
       "      <td>4489200</td>\n",
       "      <td>79</td>\n",
       "      <td>6280</td>\n",
       "    </tr>\n",
       "    <tr>\n",
       "      <th>2</th>\n",
       "      <td>F</td>\n",
       "      <td>1</td>\n",
       "      <td>4388400</td>\n",
       "      <td>78</td>\n",
       "      <td>14774</td>\n",
       "    </tr>\n",
       "    <tr>\n",
       "      <th>3</th>\n",
       "      <td>F</td>\n",
       "      <td>1</td>\n",
       "      <td>4410000</td>\n",
       "      <td>78</td>\n",
       "      <td>3152</td>\n",
       "    </tr>\n",
       "    <tr>\n",
       "      <th>4</th>\n",
       "      <td>C</td>\n",
       "      <td>1</td>\n",
       "      <td>4410000</td>\n",
       "      <td>72</td>\n",
       "      <td>3633</td>\n",
       "    </tr>\n",
       "    <tr>\n",
       "      <th>...</th>\n",
       "      <td>...</td>\n",
       "      <td>...</td>\n",
       "      <td>...</td>\n",
       "      <td>...</td>\n",
       "      <td>...</td>\n",
       "    </tr>\n",
       "    <tr>\n",
       "      <th>140723</th>\n",
       "      <td>F</td>\n",
       "      <td>0</td>\n",
       "      <td>993600</td>\n",
       "      <td>13</td>\n",
       "      <td>14760</td>\n",
       "    </tr>\n",
       "    <tr>\n",
       "      <th>140724</th>\n",
       "      <td>F</td>\n",
       "      <td>0</td>\n",
       "      <td>928800</td>\n",
       "      <td>13</td>\n",
       "      <td>2096</td>\n",
       "    </tr>\n",
       "    <tr>\n",
       "      <th>140725</th>\n",
       "      <td>F</td>\n",
       "      <td>0</td>\n",
       "      <td>900000</td>\n",
       "      <td>13</td>\n",
       "      <td>11308</td>\n",
       "    </tr>\n",
       "    <tr>\n",
       "      <th>140726</th>\n",
       "      <td>F</td>\n",
       "      <td>0</td>\n",
       "      <td>885600</td>\n",
       "      <td>13</td>\n",
       "      <td>5975</td>\n",
       "    </tr>\n",
       "    <tr>\n",
       "      <th>140727</th>\n",
       "      <td>F</td>\n",
       "      <td>0</td>\n",
       "      <td>907200</td>\n",
       "      <td>13</td>\n",
       "      <td>15272</td>\n",
       "    </tr>\n",
       "  </tbody>\n",
       "</table>\n",
       "<p>140728 rows × 5 columns</p>\n",
       "</div>"
      ],
      "text/plain": [
       "       action  application_id  interaction_time  notification_id  user_id\n",
       "0           F               1           4489200               79      665\n",
       "1           F               1           4489200               79     6280\n",
       "2           F               1           4388400               78    14774\n",
       "3           F               1           4410000               78     3152\n",
       "4           C               1           4410000               72     3633\n",
       "...       ...             ...               ...              ...      ...\n",
       "140723      F               0            993600               13    14760\n",
       "140724      F               0            928800               13     2096\n",
       "140725      F               0            900000               13    11308\n",
       "140726      F               0            885600               13     5975\n",
       "140727      F               0            907200               13    15272\n",
       "\n",
       "[140728 rows x 5 columns]"
      ]
     },
     "execution_count": 2,
     "metadata": {},
     "output_type": "execute_result"
    }
   ],
   "source": [
    "df = pd.read_csv('./notifications_pushe.csv')\n",
    "df"
   ]
  },
  {
   "cell_type": "markdown",
   "id": "64333e8d",
   "metadata": {},
   "source": [
    "<h2 align=right style=\"line-height:200%;font-family:vazir;color:#0099cc\">\n",
    "<font face=\"vazir\" color=\"#0099cc\">\n",
    "بخش اول: پیش‌پردازش\n",
    "</font>\n",
    "</h2>\n",
    "\n",
    "<p dir=rtl style=\"direction: rtl;text-align: right;line-height:200%;font-family:vazir;font-size:medium\">\n",
    "<font face=\"vazir\" size=3>\n",
    "    در این مرحله باید با استفاده از ستون <i>interaction_time</i> و تاریخ <b>۲۰۱۹/۶/۱</b>، روزی که نوتیفیکیشن ارسال شده‌است را به دست آوریم.\n",
    "    <br>\n",
    "    روزی که نوتیفیکیشن ارسال شده‌است را در ستون جدیدی به اسم <i>date</i> به دیتافریم اضافه کنید.\n",
    "</font>\n",
    "</p>"
   ]
  },
  {
   "cell_type": "markdown",
   "id": "c3cb06c4",
   "metadata": {},
   "source": [
    "<h3 dir=rtl align=right style=\"direction: rtl;text-align: right;line-height:200%;font-family:vazir;color:#0099cc\">\n",
    "<font face=\"vazir\" color=\"#0099cc\">\n",
    "    راهنمایی : معرفی تابع <code>timedelta</code>\n",
    "</font>\n",
    "</h3>\n",
    "\n",
    "<p dir=rtl style=\"direction: rtl;text-align: right;line-height:200%;font-family:vazir;font-size:medium\">\n",
    "<font face=\"vazir\" size=3>\n",
    "   این تابع برای نشان دادن فاصله زمانی به کار می‌رود. مثلا اگر بخواهیم بدانیم ۱۰ روز و ۵۰ ثانیه بعد از زمانی که در متغیر <code>example_time</code> ذخیره شده‌است، چه زمانی است می‌توانیم به شکل زیر عمل کنیم. \n",
    "</font>\n",
    "</p>"
   ]
  },
  {
   "cell_type": "code",
   "execution_count": 3,
   "id": "3c93f1b8",
   "metadata": {},
   "outputs": [
    {
     "data": {
      "text/plain": [
       "datetime.datetime(2021, 10, 1, 0, 0, 50)"
      ]
     },
     "execution_count": 3,
     "metadata": {},
     "output_type": "execute_result"
    }
   ],
   "source": [
    "import datetime \n",
    "from datetime import timedelta\n",
    "\n",
    "example_time = datetime.datetime(2021,9,21)\n",
    "example_time + timedelta(days=10, seconds=50)"
   ]
  },
  {
   "cell_type": "markdown",
   "id": "6847fb96",
   "metadata": {},
   "source": [
    "<p dir=rtl style=\"direction: rtl;text-align: right;line-height:200%;font-family:vazir;font-size:medium\">\n",
    "<font face=\"vazir\" size=3>\n",
    "   اگر بخواهیم بدانیم ۱۰ روز و ۵۰ ثانیه قبل از زمانی که در متغیر <code>example_time</code> ذخیره شده‌است، چه زمانی است می‌توانیم به شکل زیر عمل کنیم. \n",
    "</font>\n",
    "</p>"
   ]
  },
  {
   "cell_type": "code",
   "execution_count": 4,
   "id": "7228c777",
   "metadata": {},
   "outputs": [
    {
     "data": {
      "text/plain": [
       "datetime.datetime(2021, 9, 10, 23, 59, 10)"
      ]
     },
     "execution_count": 4,
     "metadata": {},
     "output_type": "execute_result"
    }
   ],
   "source": [
    "example_time - timedelta(days=10, seconds=50)"
   ]
  },
  {
   "cell_type": "code",
   "execution_count": 5,
   "id": "97496cf4",
   "metadata": {},
   "outputs": [],
   "source": [
    "base = datetime.datetime(2019,6,1)"
   ]
  },
  {
   "cell_type": "code",
   "execution_count": 6,
   "id": "f271799f",
   "metadata": {},
   "outputs": [],
   "source": [
    "df['date'] = df.interaction_time.apply(lambda sec : base + timedelta(seconds=sec))"
   ]
  },
  {
   "cell_type": "code",
   "execution_count": 7,
   "id": "88c80099",
   "metadata": {},
   "outputs": [],
   "source": [
    "df.action = df.action.map({'F': 0, 'C': 1})"
   ]
  },
  {
   "cell_type": "markdown",
   "id": "6b43f14b",
   "metadata": {},
   "source": [
    "<h2 align=right style=\"line-height:200%;font-family:vazir;color:#0099cc\">\n",
    "<font face=\"vazir\" color=\"#0099cc\">\n",
    "بخش دوم: تحلیل اپلیکیشن‌ها\n",
    "</font>\n",
    "</h2>\n",
    "\n",
    "<p dir=rtl style=\"direction: rtl;text-align: right;line-height:200%;font-family:vazir;font-size:medium\">\n",
    "<font face=\"vazir\" size=3>\n",
    "    می‌خواهیم بدانیم کدام اپلیکیشن، در ارسال نوتیفیکیشن‌ موفق‌ عمل کرده است.\n",
    "    <br>\n",
    "    به ازای هر اپلیکیشن، نرخ کلیک‌شدن به کلیک نشدن نوتیفیکیشن‌ها را به دست آورید. به عنوان مثال اگر اپلیکیشن شماره ۱۰، از مجموع ۱۰۰ نوتیفیکیشنی که ارسال کرده‌است، ۱۰ نوتیفیکیشن توسط کاربران کلیک شده‌باشد، نرخ کلیک‌شدن نوتیفیکیشن‌های اپلیکیشن‌شماره ۱۰، عدد ۰/۱ خواهدبود.\n",
    "    <br>\n",
    "    موفق‌ترین اپلیکیشن، اپلیکیشنی است که نرخ کلیک‌شدن نوتیفیکیشن‌هایش از همه بیشتر باشد.\n",
    "    <br>\n",
    "    موفق‌ترین اپلیکیشن‌ را به همراه نرخ‌کلیک‌شدنش در تاپلی به اسم <code>tuple_appid_successrate</code> ذخیره کنید. به صورتی که عنصر اول تاپل، شناسه اپلیکیشن موفق و عنصر دوم تاپل، نرخ کلیک‌شدن نوتیفیکیشن‌هایش باشد.\n",
    "    <br>\n",
    "    اعدادی که در مثال بالا اشاره شد، هیچ اعتباری ندارند و کاملا تصادفی تولید شده‌اند. بنابراین جوابی که شما به دست خواهید‌آورد، ممکن است با این اعداد تفاوت داشته باشد.\n",
    "</font>\n",
    "</p>"
   ]
  },
  {
   "cell_type": "code",
   "execution_count": 8,
   "id": "3ac71c86",
   "metadata": {},
   "outputs": [],
   "source": [
    "df_groupedby_appid = df.groupby(['application_id'])[['action']].mean()"
   ]
  },
  {
   "cell_type": "code",
   "execution_count": 9,
   "id": "8d79b72f",
   "metadata": {},
   "outputs": [
    {
     "data": {
      "text/html": [
       "<div>\n",
       "<style scoped>\n",
       "    .dataframe tbody tr th:only-of-type {\n",
       "        vertical-align: middle;\n",
       "    }\n",
       "\n",
       "    .dataframe tbody tr th {\n",
       "        vertical-align: top;\n",
       "    }\n",
       "\n",
       "    .dataframe thead th {\n",
       "        text-align: right;\n",
       "    }\n",
       "</style>\n",
       "<table border=\"1\" class=\"dataframe\">\n",
       "  <thead>\n",
       "    <tr style=\"text-align: right;\">\n",
       "      <th></th>\n",
       "      <th>action</th>\n",
       "    </tr>\n",
       "    <tr>\n",
       "      <th>application_id</th>\n",
       "      <th></th>\n",
       "    </tr>\n",
       "  </thead>\n",
       "  <tbody>\n",
       "    <tr>\n",
       "      <th>0</th>\n",
       "      <td>0.110793</td>\n",
       "    </tr>\n",
       "    <tr>\n",
       "      <th>1</th>\n",
       "      <td>0.185299</td>\n",
       "    </tr>\n",
       "    <tr>\n",
       "      <th>2</th>\n",
       "      <td>0.082096</td>\n",
       "    </tr>\n",
       "  </tbody>\n",
       "</table>\n",
       "</div>"
      ],
      "text/plain": [
       "                  action\n",
       "application_id          \n",
       "0               0.110793\n",
       "1               0.185299\n",
       "2               0.082096"
      ]
     },
     "execution_count": 9,
     "metadata": {},
     "output_type": "execute_result"
    }
   ],
   "source": [
    "df_groupedby_appid"
   ]
  },
  {
   "cell_type": "code",
   "execution_count": 10,
   "id": "c1ea37db",
   "metadata": {},
   "outputs": [],
   "source": [
    "tuple_appid_successrate = (1,0.185299)"
   ]
  },
  {
   "cell_type": "markdown",
   "id": "a3193b34",
   "metadata": {},
   "source": [
    "<h2 align=right style=\"line-height:200%;font-family:vazir;color:#0099cc\">\n",
    "<font face=\"vazir\" color=\"#0099cc\">\n",
    "بخش سوم: تحلیل نوتیفیکیشن‌ها\n",
    "</font>\n",
    "</h2>\n",
    "\n",
    "<p dir=rtl style=\"direction: rtl;text-align: right;line-height:200%;font-family:vazir;font-size:medium\">\n",
    "<font face=\"vazir\" size=3>\n",
    "    می‌خواهیم بدانیم کدام نوتیفیکیشن در کلیک‌شدن موفق ظاهر شده‌است.\n",
    "    <br>\n",
    "    <br>\n",
    "    موفق‌ترین نوتیفیکیشن نوتیفیکیشنی است که نرخ کلیک‌شدنش از همه بیشتر باشد.\n",
    "    <br>\n",
    "    موفق‌ترین نوتیفیکیشن‌ را به همراه روزی از هفته که در آن، نوتیفیکیشن بیشتر کلیلک شده، در تاپلی به اسم <code>tuple_notifid_day</code> ذخیره کنید. به صورتی که عنصر اول تاپل، شناسه نوتیفیکیشن موفق و عنصر دوم تاپل، نام روزی از هفته باشد.\n",
    "    <br>\n",
    "    تصویر کنید نوتیفیکیشنی با شناسه ۱۱۰۰ در روز شنبه ۱۰۰ کلیک، یکشنبه ۱۳۰ کلیک، دوشنبه ۳۰ کلیک، سه‌شنبه ۹۰ کلیک، چهارشنبه ۴۵ کلیک، پنج‌شنبه ۴ کلیک و جمعه هیچ‌کلیکی نداشته باشد.\n",
    "    <br>\n",
    "    در این صورت، یکشنبه (Sunday) روزی است که نوتیفیکیشنی با شناسه ۱۱۰۰، بیشترین کلیک‌ را خورده است.\n",
    "    <br>\n",
    "    با فرض اینکه، نوتیفیکیشنی با شناسه ۱۱۰۰، موفق‌ترین نوتیفیکیشن بوده‌است، تاپل <code>tuple_notifid_day</code> به صورت زیر باید مقداردهی شود.  \n",
    "</font>\n",
    "</p>\n",
    "\n",
    "```python\n",
    "tuple_notifid_day = (1100, \"Sunday\")\n",
    "```\n",
    "\n",
    "\n",
    "<p dir=rtl style=\"direction: rtl;text-align: right;line-height:200%;font-family:vazir;font-size:medium\">\n",
    "<font face=\"vazir\" size=3>\n",
    "    اعدادی که در مثال بالا اشاره شد، هیچ اعتباری ندارند و کاملا تصادفی تولید شده‌اند. بنابراین جوابی که شما به دست خواهید‌آورد، ممکن است با این اعداد تفاوت داشته باشد. \n",
    "</font>\n",
    "</p>\n"
   ]
  },
  {
   "cell_type": "code",
   "execution_count": 11,
   "id": "0dfc1a00",
   "metadata": {},
   "outputs": [
    {
     "data": {
      "text/html": [
       "<div>\n",
       "<style scoped>\n",
       "    .dataframe tbody tr th:only-of-type {\n",
       "        vertical-align: middle;\n",
       "    }\n",
       "\n",
       "    .dataframe tbody tr th {\n",
       "        vertical-align: top;\n",
       "    }\n",
       "\n",
       "    .dataframe thead th {\n",
       "        text-align: right;\n",
       "    }\n",
       "</style>\n",
       "<table border=\"1\" class=\"dataframe\">\n",
       "  <thead>\n",
       "    <tr style=\"text-align: right;\">\n",
       "      <th></th>\n",
       "      <th>action</th>\n",
       "    </tr>\n",
       "    <tr>\n",
       "      <th>notification_id</th>\n",
       "      <th></th>\n",
       "    </tr>\n",
       "  </thead>\n",
       "  <tbody>\n",
       "    <tr>\n",
       "      <th>79</th>\n",
       "      <td>0.326065</td>\n",
       "    </tr>\n",
       "    <tr>\n",
       "      <th>43</th>\n",
       "      <td>0.288956</td>\n",
       "    </tr>\n",
       "    <tr>\n",
       "      <th>24</th>\n",
       "      <td>0.269841</td>\n",
       "    </tr>\n",
       "    <tr>\n",
       "      <th>47</th>\n",
       "      <td>0.265475</td>\n",
       "    </tr>\n",
       "    <tr>\n",
       "      <th>49</th>\n",
       "      <td>0.265306</td>\n",
       "    </tr>\n",
       "    <tr>\n",
       "      <th>...</th>\n",
       "      <td>...</td>\n",
       "    </tr>\n",
       "    <tr>\n",
       "      <th>20</th>\n",
       "      <td>0.062804</td>\n",
       "    </tr>\n",
       "    <tr>\n",
       "      <th>98</th>\n",
       "      <td>0.060012</td>\n",
       "    </tr>\n",
       "    <tr>\n",
       "      <th>69</th>\n",
       "      <td>0.053131</td>\n",
       "    </tr>\n",
       "    <tr>\n",
       "      <th>9</th>\n",
       "      <td>0.052919</td>\n",
       "    </tr>\n",
       "    <tr>\n",
       "      <th>82</th>\n",
       "      <td>0.051839</td>\n",
       "    </tr>\n",
       "  </tbody>\n",
       "</table>\n",
       "<p>100 rows × 1 columns</p>\n",
       "</div>"
      ],
      "text/plain": [
       "                   action\n",
       "notification_id          \n",
       "79               0.326065\n",
       "43               0.288956\n",
       "24               0.269841\n",
       "47               0.265475\n",
       "49               0.265306\n",
       "...                   ...\n",
       "20               0.062804\n",
       "98               0.060012\n",
       "69               0.053131\n",
       "9                0.052919\n",
       "82               0.051839\n",
       "\n",
       "[100 rows x 1 columns]"
      ]
     },
     "execution_count": 11,
     "metadata": {},
     "output_type": "execute_result"
    }
   ],
   "source": [
    "df_groupedby_notifid = df.groupby(['notification_id'])[['action']].mean()\n",
    "df_groupedby_notifid.sort_values('action',ascending=False)"
   ]
  },
  {
   "cell_type": "code",
   "execution_count": 12,
   "id": "ccc682d7",
   "metadata": {},
   "outputs": [
    {
     "data": {
      "text/plain": [
       "Monday       241\n",
       "Tuesday       87\n",
       "Wednesday      1\n",
       "Name: date, dtype: int64"
      ]
     },
     "execution_count": 12,
     "metadata": {},
     "output_type": "execute_result"
    }
   ],
   "source": [
    "df[(df.notification_id == 79) & (df.action == 1)].date.dt.day_name().value_counts()"
   ]
  },
  {
   "cell_type": "code",
   "execution_count": 13,
   "id": "8ce4ace4",
   "metadata": {},
   "outputs": [],
   "source": [
    "tuple_notifid_day = (79,\"Monday\")"
   ]
  },
  {
   "cell_type": "markdown",
   "id": "d1f6be75",
   "metadata": {},
   "source": [
    "<h2 align=right style=\"line-height:200%;font-family:vazir;color:#0099cc\">\n",
    "<font face=\"vazir\" color=\"#0099cc\">\n",
    "بخش چهارم: تحلیل روز‌ها\n",
    "</font>\n",
    "</h2>\n",
    "\n",
    "<p dir=rtl style=\"direction: rtl;text-align: right;line-height:200%;font-family:vazir;font-size:medium\">\n",
    "<font face=\"vazir\" size=3>\n",
    "   هدف بخش چهارم آن است که بدانیم در چه روز‌هایی از ماه، نرخ کلیک‌شدن نوتیفیکیشن‌ها بیشتر است.\n",
    "    <br>\n",
    "    به عبارت ساده‌تر، دیتافریم را بر اساس روزی که نوتیفیکیشن ارسال شده‌است، گروه‌بندی کنید؛ سپس محاسبه کنید در هر روز، نرخ کلیک‌شدن نوتیفیکیشن‌ها چه مقدار بوده‌است.\n",
    "    <br>\n",
    "    در نهایت روزی که بیشترین نرخ را دارد به همراه نرخ آن روز، در تاپلی به اسم <code>tuple_day_rate</code> ذخیره کنید.\n",
    "    <br>\n",
    "    به عنوان مثال اگر روز ۱۵ ام دارای نرخ ۰/۸۵ باشد (بیشترین نرخ در بین همه ۳۰ روز)، تاپل <code>tuple_day_rate</code> را مانند زیر پر کنید.\n",
    "</font>\n",
    "</p>\n",
    "\n",
    "```python\n",
    "tuple_day_rate = (15, 0.85)\n",
    "```\n",
    "\n",
    "<p dir=rtl style=\"direction: rtl;text-align: right;line-height:200%;font-family:vazir;font-size:medium\">\n",
    "<font face=\"vazir\" size=3>\n",
    "    اعدادی که در مثال بالا اشاره شد، هیچ اعتباری ندارند و کاملا تصادفی تولید شده‌اند. بنابراین جوابی که شما به دست خواهید‌آورد، ممکن است با این اعداد تفاوت داشته باشد. \n",
    "</font>\n",
    "</p>\n"
   ]
  },
  {
   "cell_type": "code",
   "execution_count": 14,
   "id": "e86308c8",
   "metadata": {},
   "outputs": [],
   "source": [
    "df['day'] = df.date.dt.day"
   ]
  },
  {
   "cell_type": "code",
   "execution_count": 15,
   "id": "b031bd6b",
   "metadata": {},
   "outputs": [],
   "source": [
    "sorted_by_day = df.sort_values('day')"
   ]
  },
  {
   "cell_type": "code",
   "execution_count": 16,
   "id": "8fc353a1",
   "metadata": {},
   "outputs": [
    {
     "data": {
      "text/html": [
       "<div>\n",
       "<style scoped>\n",
       "    .dataframe tbody tr th:only-of-type {\n",
       "        vertical-align: middle;\n",
       "    }\n",
       "\n",
       "    .dataframe tbody tr th {\n",
       "        vertical-align: top;\n",
       "    }\n",
       "\n",
       "    .dataframe thead th {\n",
       "        text-align: right;\n",
       "    }\n",
       "</style>\n",
       "<table border=\"1\" class=\"dataframe\">\n",
       "  <thead>\n",
       "    <tr style=\"text-align: right;\">\n",
       "      <th></th>\n",
       "      <th>action</th>\n",
       "    </tr>\n",
       "    <tr>\n",
       "      <th>day</th>\n",
       "      <th></th>\n",
       "    </tr>\n",
       "  </thead>\n",
       "  <tbody>\n",
       "    <tr>\n",
       "      <th>22</th>\n",
       "      <td>0.264860</td>\n",
       "    </tr>\n",
       "    <tr>\n",
       "      <th>5</th>\n",
       "      <td>0.260520</td>\n",
       "    </tr>\n",
       "    <tr>\n",
       "      <th>1</th>\n",
       "      <td>0.213523</td>\n",
       "    </tr>\n",
       "    <tr>\n",
       "      <th>3</th>\n",
       "      <td>0.195732</td>\n",
       "    </tr>\n",
       "    <tr>\n",
       "      <th>31</th>\n",
       "      <td>0.179181</td>\n",
       "    </tr>\n",
       "    <tr>\n",
       "      <th>12</th>\n",
       "      <td>0.176798</td>\n",
       "    </tr>\n",
       "    <tr>\n",
       "      <th>13</th>\n",
       "      <td>0.176398</td>\n",
       "    </tr>\n",
       "    <tr>\n",
       "      <th>4</th>\n",
       "      <td>0.173407</td>\n",
       "    </tr>\n",
       "    <tr>\n",
       "      <th>7</th>\n",
       "      <td>0.155512</td>\n",
       "    </tr>\n",
       "    <tr>\n",
       "      <th>28</th>\n",
       "      <td>0.153322</td>\n",
       "    </tr>\n",
       "    <tr>\n",
       "      <th>25</th>\n",
       "      <td>0.152103</td>\n",
       "    </tr>\n",
       "    <tr>\n",
       "      <th>17</th>\n",
       "      <td>0.146667</td>\n",
       "    </tr>\n",
       "    <tr>\n",
       "      <th>15</th>\n",
       "      <td>0.145578</td>\n",
       "    </tr>\n",
       "    <tr>\n",
       "      <th>26</th>\n",
       "      <td>0.139765</td>\n",
       "    </tr>\n",
       "    <tr>\n",
       "      <th>21</th>\n",
       "      <td>0.137998</td>\n",
       "    </tr>\n",
       "    <tr>\n",
       "      <th>16</th>\n",
       "      <td>0.137902</td>\n",
       "    </tr>\n",
       "    <tr>\n",
       "      <th>23</th>\n",
       "      <td>0.137838</td>\n",
       "    </tr>\n",
       "    <tr>\n",
       "      <th>14</th>\n",
       "      <td>0.127208</td>\n",
       "    </tr>\n",
       "    <tr>\n",
       "      <th>19</th>\n",
       "      <td>0.124648</td>\n",
       "    </tr>\n",
       "    <tr>\n",
       "      <th>6</th>\n",
       "      <td>0.120930</td>\n",
       "    </tr>\n",
       "    <tr>\n",
       "      <th>18</th>\n",
       "      <td>0.119910</td>\n",
       "    </tr>\n",
       "    <tr>\n",
       "      <th>29</th>\n",
       "      <td>0.117621</td>\n",
       "    </tr>\n",
       "    <tr>\n",
       "      <th>27</th>\n",
       "      <td>0.112607</td>\n",
       "    </tr>\n",
       "    <tr>\n",
       "      <th>8</th>\n",
       "      <td>0.109153</td>\n",
       "    </tr>\n",
       "    <tr>\n",
       "      <th>9</th>\n",
       "      <td>0.100520</td>\n",
       "    </tr>\n",
       "    <tr>\n",
       "      <th>24</th>\n",
       "      <td>0.099190</td>\n",
       "    </tr>\n",
       "    <tr>\n",
       "      <th>10</th>\n",
       "      <td>0.096081</td>\n",
       "    </tr>\n",
       "    <tr>\n",
       "      <th>11</th>\n",
       "      <td>0.089611</td>\n",
       "    </tr>\n",
       "    <tr>\n",
       "      <th>20</th>\n",
       "      <td>0.082825</td>\n",
       "    </tr>\n",
       "    <tr>\n",
       "      <th>30</th>\n",
       "      <td>0.081576</td>\n",
       "    </tr>\n",
       "    <tr>\n",
       "      <th>2</th>\n",
       "      <td>0.080476</td>\n",
       "    </tr>\n",
       "  </tbody>\n",
       "</table>\n",
       "</div>"
      ],
      "text/plain": [
       "       action\n",
       "day          \n",
       "22   0.264860\n",
       "5    0.260520\n",
       "1    0.213523\n",
       "3    0.195732\n",
       "31   0.179181\n",
       "12   0.176798\n",
       "13   0.176398\n",
       "4    0.173407\n",
       "7    0.155512\n",
       "28   0.153322\n",
       "25   0.152103\n",
       "17   0.146667\n",
       "15   0.145578\n",
       "26   0.139765\n",
       "21   0.137998\n",
       "16   0.137902\n",
       "23   0.137838\n",
       "14   0.127208\n",
       "19   0.124648\n",
       "6    0.120930\n",
       "18   0.119910\n",
       "29   0.117621\n",
       "27   0.112607\n",
       "8    0.109153\n",
       "9    0.100520\n",
       "24   0.099190\n",
       "10   0.096081\n",
       "11   0.089611\n",
       "20   0.082825\n",
       "30   0.081576\n",
       "2    0.080476"
      ]
     },
     "execution_count": 16,
     "metadata": {},
     "output_type": "execute_result"
    }
   ],
   "source": [
    "sorted_by_day.groupby('day')[['action']].mean().sort_values('action', ascending=False)"
   ]
  },
  {
   "cell_type": "code",
   "execution_count": 17,
   "id": "285f838f",
   "metadata": {},
   "outputs": [],
   "source": [
    "tuple_day_rate = (22, 0.264860)"
   ]
  },
  {
   "cell_type": "markdown",
   "id": "afea4713",
   "metadata": {},
   "source": [
    "<h2 align=right style=\"line-height:200%;font-family:vazir;color:#0099cc\">\n",
    "<font face=\"vazir\" color=\"#0099cc\">\n",
    "<b>سلول جواب‌ساز</b>\n",
    "</font>\n",
    "</h2>\n"
   ]
  },
  {
   "cell_type": "code",
   "execution_count": 18,
   "id": "562fb626",
   "metadata": {},
   "outputs": [
    {
     "name": "stdout",
     "output_type": "stream",
     "text": [
      "File Paths:\n",
      "['date.csv', 'tuple_appid_successrate', 'tuple_notifid_day', 'tuple_day_rate', 'pushe.ipynb']\n"
     ]
    }
   ],
   "source": [
    "import zipfile\n",
    "import joblib\n",
    "\n",
    "df[['date']].to_csv('date.csv', index=False)\n",
    "joblib.dump(tuple_appid_successrate,\"tuple_appid_successrate\")\n",
    "joblib.dump(tuple_notifid_day, 'tuple_notifid_day')\n",
    "joblib.dump(tuple_day_rate, 'tuple_day_rate')\n",
    "\n",
    "def compress(file_names):\n",
    "    print(\"File Paths:\")\n",
    "    print(file_names)\n",
    "    # Select the compression mode ZIP_DEFLATED for compression\n",
    "    # or zipfile.ZIP_STORED to just store the file\n",
    "    compression = zipfile.ZIP_DEFLATED\n",
    "    # create the zip file first parameter path/name, second mode\n",
    "    with zipfile.ZipFile(\"result.zip\", mode=\"w\") as zf:\n",
    "        for file_name in file_names:\n",
    "            # Add file to the zip file\n",
    "            # first parameter file to zip, second filename in zip\n",
    "            zf.write('./' + file_name, file_name, compress_type=compression)\n",
    "\n",
    "\n",
    "file_names = [\"date.csv\", \"tuple_appid_successrate\", \"tuple_notifid_day\", \"tuple_day_rate\", \"pushe.ipynb\"]\n",
    "compress(file_names)"
   ]
  },
  {
   "cell_type": "markdown",
   "id": "74527a15",
   "metadata": {},
   "source": [
    "<h3 align=right style=\"line-height:200%;font-family:vazir;color:#0099cc\">\n",
    "<font face=\"vazir\" color=\"#0099cc\">\n",
    "استفاده از مصورسازی\n",
    "</font>\n",
    "</h3>\n",
    "\n",
    "<p dir=rtl style=\"direction: rtl;text-align: right;line-height:200%;font-family:vazir;font-size:medium\">\n",
    "<font face=\"vazir\" size=3>\n",
    "    هر چند هنوز با مصورسازی آشنا نشده‌اید، اما صرفا برای نشان دادن میزان کاربردی‌بودن مصورسازی، قسمت چهارم همین تمرین را با مصورسازی هم حل کرده‌ایم.\n",
    "    <br>\n",
    "    اگر کدهای سلول زیر را متوجه نمی‌شوید، هیچ ایرادی ندارد. در فصل مصورسازی کاملا با این مباحث آشنا خواهیدشد. در حال حاضر فقط سلول زیر را اجرا کنید و از نتیجه لذت ببرید.\n",
    "</font>\n",
    "</p>\n",
    "\n",
    "\n",
    "<p dir=rtl style=\"direction: rtl;text-align: right;line-height:200%;font-family:vazir;font-size:medium\">\n",
    "<font face=\"vazir\" size=3>\n",
    "    کتابخانه seaborn باید در محیط مجازی شما نصب شده‌باشد.\n",
    "</font>\n",
    "</p>"
   ]
  },
  {
   "cell_type": "code",
   "execution_count": 19,
   "id": "13ed6ee1",
   "metadata": {},
   "outputs": [
    {
     "data": {
      "text/plain": [
       "<AxesSubplot:xlabel='day', ylabel='action'>"
      ]
     },
     "execution_count": 19,
     "metadata": {},
     "output_type": "execute_result"
    },
    {
     "data": {
      "image/png": "[encoded data removed]",
      "text/plain": [
       "<Figure size 432x288 with 1 Axes>"
      ]
     },
     "metadata": {
      "needs_background": "light"
     },
     "output_type": "display_data"
    }
   ],
   "source": [
    "import seaborn as sns\n",
    "\n",
    "sns.barplot(x='day',y='action',data=sorted_by_day,ci=None)"
   ]
  }
 ],
 "metadata": {
  "kernelspec": {
   "display_name": "Python 3.8.10 ('qenv')",
   "language": "python",
   "name": "python3"
  },
  "language_info": {
   "codemirror_mode": {
    "name": "ipython",
    "version": 3
   },
   "file_extension": ".py",
   "mimetype": "text/x-python",
   "name": "python",
   "nbconvert_exporter": "python",
   "pygments_lexer": "ipython3",
   "version": "3.8.10"
  },
  "vscode": {
   "interpreter": {
    "hash": "5a1bb91d0b363fd24c2566dc1a793557fd9661bf7dab1cbe66bc1a256b7c564f"
   }
  }
 },
 "nbformat": 4,
 "nbformat_minor": 5
}
