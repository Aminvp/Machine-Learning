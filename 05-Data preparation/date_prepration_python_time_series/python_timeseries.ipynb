{
 "cells": [
  {
   "cell_type": "markdown",
   "id": "deb9bce1",
   "metadata": {},
   "source": [
    "<h1 align=center style=\"line-height:200%;font-family:vazir;color:#0099cc\">\n",
    "<font face=\"vazir\" color=\"#0099cc\">\n",
    "سری زمانی:‌یادآوری پایتون\n",
    "</font>\n",
    "</h1>\n"
   ]
  },
  {
   "cell_type": "code",
   "execution_count": 1,
   "id": "14a732d0",
   "metadata": {},
   "outputs": [],
   "source": [
    "import pandas as pd "
   ]
  },
  {
   "cell_type": "markdown",
   "id": "83647fee",
   "metadata": {},
   "source": [
    "<h2 align=right style=\"direction: rtl;text-align: right;line-height:200%;font-family:vazir;color:#0099cc\">\n",
    "<font face=\"vazir\" color=\"#0099cc\">\n",
    " نوع date\n",
    "</font>\n",
    "</h2>\n",
    "<p dir=rtl style=\"direction: rtl;text-align: right;line-height:200%;font-family:vazir;font-size:medium\">\n",
    "<font face=\"vazir\" size=3>\n",
    "    برای ذخیره‌سازی تاریخ استفاده می‌شود.\n",
    "</font>\n",
    "</p>\n",
    "\n"
   ]
  },
  {
   "cell_type": "code",
   "execution_count": 2,
   "id": "f40783f4",
   "metadata": {},
   "outputs": [
    {
     "name": "stdout",
     "output_type": "stream",
     "text": [
      "2021-09-03\n"
     ]
    }
   ],
   "source": [
    "from datetime import date\n",
    "today = date(2021,9,3)\n",
    "print(today)"
   ]
  },
  {
   "cell_type": "markdown",
   "id": "d9f446d2",
   "metadata": {},
   "source": [
    "<h2 align=right style=\"direction: rtl;text-align: right;line-height:200%;font-family:vazir;color:#0099cc\">\n",
    "<font face=\"vazir\" color=\"#0099cc\">\n",
    "توابع و ویژگی‌های اشیائی از نوع date\n",
    "</font>\n",
    "</h2>\n",
    "<p dir=rtl style=\"direction: rtl;text-align: right;line-height:200%;font-family:vazir;font-size:medium\">\n",
    "<font face=\"vazir\" size=3>\n",
    "چون از اسم ویژگی‌ها و توابع می‌توان به کارکردشان پی برد، از نوشتن توضیحات اضافه خودداری کردیم!\n",
    "</font>\n",
    "</p>\n",
    "\n"
   ]
  },
  {
   "cell_type": "code",
   "execution_count": 3,
   "id": "97a3b0de",
   "metadata": {},
   "outputs": [
    {
     "name": "stdout",
     "output_type": "stream",
     "text": [
      "2021\n",
      "9\n",
      "3\n",
      "4\n"
     ]
    }
   ],
   "source": [
    "print(today.year)\n",
    "print(today.month)\n",
    "print(today.day)\n",
    "print(today.weekday())"
   ]
  },
  {
   "cell_type": "markdown",
   "id": "b423108b",
   "metadata": {},
   "source": [
    "<h2 align=right style=\"direction: rtl;text-align: right;line-height:200%;font-family:vazir;color:#0099cc\">\n",
    "<font face=\"vazir\" color=\"#0099cc\">\n",
    " نوع time\n",
    "</font>\n",
    "</h2>\n",
    "<p dir=rtl style=\"direction: rtl;text-align: right;line-height:200%;font-family:vazir;font-size:medium\">\n",
    "<font face=\"vazir\" size=3>\n",
    "    برای ذخیره‌سازی ساعت استفاده می‌شود.\n",
    "</font>\n",
    "</p>\n",
    "\n"
   ]
  },
  {
   "cell_type": "code",
   "execution_count": 4,
   "id": "2e96e4a8",
   "metadata": {},
   "outputs": [
    {
     "data": {
      "text/plain": [
       "datetime.time(23, 14, 5, 10)"
      ]
     },
     "execution_count": 4,
     "metadata": {},
     "output_type": "execute_result"
    }
   ],
   "source": [
    "from datetime import time\n",
    "t_now = time(23,14,5,10)\n",
    "t_now"
   ]
  },
  {
   "cell_type": "markdown",
   "id": "7b82eebb",
   "metadata": {},
   "source": [
    "<h2 align=right style=\"direction: rtl;text-align: right;line-height:200%;font-family:vazir;color:#0099cc\">\n",
    "<font face=\"vazir\" color=\"#0099cc\">\n",
    "توابع و ویژگی‌های اشیائی از نوع time\n",
    "</font>\n",
    "</h2>\n",
    "<p dir=rtl style=\"direction: rtl;text-align: right;line-height:200%;font-family:vazir;font-size:medium\">\n",
    "<font face=\"vazir\" size=3>\n",
    "چون از اسم ویژگی‌ها و توابع می‌توان به کارکردشان پی برد، از نوشتن توضیحات اضافه خودداری کردیم!\n",
    "</font>\n",
    "</p>\n",
    "\n"
   ]
  },
  {
   "cell_type": "code",
   "execution_count": 5,
   "id": "60a9c787",
   "metadata": {},
   "outputs": [
    {
     "name": "stdout",
     "output_type": "stream",
     "text": [
      "23\n",
      "14\n",
      "5\n",
      "10\n"
     ]
    }
   ],
   "source": [
    "print(t_now.hour)\n",
    "print(t_now.minute)\n",
    "print(t_now.second)\n",
    "print(t_now.microsecond)"
   ]
  },
  {
   "cell_type": "markdown",
   "id": "8b917189",
   "metadata": {},
   "source": [
    "<h2 align=right style=\"direction: rtl;text-align: right;line-height:200%;font-family:vazir;color:#0099cc\">\n",
    "<font face=\"vazir\" color=\"#0099cc\">\n",
    " نوع datetime\n",
    "</font>\n",
    "</h2>\n",
    "<p dir=rtl style=\"direction: rtl;text-align: right;line-height:200%;font-family:vazir;font-size:medium\">\n",
    "<font face=\"vazir\" size=3>\n",
    "    برای ذخیره‌سازی تاریخ و ساعت به صورت توام استفاده می‌شود.\n",
    "</font>\n",
    "</p>\n",
    "\n"
   ]
  },
  {
   "cell_type": "code",
   "execution_count": 6,
   "id": "3c8e1279",
   "metadata": {},
   "outputs": [
    {
     "name": "stdout",
     "output_type": "stream",
     "text": [
      "2021-09-03 23:14:05.000010\n"
     ]
    }
   ],
   "source": [
    "from datetime import datetime\n",
    "now = datetime(2021,9,3, 23,14,5,10)\n",
    "\n",
    "print(now)"
   ]
  },
  {
   "cell_type": "markdown",
   "id": "1271b235",
   "metadata": {},
   "source": [
    "<h2 align=right style=\"direction: rtl;text-align: right;line-height:200%;font-family:vazir;color:#0099cc\">\n",
    "<font face=\"vazir\" color=\"#0099cc\">\n",
    "توابع و ویژگی‌های اشیائی از نوع datetime\n",
    "</font>\n",
    "</h2>\n",
    "<p dir=rtl style=\"direction: rtl;text-align: right;line-height:200%;font-family:vazir;font-size:medium\">\n",
    "<font face=\"vazir\" size=3>\n",
    "    همانطور که در درسنامه موجود در کالج اشاره کردیم، این جنس ترکیب date و time است.\n",
    "        پس با تابع date می‌توانیم قسمت date آن را جدا کنیم و با تابع time هم به قسمت time آن دسترسی داشته باشیم.\n",
    "        <br>\n",
    "        سپس برای هر قسمت، توابع و ویژگی‌هایی که برایش تعریف شده را می‌توانیم استفاده کنیم. \n",
    "</font>\n",
    "</p>\n",
    "\n",
    "\n",
    "\n"
   ]
  },
  {
   "cell_type": "code",
   "execution_count": 7,
   "id": "741bb94c",
   "metadata": {},
   "outputs": [
    {
     "name": "stdout",
     "output_type": "stream",
     "text": [
      "2021-09-03\n",
      "2021\n",
      "9\n",
      "3\n"
     ]
    }
   ],
   "source": [
    "now_date = now.date()\n",
    "print(now_date)\n",
    "print(now_date.year)\n",
    "print(now_date.month)\n",
    "print(now_date.day)"
   ]
  },
  {
   "cell_type": "code",
   "execution_count": 8,
   "id": "d67b52f7",
   "metadata": {},
   "outputs": [
    {
     "name": "stdout",
     "output_type": "stream",
     "text": [
      "23:14:05.000010\n",
      "23\n",
      "14\n",
      "5\n",
      "10\n"
     ]
    }
   ],
   "source": [
    "now_time = now.time()\n",
    "print(now_time)\n",
    "print(now_time.hour)\n",
    "print(now_time.minute)\n",
    "print(now_time.second)\n",
    "print(now_time.microsecond)"
   ]
  },
  {
   "cell_type": "markdown",
   "id": "0e1d5898",
   "metadata": {},
   "source": [
    "<h2 align=right style=\"direction: rtl;text-align: right;line-height:200%;font-family:vazir;color:#0099cc\">\n",
    "<font face=\"vazir\" color=\"#0099cc\">\n",
    " نوع timedelta\n",
    "</font>\n",
    "</h2>"
   ]
  },
  {
   "cell_type": "code",
   "execution_count": 7,
   "id": "fb0b6b93",
   "metadata": {},
   "outputs": [
    {
     "data": {
      "text/plain": [
       "datetime.timedelta(days=758)"
      ]
     },
     "execution_count": 7,
     "metadata": {},
     "output_type": "execute_result"
    }
   ],
   "source": [
    "t1 = date(2019,10,5)\n",
    "t2 = date(2021, 11, 1)\n",
    "t2 - t1"
   ]
  },
  {
   "cell_type": "markdown",
   "id": "49c98cae",
   "metadata": {},
   "source": [
    "<h2 align=right style=\"direction: rtl;text-align: right;line-height:200%;font-family:vazir;color:#0099cc\">\n",
    "<font face=\"vazir\" color=\"#0099cc\">\n",
    " مثال\n",
    "</font>\n",
    "</h2>\n",
    "<p dir=rtl style=\"direction: rtl;text-align: right;line-height:200%;font-family:vazir;font-size:medium\">\n",
    "<font face=\"vazir\" size=3>\n",
    "    در متغیری از این جنس تفاوت بین دو تاریخ (date) یا دو تاریخ-ساعت (datetime) ذخیره می‌شود.\n",
    "    <br>\n",
    "    در مثال زیر، یک روز پس از ۲۰۲۱/۸/۳۱ را با جمع کردن متغیر <code>end_of_month</code> و <code>difference</code> به دست می‌آوریم.\n",
    "   <br>\n",
    "    اگر بخواهیم به روز قبل برگردیم، باید <code>difference</code> را از <code>end_of_month</code> کم کنیم. \n",
    "</font>\n",
    "</p>\n",
    "\n"
   ]
  },
  {
   "cell_type": "code",
   "execution_count": 8,
   "id": "e60a7a22",
   "metadata": {},
   "outputs": [
    {
     "name": "stdout",
     "output_type": "stream",
     "text": [
      "2021-09-01 00:00:00\n",
      "2021-08-30 00:00:00\n"
     ]
    }
   ],
   "source": [
    "from datetime import timedelta \n",
    "\n",
    "difference = timedelta(days=1)\n",
    "end_of_month = datetime(2021,8,31) \n",
    "\n",
    "next_day = end_of_month + difference\n",
    "prev_day = end_of_month - difference\n",
    "\n",
    "print(next_day)\n",
    "print(prev_day)"
   ]
  },
  {
   "cell_type": "markdown",
   "id": "3d12b01b",
   "metadata": {},
   "source": [
    "<h2 align=right style=\"direction: rtl;text-align: right;line-height:200%;font-family:vazir;color:#0099cc\">\n",
    "<font face=\"vazir\" color=\"#0099cc\">\n",
    "تجزیه کردن یک رشته و تبدیل آن به datetime\n",
    "</font>\n",
    "</h2>\n",
    "<p dir=rtl style=\"direction: rtl;text-align: right;line-height:200%;font-family:vazir;font-size:medium\">\n",
    "<font face=\"vazir\" size=3>\n",
    "     تابع strptime بسیار کاربردی است و لازم است بتوانیم به خوبی از آن استفاده کنیم.\n",
    "        <br>\n",
    "        مهمترین نکته استفاده از این تابع، قالب‌بندی (format) است. \n",
    "        <br>\n",
    "</font>\n",
    "</p>\n",
    "\n",
    "\n",
    "\n",
    "\n"
   ]
  },
  {
   "cell_type": "code",
   "execution_count": 9,
   "id": "a3824198",
   "metadata": {},
   "outputs": [
    {
     "data": {
      "text/plain": [
       "datetime.datetime(2021, 8, 3, 0, 0)"
      ]
     },
     "execution_count": 9,
     "metadata": {},
     "output_type": "execute_result"
    }
   ],
   "source": [
    "from datetime import datetime\n",
    "date_in_string = \"2021-08-03\"\n",
    "\n",
    "date_in_datetime = datetime.strptime(date_in_string,'%Y-%m-%d')\n",
    "date_in_datetime"
   ]
  },
  {
   "cell_type": "code",
   "execution_count": null,
   "id": "ece78505",
   "metadata": {},
   "outputs": [],
   "source": []
  }
 ],
 "metadata": {
  "kernelspec": {
   "display_name": "qenv",
   "language": "python",
   "name": "qenv"
  },
  "language_info": {
   "codemirror_mode": {
    "name": "ipython",
    "version": 3
   },
   "file_extension": ".py",
   "mimetype": "text/x-python",
   "name": "python",
   "nbconvert_exporter": "python",
   "pygments_lexer": "ipython3",
   "version": "3.8.10"
  },
  "vscode": {
   "interpreter": {
    "hash": "916dbcbb3f70747c44a77c7bcd40155683ae19c65e1c03b4aa3499c5328201f1"
   }
  }
 },
 "nbformat": 4,
 "nbformat_minor": 5
}
