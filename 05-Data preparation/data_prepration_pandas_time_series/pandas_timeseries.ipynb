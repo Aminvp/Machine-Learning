{
 "cells": [
  {
   "cell_type": "markdown",
   "id": "9c948323",
   "metadata": {},
   "source": [
    "<h1 align=center style=\"line-height:200%;font-family:vazir;color:#0099cc\">\n",
    "<font face=\"vazir\" color=\"#0099cc\">\n",
    "سری زمانی:‌استفاده از پانداس\n",
    "</font>\n",
    "</h1>\n"
   ]
  },
  {
   "cell_type": "code",
   "execution_count": 1,
   "id": "14a732d0",
   "metadata": {},
   "outputs": [],
   "source": [
    "import pandas as pd \n",
    "import numpy as np\n",
    "from datetime import datetime"
   ]
  },
  {
   "cell_type": "markdown",
   "id": "ea55d1c1",
   "metadata": {},
   "source": [
    "<h2 align=right style=\"direction: rtl;text-align: right;line-height:200%;font-family:vazir;color:#0099cc\">\n",
    "<font face=\"vazir\" color=\"#0099cc\">\n",
    " سری‌های زمانی در دیتاسری\n",
    "</font>\n",
    "</h2>\n",
    "\n"
   ]
  },
  {
   "cell_type": "code",
   "execution_count": 2,
   "id": "6e0421b2",
   "metadata": {},
   "outputs": [
    {
     "data": {
      "text/plain": [
       "2020-09-10 08:20:00    20\n",
       "2020-10-13 12:30:00    15\n",
       "2020-11-16 14:50:00    17\n",
       "2020-12-19 17:22:00    12\n",
       "2021-01-21 19:25:00    21\n",
       "2021-02-23 20:45:00    25\n",
       "2021-03-25 21:00:00    25\n",
       "2021-04-27 21:15:00    19\n",
       "2021-05-29 22:35:00    18\n",
       "2021-06-30 23:59:00    14\n",
       "dtype: int64"
      ]
     },
     "execution_count": 2,
     "metadata": {},
     "output_type": "execute_result"
    }
   ],
   "source": [
    "times = [datetime(2020,9,10, 8,20), datetime(2020,10,13, 12,30), datetime(2020,11,16, 14,50), \\\n",
    "         datetime(2020,12,19, 17,22), datetime(2021,1,21, 19,25), datetime(2021,2,23, 20,45), \\\n",
    "         datetime(2021,3,25, 21,0), datetime(2021,4,27, 21,15), datetime(2021,5,29, 22,35), datetime(2021,6,30, 23,59)]\n",
    "\n",
    "count_of_patients = [20, 15, 17, 12, 21, 25, 25, 19, 18, 14]\n",
    "ts = pd.Series(count_of_patients, index = times)\n",
    "ts"
   ]
  },
  {
   "cell_type": "markdown",
   "id": "3d17495e",
   "metadata": {},
   "source": [
    "<p dir=rtl style=\"direction: rtl;text-align: right;line-height:200%;font-family:vazir;font-size:medium\">\n",
    "<font face=\"vazir\" size=3>    \n",
    "        با سلول زیر، المان‌هایی از سری را انتخاب کرده‌ایم که تاریخشان برابر 10-9-2020 باشد.\n",
    "</font>\n",
    "</p>\n",
    "\n"
   ]
  },
  {
   "cell_type": "code",
   "execution_count": 3,
   "id": "b0f7c8b6",
   "metadata": {},
   "outputs": [
    {
     "data": {
      "text/plain": [
       "2020-09-10 08:20:00    20\n",
       "dtype: int64"
      ]
     },
     "execution_count": 3,
     "metadata": {},
     "output_type": "execute_result"
    }
   ],
   "source": [
    "ts['2020-9-10']"
   ]
  },
  {
   "cell_type": "markdown",
   "id": "5038a644",
   "metadata": {},
   "source": [
    "<p dir=rtl style=\"direction: rtl;text-align: right;line-height:200%;font-family:vazir;font-size:medium\">\n",
    "<font face=\"vazir\" size=3>    \n",
    "        با سلول زیر، المان‌هایی از سری را انتخاب کرده‌ایم که سالشان برابر 2020 باشد.\n",
    "</font>\n",
    "</p>\n",
    "\n"
   ]
  },
  {
   "cell_type": "code",
   "execution_count": 4,
   "id": "77c47ac6",
   "metadata": {},
   "outputs": [
    {
     "data": {
      "text/plain": [
       "2020-09-10 08:20:00    20\n",
       "2020-10-13 12:30:00    15\n",
       "2020-11-16 14:50:00    17\n",
       "2020-12-19 17:22:00    12\n",
       "dtype: int64"
      ]
     },
     "execution_count": 4,
     "metadata": {},
     "output_type": "execute_result"
    }
   ],
   "source": [
    "ts['2020']"
   ]
  },
  {
   "cell_type": "markdown",
   "id": "bc980f5c",
   "metadata": {},
   "source": [
    "<div dir=rtl id=\"start\" style=\"direction:rtl;line-height:200%;\">\n",
    "\t<font face=\"vazir\" size=3>\n",
    "        در سلول زیر، با استفاده از نمایه‌های یک دیتاسری که از جنس datetime هستند، المان‌هایی را انتخاب کردیم که بین تاریخ <code>01-01-2021</code> تا <code>30-04-2021</code> باشد. \n",
    "    </font>\n",
    "</div>\n",
    "\n"
   ]
  },
  {
   "cell_type": "code",
   "execution_count": 5,
   "id": "f9beb6b0",
   "metadata": {},
   "outputs": [
    {
     "data": {
      "text/plain": [
       "2021-01-21 19:25:00    21\n",
       "2021-02-23 20:45:00    25\n",
       "2021-03-25 21:00:00    25\n",
       "2021-04-27 21:15:00    19\n",
       "dtype: int64"
      ]
     },
     "execution_count": 5,
     "metadata": {},
     "output_type": "execute_result"
    }
   ],
   "source": [
    "ts['2021-01-01': '2021-04-30']"
   ]
  },
  {
   "cell_type": "markdown",
   "id": "f0990012",
   "metadata": {},
   "source": [
    "<h2 align=right style=\"direction: rtl;text-align: right;line-height:200%;font-family:vazir;color:#0099cc\">\n",
    "<font face=\"vazir\" color=\"#0099cc\">\n",
    " سری‌های زمانی در دیتافریم\n",
    "</font>\n",
    "</h2>\n",
    "\n"
   ]
  },
  {
   "cell_type": "code",
   "execution_count": 7,
   "id": "3545df61",
   "metadata": {},
   "outputs": [
    {
     "data": {
      "text/html": [
       "<div>\n",
       "<style scoped>\n",
       "    .dataframe tbody tr th:only-of-type {\n",
       "        vertical-align: middle;\n",
       "    }\n",
       "\n",
       "    .dataframe tbody tr th {\n",
       "        vertical-align: top;\n",
       "    }\n",
       "\n",
       "    .dataframe thead th {\n",
       "        text-align: right;\n",
       "    }\n",
       "</style>\n",
       "<table border=\"1\" class=\"dataframe\">\n",
       "  <thead>\n",
       "    <tr style=\"text-align: right;\">\n",
       "      <th></th>\n",
       "      <th>time</th>\n",
       "      <th>#patients</th>\n",
       "    </tr>\n",
       "  </thead>\n",
       "  <tbody>\n",
       "    <tr>\n",
       "      <th>0</th>\n",
       "      <td>2020-09-10 08:20:00</td>\n",
       "      <td>20</td>\n",
       "    </tr>\n",
       "    <tr>\n",
       "      <th>1</th>\n",
       "      <td>2020-10-13 12:30:00</td>\n",
       "      <td>15</td>\n",
       "    </tr>\n",
       "    <tr>\n",
       "      <th>2</th>\n",
       "      <td>2020-11-16 14:50:00</td>\n",
       "      <td>17</td>\n",
       "    </tr>\n",
       "    <tr>\n",
       "      <th>3</th>\n",
       "      <td>2020-12-19 17:22:00</td>\n",
       "      <td>12</td>\n",
       "    </tr>\n",
       "    <tr>\n",
       "      <th>4</th>\n",
       "      <td>2021-01-21 19:25:00</td>\n",
       "      <td>21</td>\n",
       "    </tr>\n",
       "    <tr>\n",
       "      <th>5</th>\n",
       "      <td>2021-02-23 20:45:00</td>\n",
       "      <td>25</td>\n",
       "    </tr>\n",
       "    <tr>\n",
       "      <th>6</th>\n",
       "      <td>2021-03-25 21:00:00</td>\n",
       "      <td>25</td>\n",
       "    </tr>\n",
       "    <tr>\n",
       "      <th>7</th>\n",
       "      <td>2021-04-27 21:15:00</td>\n",
       "      <td>19</td>\n",
       "    </tr>\n",
       "    <tr>\n",
       "      <th>8</th>\n",
       "      <td>2021-05-29 22:35:00</td>\n",
       "      <td>18</td>\n",
       "    </tr>\n",
       "    <tr>\n",
       "      <th>9</th>\n",
       "      <td>2021-06-30 23:59:00</td>\n",
       "      <td>14</td>\n",
       "    </tr>\n",
       "  </tbody>\n",
       "</table>\n",
       "</div>"
      ],
      "text/plain": [
       "                 time  #patients\n",
       "0 2020-09-10 08:20:00         20\n",
       "1 2020-10-13 12:30:00         15\n",
       "2 2020-11-16 14:50:00         17\n",
       "3 2020-12-19 17:22:00         12\n",
       "4 2021-01-21 19:25:00         21\n",
       "5 2021-02-23 20:45:00         25\n",
       "6 2021-03-25 21:00:00         25\n",
       "7 2021-04-27 21:15:00         19\n",
       "8 2021-05-29 22:35:00         18\n",
       "9 2021-06-30 23:59:00         14"
      ]
     },
     "execution_count": 7,
     "metadata": {},
     "output_type": "execute_result"
    }
   ],
   "source": [
    "times = ['2020-9-10 8:20', '2020-10-13 12:30', '2020-11-16 14:50', \\\n",
    "         '2020-12-19 17:22', '2021-1-21 19:25', '2021-2-23 20:45', \\\n",
    "         '2021-3-25 21:0', '2021-4-27 21:15', '2021-5-29 22:35', '2021-6-30 23:59']\n",
    "\n",
    "count_of_patients = [20, 15, 17, 12, 21, 25, 25, 19, 18, 14]\n",
    "\n",
    "df = pd.DataFrame()\n",
    "df['time'] = pd.to_datetime(times)\n",
    "df['#patients'] = count_of_patients\n",
    "\n",
    "df"
   ]
  },
  {
   "cell_type": "code",
   "execution_count": 8,
   "id": "f828b1d3",
   "metadata": {},
   "outputs": [
    {
     "data": {
      "text/html": [
       "<div>\n",
       "<style scoped>\n",
       "    .dataframe tbody tr th:only-of-type {\n",
       "        vertical-align: middle;\n",
       "    }\n",
       "\n",
       "    .dataframe tbody tr th {\n",
       "        vertical-align: top;\n",
       "    }\n",
       "\n",
       "    .dataframe thead th {\n",
       "        text-align: right;\n",
       "    }\n",
       "</style>\n",
       "<table border=\"1\" class=\"dataframe\">\n",
       "  <thead>\n",
       "    <tr style=\"text-align: right;\">\n",
       "      <th></th>\n",
       "      <th>time</th>\n",
       "      <th>#patients</th>\n",
       "    </tr>\n",
       "  </thead>\n",
       "  <tbody>\n",
       "    <tr>\n",
       "      <th>3</th>\n",
       "      <td>2020-12-19 17:22:00</td>\n",
       "      <td>12</td>\n",
       "    </tr>\n",
       "    <tr>\n",
       "      <th>4</th>\n",
       "      <td>2021-01-21 19:25:00</td>\n",
       "      <td>21</td>\n",
       "    </tr>\n",
       "    <tr>\n",
       "      <th>5</th>\n",
       "      <td>2021-02-23 20:45:00</td>\n",
       "      <td>25</td>\n",
       "    </tr>\n",
       "    <tr>\n",
       "      <th>6</th>\n",
       "      <td>2021-03-25 21:00:00</td>\n",
       "      <td>25</td>\n",
       "    </tr>\n",
       "    <tr>\n",
       "      <th>7</th>\n",
       "      <td>2021-04-27 21:15:00</td>\n",
       "      <td>19</td>\n",
       "    </tr>\n",
       "    <tr>\n",
       "      <th>8</th>\n",
       "      <td>2021-05-29 22:35:00</td>\n",
       "      <td>18</td>\n",
       "    </tr>\n",
       "    <tr>\n",
       "      <th>9</th>\n",
       "      <td>2021-06-30 23:59:00</td>\n",
       "      <td>14</td>\n",
       "    </tr>\n",
       "  </tbody>\n",
       "</table>\n",
       "</div>"
      ],
      "text/plain": [
       "                 time  #patients\n",
       "3 2020-12-19 17:22:00         12\n",
       "4 2021-01-21 19:25:00         21\n",
       "5 2021-02-23 20:45:00         25\n",
       "6 2021-03-25 21:00:00         25\n",
       "7 2021-04-27 21:15:00         19\n",
       "8 2021-05-29 22:35:00         18\n",
       "9 2021-06-30 23:59:00         14"
      ]
     },
     "execution_count": 8,
     "metadata": {},
     "output_type": "execute_result"
    }
   ],
   "source": [
    "df[ df.time > '2020-12-15']"
   ]
  },
  {
   "cell_type": "code",
   "execution_count": 9,
   "id": "3d4f15fc",
   "metadata": {},
   "outputs": [
    {
     "data": {
      "text/html": [
       "<div>\n",
       "<style scoped>\n",
       "    .dataframe tbody tr th:only-of-type {\n",
       "        vertical-align: middle;\n",
       "    }\n",
       "\n",
       "    .dataframe tbody tr th {\n",
       "        vertical-align: top;\n",
       "    }\n",
       "\n",
       "    .dataframe thead th {\n",
       "        text-align: right;\n",
       "    }\n",
       "</style>\n",
       "<table border=\"1\" class=\"dataframe\">\n",
       "  <thead>\n",
       "    <tr style=\"text-align: right;\">\n",
       "      <th></th>\n",
       "      <th>time</th>\n",
       "      <th>#patients</th>\n",
       "    </tr>\n",
       "  </thead>\n",
       "  <tbody>\n",
       "    <tr>\n",
       "      <th>6</th>\n",
       "      <td>2021-03-25 21:00:00</td>\n",
       "      <td>25</td>\n",
       "    </tr>\n",
       "    <tr>\n",
       "      <th>7</th>\n",
       "      <td>2021-04-27 21:15:00</td>\n",
       "      <td>19</td>\n",
       "    </tr>\n",
       "    <tr>\n",
       "      <th>8</th>\n",
       "      <td>2021-05-29 22:35:00</td>\n",
       "      <td>18</td>\n",
       "    </tr>\n",
       "    <tr>\n",
       "      <th>9</th>\n",
       "      <td>2021-06-30 23:59:00</td>\n",
       "      <td>14</td>\n",
       "    </tr>\n",
       "  </tbody>\n",
       "</table>\n",
       "</div>"
      ],
      "text/plain": [
       "                 time  #patients\n",
       "6 2021-03-25 21:00:00         25\n",
       "7 2021-04-27 21:15:00         19\n",
       "8 2021-05-29 22:35:00         18\n",
       "9 2021-06-30 23:59:00         14"
      ]
     },
     "execution_count": 9,
     "metadata": {},
     "output_type": "execute_result"
    }
   ],
   "source": [
    "df[ df.time > '2021-3']"
   ]
  },
  {
   "cell_type": "code",
   "execution_count": 10,
   "id": "17c802df",
   "metadata": {},
   "outputs": [
    {
     "data": {
      "text/html": [
       "<div>\n",
       "<style scoped>\n",
       "    .dataframe tbody tr th:only-of-type {\n",
       "        vertical-align: middle;\n",
       "    }\n",
       "\n",
       "    .dataframe tbody tr th {\n",
       "        vertical-align: top;\n",
       "    }\n",
       "\n",
       "    .dataframe thead th {\n",
       "        text-align: right;\n",
       "    }\n",
       "</style>\n",
       "<table border=\"1\" class=\"dataframe\">\n",
       "  <thead>\n",
       "    <tr style=\"text-align: right;\">\n",
       "      <th></th>\n",
       "      <th>time</th>\n",
       "      <th>#patients</th>\n",
       "    </tr>\n",
       "  </thead>\n",
       "  <tbody>\n",
       "    <tr>\n",
       "      <th>4</th>\n",
       "      <td>2021-01-21 19:25:00</td>\n",
       "      <td>21</td>\n",
       "    </tr>\n",
       "    <tr>\n",
       "      <th>5</th>\n",
       "      <td>2021-02-23 20:45:00</td>\n",
       "      <td>25</td>\n",
       "    </tr>\n",
       "    <tr>\n",
       "      <th>6</th>\n",
       "      <td>2021-03-25 21:00:00</td>\n",
       "      <td>25</td>\n",
       "    </tr>\n",
       "    <tr>\n",
       "      <th>7</th>\n",
       "      <td>2021-04-27 21:15:00</td>\n",
       "      <td>19</td>\n",
       "    </tr>\n",
       "    <tr>\n",
       "      <th>8</th>\n",
       "      <td>2021-05-29 22:35:00</td>\n",
       "      <td>18</td>\n",
       "    </tr>\n",
       "    <tr>\n",
       "      <th>9</th>\n",
       "      <td>2021-06-30 23:59:00</td>\n",
       "      <td>14</td>\n",
       "    </tr>\n",
       "  </tbody>\n",
       "</table>\n",
       "</div>"
      ],
      "text/plain": [
       "                 time  #patients\n",
       "4 2021-01-21 19:25:00         21\n",
       "5 2021-02-23 20:45:00         25\n",
       "6 2021-03-25 21:00:00         25\n",
       "7 2021-04-27 21:15:00         19\n",
       "8 2021-05-29 22:35:00         18\n",
       "9 2021-06-30 23:59:00         14"
      ]
     },
     "execution_count": 10,
     "metadata": {},
     "output_type": "execute_result"
    }
   ],
   "source": [
    "df[ df.time > '2021']"
   ]
  },
  {
   "cell_type": "markdown",
   "id": "f285873d",
   "metadata": {},
   "source": [
    "<h2 align=right style=\"direction: rtl;text-align: right;line-height:200%;font-family:vazir;color:#0099cc\">\n",
    "<font face=\"vazir\" color=\"#0099cc\">\n",
    " استفاده از ویژگی dt\n",
    "</font>\n",
    "</h2>\n",
    "\n"
   ]
  },
  {
   "cell_type": "code",
   "execution_count": 11,
   "id": "8b47b84c",
   "metadata": {},
   "outputs": [
    {
     "data": {
      "text/plain": [
       "0    2020-09-10\n",
       "1    2020-10-13\n",
       "2    2020-11-16\n",
       "3    2020-12-19\n",
       "4    2021-01-21\n",
       "5    2021-02-23\n",
       "6    2021-03-25\n",
       "7    2021-04-27\n",
       "8    2021-05-29\n",
       "9    2021-06-30\n",
       "Name: time, dtype: object"
      ]
     },
     "execution_count": 11,
     "metadata": {},
     "output_type": "execute_result"
    }
   ],
   "source": [
    "df.time.dt.date"
   ]
  },
  {
   "cell_type": "code",
   "execution_count": 12,
   "id": "9b1f792e",
   "metadata": {},
   "outputs": [
    {
     "data": {
      "text/plain": [
       "0     9\n",
       "1    10\n",
       "2    11\n",
       "3    12\n",
       "4     1\n",
       "5     2\n",
       "6     3\n",
       "7     4\n",
       "8     5\n",
       "9     6\n",
       "Name: time, dtype: int64"
      ]
     },
     "execution_count": 12,
     "metadata": {},
     "output_type": "execute_result"
    }
   ],
   "source": [
    "df.time.dt.month"
   ]
  },
  {
   "cell_type": "code",
   "execution_count": 13,
   "id": "af54189c",
   "metadata": {},
   "outputs": [
    {
     "data": {
      "text/plain": [
       "0     Thursday\n",
       "1      Tuesday\n",
       "2       Monday\n",
       "3     Saturday\n",
       "4     Thursday\n",
       "5      Tuesday\n",
       "6     Thursday\n",
       "7      Tuesday\n",
       "8     Saturday\n",
       "9    Wednesday\n",
       "Name: time, dtype: object"
      ]
     },
     "execution_count": 13,
     "metadata": {},
     "output_type": "execute_result"
    }
   ],
   "source": [
    "df.time.dt.day_name()"
   ]
  },
  {
   "cell_type": "code",
   "execution_count": 14,
   "id": "967c5e0c",
   "metadata": {},
   "outputs": [
    {
     "data": {
      "text/plain": [
       "0    254\n",
       "1    287\n",
       "2    321\n",
       "3    354\n",
       "4     21\n",
       "5     54\n",
       "6     84\n",
       "7    117\n",
       "8    149\n",
       "9    181\n",
       "Name: time, dtype: int64"
      ]
     },
     "execution_count": 14,
     "metadata": {},
     "output_type": "execute_result"
    }
   ],
   "source": [
    "df.time.dt.day_of_year"
   ]
  },
  {
   "cell_type": "markdown",
   "id": "34ccc474",
   "metadata": {},
   "source": [
    "<h2 align=right style=\"direction: rtl;text-align: right;line-height:200%;font-family:vazir;color:#0099cc\">\n",
    "<font face=\"vazir\" color=\"#0099cc\">\n",
    " انتخاب شرطی پیشرفته به کمک ویژگی dt\n",
    "</font>\n",
    "</h2>\n",
    "\n"
   ]
  },
  {
   "cell_type": "code",
   "execution_count": 15,
   "id": "23711027",
   "metadata": {},
   "outputs": [
    {
     "data": {
      "text/html": [
       "<div>\n",
       "<style scoped>\n",
       "    .dataframe tbody tr th:only-of-type {\n",
       "        vertical-align: middle;\n",
       "    }\n",
       "\n",
       "    .dataframe tbody tr th {\n",
       "        vertical-align: top;\n",
       "    }\n",
       "\n",
       "    .dataframe thead th {\n",
       "        text-align: right;\n",
       "    }\n",
       "</style>\n",
       "<table border=\"1\" class=\"dataframe\">\n",
       "  <thead>\n",
       "    <tr style=\"text-align: right;\">\n",
       "      <th></th>\n",
       "      <th>time</th>\n",
       "      <th>#patients</th>\n",
       "    </tr>\n",
       "  </thead>\n",
       "  <tbody>\n",
       "    <tr>\n",
       "      <th>8</th>\n",
       "      <td>2021-05-29 22:35:00</td>\n",
       "      <td>18</td>\n",
       "    </tr>\n",
       "    <tr>\n",
       "      <th>9</th>\n",
       "      <td>2021-06-30 23:59:00</td>\n",
       "      <td>14</td>\n",
       "    </tr>\n",
       "  </tbody>\n",
       "</table>\n",
       "</div>"
      ],
      "text/plain": [
       "                 time  #patients\n",
       "8 2021-05-29 22:35:00         18\n",
       "9 2021-06-30 23:59:00         14"
      ]
     },
     "execution_count": 15,
     "metadata": {},
     "output_type": "execute_result"
    }
   ],
   "source": [
    "from datetime import time\n",
    "df[df.time.dt.time > time(22, 30)]"
   ]
  },
  {
   "cell_type": "code",
   "execution_count": null,
   "id": "67f5cbcf",
   "metadata": {},
   "outputs": [],
   "source": []
  }
 ],
 "metadata": {
  "kernelspec": {
   "display_name": "qenv",
   "language": "python",
   "name": "qenv"
  },
  "language_info": {
   "codemirror_mode": {
    "name": "ipython",
    "version": 3
   },
   "file_extension": ".py",
   "mimetype": "text/x-python",
   "name": "python",
   "nbconvert_exporter": "python",
   "pygments_lexer": "ipython3",
   "version": "3.8.10"
  },
  "vscode": {
   "interpreter": {
    "hash": "916dbcbb3f70747c44a77c7bcd40155683ae19c65e1c03b4aa3499c5328201f1"
   }
  }
 },
 "nbformat": 4,
 "nbformat_minor": 5
}
