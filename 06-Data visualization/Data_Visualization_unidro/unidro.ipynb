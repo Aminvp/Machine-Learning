{
 "cells": [
  {
   "cell_type": "markdown",
   "metadata": {},
   "source": [
    "<div align=center style=\"line-height:200%;font-family:vazir;font-size:medium;color:#0099cc\">\n",
    "<h1>\n",
    "یونیدرو\n",
    "</h1>\n",
    "</p>\n",
    "</div>\n",
    "\n",
    "\n",
    "\n"
   ]
  },
  {
   "cell_type": "markdown",
   "metadata": {
    "id": "AIqzDGNkWr7S"
   },
   "source": [
    "\n",
    "<h2 align=right style=\"line-height:200%;font-family:vazir;color:#0099cc\">\n",
    "آشنایی با نقشه حرارتی (heatmap)\n",
    "</h2>\n",
    "<div style=\"line-height:200%;font-family:vazir;font-size:medium\">\n",
    "<p style=\"direction: rtl;text-align: right;\">\n",
    "نقشه حرارتی روشی برای نمایش داده‌ها در امور تحلیل داده‌ای می‌باشد که در آن رنگ‌ها متناسب با بزرگی و کوچکی اعداد تغییر می‌کنند. در نقشه‌های حرارتی از یک تابع نگاشت رنگ (color map) برای نگاشت اعداد به رنگ‌ها استفاده می‌شود. نقشه حرارتی کاربرد‌های بسیاری دارد و در حوزه های مختلفی می‌توان برای نمایش اطلاعات از آن استفاده کرد. محققان داده معمولا هنگامی که می‌خواهد نتایج کار را به شکلی قابل فهم به افراد غیر متخصص نشان دهند از نقشه حرارتی استفاده می‌کند. فرض کنید یک مجموعه داده بزرگ دارید و رابطه همه ستون‌ها را با هم به صورت یک به یک محاسبه کرده‌اید. اگر بخواهید نتایج به دست آمده را به فرد دیگری نشان دهید، ارائه همه اعداد راه‌ حل درستی نمی‌باشد. به جای آن می توان یک نقشه حرارتی ایجاد کرد که با یک نگاه به آن، خیلی سریع متغیر‌های به هم وابسته شناسایی می‌شوند چون رنگ آنها متفاوت است. در این تمرین با استفاده از نقشه حرارتی رابطه بین عناصر مختلف در این مجموعه داده را مشخص می‌کنیم.\n",
    "</p>\n",
    "</div>\n"
   ]
  },
  {
   "cell_type": "code",
   "execution_count": 1,
   "metadata": {
    "id": "BtIHgscGW5TX"
   },
   "outputs": [],
   "source": [
    "import pandas as pd\n",
    "import matplotlib.pyplot as plt\n",
    "import seaborn as sns"
   ]
  },
  {
   "cell_type": "markdown",
   "metadata": {},
   "source": [
    "\n",
    "<div style=\"line-height:200%;font-family:vazir;font-size:medium\">\n",
    "<p style=\"direction: rtl;text-align: right;\">\n",
    "نگاهی به دیتافریم بیندازیم:</p>\n",
    "</div>"
   ]
  },
  {
   "cell_type": "code",
   "execution_count": 2,
   "metadata": {
    "id": "bGgA5uj4XMWS"
   },
   "outputs": [
    {
     "data": {
      "text/html": [
       "<div>\n",
       "<style scoped>\n",
       "    .dataframe tbody tr th:only-of-type {\n",
       "        vertical-align: middle;\n",
       "    }\n",
       "\n",
       "    .dataframe tbody tr th {\n",
       "        vertical-align: top;\n",
       "    }\n",
       "\n",
       "    .dataframe thead th {\n",
       "        text-align: right;\n",
       "    }\n",
       "</style>\n",
       "<table border=\"1\" class=\"dataframe\">\n",
       "  <thead>\n",
       "    <tr style=\"text-align: right;\">\n",
       "      <th></th>\n",
       "      <th>Au8</th>\n",
       "      <th>Au8_CN</th>\n",
       "      <th>Au</th>\n",
       "      <th>Ag</th>\n",
       "      <th>Al</th>\n",
       "      <th>As</th>\n",
       "      <th>B</th>\n",
       "      <th>Ba</th>\n",
       "      <th>Ca</th>\n",
       "      <th>Ce</th>\n",
       "      <th>...</th>\n",
       "      <th>P</th>\n",
       "      <th>Pb</th>\n",
       "      <th>S</th>\n",
       "      <th>Sb</th>\n",
       "      <th>Sr</th>\n",
       "      <th>Th</th>\n",
       "      <th>Ti</th>\n",
       "      <th>V</th>\n",
       "      <th>Y</th>\n",
       "      <th>Zn</th>\n",
       "    </tr>\n",
       "  </thead>\n",
       "  <tbody>\n",
       "    <tr>\n",
       "      <th>0</th>\n",
       "      <td>0.67</td>\n",
       "      <td>32.40</td>\n",
       "      <td>2.068</td>\n",
       "      <td>1.7</td>\n",
       "      <td>5300</td>\n",
       "      <td>649</td>\n",
       "      <td>12</td>\n",
       "      <td>205</td>\n",
       "      <td>300</td>\n",
       "      <td>97</td>\n",
       "      <td>...</td>\n",
       "      <td>900</td>\n",
       "      <td>1227</td>\n",
       "      <td>27600</td>\n",
       "      <td>592</td>\n",
       "      <td>16</td>\n",
       "      <td>22</td>\n",
       "      <td>18</td>\n",
       "      <td>10</td>\n",
       "      <td>21</td>\n",
       "      <td>388</td>\n",
       "    </tr>\n",
       "    <tr>\n",
       "      <th>1</th>\n",
       "      <td>0.08</td>\n",
       "      <td>8.82</td>\n",
       "      <td>0.907</td>\n",
       "      <td>0.8</td>\n",
       "      <td>6900</td>\n",
       "      <td>451</td>\n",
       "      <td>13</td>\n",
       "      <td>345</td>\n",
       "      <td>400</td>\n",
       "      <td>103</td>\n",
       "      <td>...</td>\n",
       "      <td>1180</td>\n",
       "      <td>251</td>\n",
       "      <td>17600</td>\n",
       "      <td>237</td>\n",
       "      <td>20</td>\n",
       "      <td>22</td>\n",
       "      <td>19</td>\n",
       "      <td>9</td>\n",
       "      <td>18</td>\n",
       "      <td>567</td>\n",
       "    </tr>\n",
       "    <tr>\n",
       "      <th>2</th>\n",
       "      <td>0.04</td>\n",
       "      <td>6.80</td>\n",
       "      <td>0.588</td>\n",
       "      <td>0.9</td>\n",
       "      <td>6900</td>\n",
       "      <td>1007</td>\n",
       "      <td>17</td>\n",
       "      <td>210</td>\n",
       "      <td>400</td>\n",
       "      <td>98</td>\n",
       "      <td>...</td>\n",
       "      <td>990</td>\n",
       "      <td>121</td>\n",
       "      <td>17700</td>\n",
       "      <td>317</td>\n",
       "      <td>18</td>\n",
       "      <td>22</td>\n",
       "      <td>22</td>\n",
       "      <td>10</td>\n",
       "      <td>17</td>\n",
       "      <td>552</td>\n",
       "    </tr>\n",
       "    <tr>\n",
       "      <th>3</th>\n",
       "      <td>0.55</td>\n",
       "      <td>7.00</td>\n",
       "      <td>7.855</td>\n",
       "      <td>1.1</td>\n",
       "      <td>10600</td>\n",
       "      <td>19627</td>\n",
       "      <td>13</td>\n",
       "      <td>140</td>\n",
       "      <td>500</td>\n",
       "      <td>94</td>\n",
       "      <td>...</td>\n",
       "      <td>1240</td>\n",
       "      <td>158</td>\n",
       "      <td>37300</td>\n",
       "      <td>1454</td>\n",
       "      <td>25</td>\n",
       "      <td>24</td>\n",
       "      <td>22</td>\n",
       "      <td>18</td>\n",
       "      <td>21</td>\n",
       "      <td>5965</td>\n",
       "    </tr>\n",
       "    <tr>\n",
       "      <th>4</th>\n",
       "      <td>0.15</td>\n",
       "      <td>20.60</td>\n",
       "      <td>0.728</td>\n",
       "      <td>21.3</td>\n",
       "      <td>7900</td>\n",
       "      <td>5776</td>\n",
       "      <td>14</td>\n",
       "      <td>123</td>\n",
       "      <td>1800</td>\n",
       "      <td>75</td>\n",
       "      <td>...</td>\n",
       "      <td>1430</td>\n",
       "      <td>17270</td>\n",
       "      <td>69700</td>\n",
       "      <td>582</td>\n",
       "      <td>28</td>\n",
       "      <td>19</td>\n",
       "      <td>20</td>\n",
       "      <td>10</td>\n",
       "      <td>20</td>\n",
       "      <td>1394</td>\n",
       "    </tr>\n",
       "  </tbody>\n",
       "</table>\n",
       "<p>5 rows × 31 columns</p>\n",
       "</div>"
      ],
      "text/plain": [
       "    Au8  Au8_CN     Au    Ag     Al     As   B   Ba    Ca   Ce  ...     P  \\\n",
       "0  0.67   32.40  2.068   1.7   5300    649  12  205   300   97  ...   900   \n",
       "1  0.08    8.82  0.907   0.8   6900    451  13  345   400  103  ...  1180   \n",
       "2  0.04    6.80  0.588   0.9   6900   1007  17  210   400   98  ...   990   \n",
       "3  0.55    7.00  7.855   1.1  10600  19627  13  140   500   94  ...  1240   \n",
       "4  0.15   20.60  0.728  21.3   7900   5776  14  123  1800   75  ...  1430   \n",
       "\n",
       "      Pb      S    Sb  Sr  Th  Ti   V   Y    Zn  \n",
       "0   1227  27600   592  16  22  18  10  21   388  \n",
       "1    251  17600   237  20  22  19   9  18   567  \n",
       "2    121  17700   317  18  22  22  10  17   552  \n",
       "3    158  37300  1454  25  24  22  18  21  5965  \n",
       "4  17270  69700   582  28  19  20  10  20  1394  \n",
       "\n",
       "[5 rows x 31 columns]"
      ]
     },
     "execution_count": 2,
     "metadata": {},
     "output_type": "execute_result"
    }
   ],
   "source": [
    "df = pd.read_csv('unidro_data.csv')\n",
    "df.head()"
   ]
  },
  {
   "cell_type": "markdown",
   "metadata": {},
   "source": [
    "\n",
    "<div style=\"line-height:200%;font-family:vazir;font-size:medium\">\n",
    "<p style=\"direction: rtl;text-align: right;\">\n",
    "دیتافریم این تمرین، از اطلاعات واقعی عناصر و عیار آنها که شرکت یونیدرو از آنها استفاده می‌کند، به دست آمده است. در صنایع معدن، نمونه‌های یک گرمی را با دستگاهی به نام ICP-OES مورد بررسی قرار می‌دهند و دستگاه، غلظت عناصر موجود در آن نمونه یک گرمی را به ما می‌دهد. واحد غلظت، ppm (part per million) می‌باشد. در این دیتافریم، ۱۲۲۶ نمونه یک گرمی مورد بررسی قرار گرفته‌اند و غلظت عناصر مورد نظر ما (۳۱ عنصر)، به دست آمده‌اند. در این تمرین، می‌خواهیم بررسی کنیم که آیا رابطه معناداری بین عیار عناصر وجود دارد یا خیر. یعنی با افزایش یک عنصر در یک نمونه، چه عناصری کاهش یا افزایش می‌یابند.\n",
    "\n",
    "</p>\n",
    "</div>"
   ]
  },
  {
   "cell_type": "code",
   "execution_count": 3,
   "metadata": {},
   "outputs": [
    {
     "data": {
      "text/plain": [
       "(1226, 31)"
      ]
     },
     "execution_count": 3,
     "metadata": {},
     "output_type": "execute_result"
    }
   ],
   "source": [
    "df.shape"
   ]
  },
  {
   "cell_type": "markdown",
   "metadata": {
    "id": "h6LgDTETY6xn"
   },
   "source": [
    "\n",
    "<h2 align=right style=\"line-height:200%;font-family:vazir;color:#0099cc\">\n",
    "بخش اول\n",
    "</h2>\n",
    "<div style=\"line-height:200%;font-family:vazir;font-size:medium\">\n",
    "<p style=\"direction: rtl;text-align: right;\">\n",
    "ماتریس ارتباط (correlation)  بین ستون‌های این دیتافریم را به دست آورید.\n",
    "</p>\n",
    "</div>\n",
    "\n",
    "\n"
   ]
  },
  {
   "cell_type": "code",
   "execution_count": 4,
   "metadata": {
    "id": "jb8SbDnjXRst"
   },
   "outputs": [
    {
     "data": {
      "text/html": [
       "<div>\n",
       "<style scoped>\n",
       "    .dataframe tbody tr th:only-of-type {\n",
       "        vertical-align: middle;\n",
       "    }\n",
       "\n",
       "    .dataframe tbody tr th {\n",
       "        vertical-align: top;\n",
       "    }\n",
       "\n",
       "    .dataframe thead th {\n",
       "        text-align: right;\n",
       "    }\n",
       "</style>\n",
       "<table border=\"1\" class=\"dataframe\">\n",
       "  <thead>\n",
       "    <tr style=\"text-align: right;\">\n",
       "      <th></th>\n",
       "      <th>Au8</th>\n",
       "      <th>Au8_CN</th>\n",
       "      <th>Au</th>\n",
       "      <th>Ag</th>\n",
       "      <th>Al</th>\n",
       "      <th>As</th>\n",
       "      <th>B</th>\n",
       "      <th>Ba</th>\n",
       "      <th>Ca</th>\n",
       "      <th>Ce</th>\n",
       "      <th>...</th>\n",
       "      <th>P</th>\n",
       "      <th>Pb</th>\n",
       "      <th>S</th>\n",
       "      <th>Sb</th>\n",
       "      <th>Sr</th>\n",
       "      <th>Th</th>\n",
       "      <th>Ti</th>\n",
       "      <th>V</th>\n",
       "      <th>Y</th>\n",
       "      <th>Zn</th>\n",
       "    </tr>\n",
       "  </thead>\n",
       "  <tbody>\n",
       "    <tr>\n",
       "      <th>Au8</th>\n",
       "      <td>1.000000</td>\n",
       "      <td>0.295985</td>\n",
       "      <td>0.862428</td>\n",
       "      <td>0.086993</td>\n",
       "      <td>-0.038212</td>\n",
       "      <td>-0.022517</td>\n",
       "      <td>-0.065709</td>\n",
       "      <td>0.008831</td>\n",
       "      <td>-0.048206</td>\n",
       "      <td>0.027005</td>\n",
       "      <td>...</td>\n",
       "      <td>-0.016155</td>\n",
       "      <td>0.037160</td>\n",
       "      <td>-0.039872</td>\n",
       "      <td>0.029872</td>\n",
       "      <td>0.080678</td>\n",
       "      <td>-0.074293</td>\n",
       "      <td>-0.004118</td>\n",
       "      <td>0.054925</td>\n",
       "      <td>-0.012589</td>\n",
       "      <td>-0.005504</td>\n",
       "    </tr>\n",
       "    <tr>\n",
       "      <th>Au8_CN</th>\n",
       "      <td>0.295985</td>\n",
       "      <td>1.000000</td>\n",
       "      <td>0.128600</td>\n",
       "      <td>0.137364</td>\n",
       "      <td>0.054848</td>\n",
       "      <td>-0.101090</td>\n",
       "      <td>-0.035020</td>\n",
       "      <td>0.214636</td>\n",
       "      <td>-0.234587</td>\n",
       "      <td>-0.028041</td>\n",
       "      <td>...</td>\n",
       "      <td>-0.112604</td>\n",
       "      <td>0.125213</td>\n",
       "      <td>-0.186352</td>\n",
       "      <td>0.015509</td>\n",
       "      <td>0.358980</td>\n",
       "      <td>-0.086310</td>\n",
       "      <td>0.044347</td>\n",
       "      <td>0.120635</td>\n",
       "      <td>-0.001567</td>\n",
       "      <td>-0.049843</td>\n",
       "    </tr>\n",
       "    <tr>\n",
       "      <th>Au</th>\n",
       "      <td>0.862428</td>\n",
       "      <td>0.128600</td>\n",
       "      <td>1.000000</td>\n",
       "      <td>0.066124</td>\n",
       "      <td>-0.053453</td>\n",
       "      <td>0.066559</td>\n",
       "      <td>-0.108602</td>\n",
       "      <td>-0.080027</td>\n",
       "      <td>-0.051858</td>\n",
       "      <td>0.007717</td>\n",
       "      <td>...</td>\n",
       "      <td>-0.027793</td>\n",
       "      <td>0.022451</td>\n",
       "      <td>0.024826</td>\n",
       "      <td>0.073369</td>\n",
       "      <td>0.059690</td>\n",
       "      <td>-0.130668</td>\n",
       "      <td>-0.026123</td>\n",
       "      <td>0.091624</td>\n",
       "      <td>-0.000417</td>\n",
       "      <td>0.008842</td>\n",
       "    </tr>\n",
       "    <tr>\n",
       "      <th>Ag</th>\n",
       "      <td>0.086993</td>\n",
       "      <td>0.137364</td>\n",
       "      <td>0.066124</td>\n",
       "      <td>1.000000</td>\n",
       "      <td>-0.041020</td>\n",
       "      <td>0.044027</td>\n",
       "      <td>-0.047508</td>\n",
       "      <td>-0.052796</td>\n",
       "      <td>-0.052954</td>\n",
       "      <td>-0.107657</td>\n",
       "      <td>...</td>\n",
       "      <td>0.039334</td>\n",
       "      <td>0.714064</td>\n",
       "      <td>0.191606</td>\n",
       "      <td>0.092371</td>\n",
       "      <td>-0.019500</td>\n",
       "      <td>-0.122829</td>\n",
       "      <td>-0.027780</td>\n",
       "      <td>-0.025457</td>\n",
       "      <td>-0.057610</td>\n",
       "      <td>0.111281</td>\n",
       "    </tr>\n",
       "    <tr>\n",
       "      <th>Al</th>\n",
       "      <td>-0.038212</td>\n",
       "      <td>0.054848</td>\n",
       "      <td>-0.053453</td>\n",
       "      <td>-0.041020</td>\n",
       "      <td>1.000000</td>\n",
       "      <td>0.059256</td>\n",
       "      <td>0.189981</td>\n",
       "      <td>0.159632</td>\n",
       "      <td>-0.121744</td>\n",
       "      <td>0.188501</td>\n",
       "      <td>...</td>\n",
       "      <td>0.208023</td>\n",
       "      <td>0.000084</td>\n",
       "      <td>-0.001248</td>\n",
       "      <td>0.000143</td>\n",
       "      <td>0.376685</td>\n",
       "      <td>0.099997</td>\n",
       "      <td>0.274392</td>\n",
       "      <td>0.406001</td>\n",
       "      <td>0.539091</td>\n",
       "      <td>0.273847</td>\n",
       "    </tr>\n",
       "  </tbody>\n",
       "</table>\n",
       "<p>5 rows × 31 columns</p>\n",
       "</div>"
      ],
      "text/plain": [
       "             Au8    Au8_CN        Au        Ag        Al        As         B  \\\n",
       "Au8     1.000000  0.295985  0.862428  0.086993 -0.038212 -0.022517 -0.065709   \n",
       "Au8_CN  0.295985  1.000000  0.128600  0.137364  0.054848 -0.101090 -0.035020   \n",
       "Au      0.862428  0.128600  1.000000  0.066124 -0.053453  0.066559 -0.108602   \n",
       "Ag      0.086993  0.137364  0.066124  1.000000 -0.041020  0.044027 -0.047508   \n",
       "Al     -0.038212  0.054848 -0.053453 -0.041020  1.000000  0.059256  0.189981   \n",
       "\n",
       "              Ba        Ca        Ce  ...         P        Pb         S  \\\n",
       "Au8     0.008831 -0.048206  0.027005  ... -0.016155  0.037160 -0.039872   \n",
       "Au8_CN  0.214636 -0.234587 -0.028041  ... -0.112604  0.125213 -0.186352   \n",
       "Au     -0.080027 -0.051858  0.007717  ... -0.027793  0.022451  0.024826   \n",
       "Ag     -0.052796 -0.052954 -0.107657  ...  0.039334  0.714064  0.191606   \n",
       "Al      0.159632 -0.121744  0.188501  ...  0.208023  0.000084 -0.001248   \n",
       "\n",
       "              Sb        Sr        Th        Ti         V         Y        Zn  \n",
       "Au8     0.029872  0.080678 -0.074293 -0.004118  0.054925 -0.012589 -0.005504  \n",
       "Au8_CN  0.015509  0.358980 -0.086310  0.044347  0.120635 -0.001567 -0.049843  \n",
       "Au      0.073369  0.059690 -0.130668 -0.026123  0.091624 -0.000417  0.008842  \n",
       "Ag      0.092371 -0.019500 -0.122829 -0.027780 -0.025457 -0.057610  0.111281  \n",
       "Al      0.000143  0.376685  0.099997  0.274392  0.406001  0.539091  0.273847  \n",
       "\n",
       "[5 rows x 31 columns]"
      ]
     },
     "execution_count": 4,
     "metadata": {},
     "output_type": "execute_result"
    }
   ],
   "source": [
    "\n",
    "corr_matrix = df.corr()\n",
    "corr_matrix.head()"
   ]
  },
  {
   "cell_type": "markdown",
   "metadata": {
    "id": "YCSECd5TZgaq"
   },
   "source": [
    "\n",
    "<h2 align=right style=\"line-height:200%;font-family:vazir;color:#0099cc\">\n",
    "بخش دوم\n",
    "</h2>\n",
    "<div style=\"line-height:200%;font-family:vazir;font-size:medium\">\n",
    "<p style=\"direction: rtl;text-align: right;\">\n",
    "<ul style=\"direction: rtl;text-align: right;\">\n",
    "  <li>\n",
    "با مت‌پلات، یک شکل شامل یک صفحه محور بسازید و اندازه طول و عرض آن را به ترتیب برابر ۱۲ و ۱۰ اینچ قرار دهید.\n",
    "</li>\n",
    "\n",
    "  <li>\n",
    "با استفاده از تابع <code>heatmap</code> سیبورن، بر روی صفحه محوری که در بخش قبل ساختید، یک نقشه حرارتی بکشید. ماتریس رابطه‌ای که در قدم اول به دست آمد را به آن بدهید. همچنین از نگاشت رنگ <code>viridis</code> استفاده کنید.\n",
    "\n",
    "</li>\n",
    "\n",
    "  <li>\n",
    "عنوان نمودار را برابر <code>correlation heatmap</code> قرار دهید.\n",
    "\n",
    "</li>\n",
    "\n",
    "</ul>\n",
    "</p>\n",
    "</div>"
   ]
  },
  {
   "cell_type": "code",
   "execution_count": 5,
   "metadata": {
    "colab": {
     "base_uri": "https://localhost:8080/",
     "height": 655
    },
    "id": "vvsmLJN6Y7bw",
    "outputId": "c1985e42-295e-446e-a05d-1b79855d074d"
   },
   "outputs": [
    {
     "data": {
      "image/png": "[encoded data removed]",
      "text/plain": [
       "<Figure size 1200x1000 with 2 Axes>"
      ]
     },
     "metadata": {},
     "output_type": "display_data"
    }
   ],
   "source": [
    "\n",
    "fig1, ax1 = plt.subplots(figsize=(12, 10))\n",
    "\n",
    "sns.heatmap(data=corr_matrix, ax=ax1, cmap='viridis')\n",
    "\n",
    "ax1.set_title('correlation heatmap');"
   ]
  },
  {
   "cell_type": "markdown",
   "metadata": {
    "id": "NSZ6b6Jwhura"
   },
   "source": [
    "\n",
    "<div style=\"line-height:200%;font-family:vazir;font-size:medium\">\n",
    "<p style=\"direction: rtl;text-align: right;\">\n",
    "اگر با دقت به خروجی قدم دوم نگاه کنید، می‌بینید که این شکل متقارن است. به این دلیل که رابطه ویژگی x و y با رابطه ویژگی y و x برابر است. یعنی هر مقدار دو بار حساب شده است و ماتریس از روی قطر متقارن است.\n",
    "\n",
    "</p>\n",
    "</div>\n"
   ]
  },
  {
   "cell_type": "markdown",
   "metadata": {
    "id": "Y-RSOsJ9imrE"
   },
   "source": [
    "\n",
    "<h2 align=right style=\"line-height:200%;font-family:vazir;color:#0099cc\">\n",
    "بخش سوم\n",
    "</h2>\n",
    "<div style=\"line-height:200%;font-family:vazir;font-size:medium\">\n",
    "<p style=\"direction: rtl;text-align: right;\">\n",
    "ماسک، آرایه‌ای است که اجزای آن فقط صفر و یک (یا True و False) می‌باشند. نمونه‌هایی از ماسک را در فصل نامپای و پانداس دیدید.\n",
    "در این قسمت می‌خواهیم یک ماسک بسازیم و از آن برای نمایش مثلث پایینی نقشه حرارتی استفاده کنیم.\n",
    "<br>\n",
    "\n",
    "<ul style=\"direction: rtl;text-align: right;\">\n",
    "  <li>\n",
    "با استفاده از نامپای، ماسکی بسازید که مثلث پایینی آن (درایه‌های زیر قطر) مقدار صفر باشد و خانه‌های بالای قطر(و خود قطر)، مقدار یک داشته باشد.\n",
    "</li>\n",
    "\n",
    "  <li>\n",
    "این ماسک باید ۳۱ سطر و ۳۱ ستون داشته باشد.</li>\n",
    "</ul>\n",
    "\n",
    "</p>\n",
    "</div>"
   ]
  },
  {
   "cell_type": "code",
   "execution_count": 6,
   "metadata": {
    "id": "Qqk5eYf7ik3O"
   },
   "outputs": [
    {
     "data": {
      "text/plain": [
       "array([[1., 1., 1., 1., 1., 1., 1., 1., 1., 1., 1., 1., 1., 1., 1., 1.,\n",
       "        1., 1., 1., 1., 1., 1., 1., 1., 1., 1., 1., 1., 1., 1., 1.],\n",
       "       [0., 1., 1., 1., 1., 1., 1., 1., 1., 1., 1., 1., 1., 1., 1., 1.,\n",
       "        1., 1., 1., 1., 1., 1., 1., 1., 1., 1., 1., 1., 1., 1., 1.],\n",
       "       [0., 0., 1., 1., 1., 1., 1., 1., 1., 1., 1., 1., 1., 1., 1., 1.,\n",
       "        1., 1., 1., 1., 1., 1., 1., 1., 1., 1., 1., 1., 1., 1., 1.],\n",
       "       [0., 0., 0., 1., 1., 1., 1., 1., 1., 1., 1., 1., 1., 1., 1., 1.,\n",
       "        1., 1., 1., 1., 1., 1., 1., 1., 1., 1., 1., 1., 1., 1., 1.],\n",
       "       [0., 0., 0., 0., 1., 1., 1., 1., 1., 1., 1., 1., 1., 1., 1., 1.,\n",
       "        1., 1., 1., 1., 1., 1., 1., 1., 1., 1., 1., 1., 1., 1., 1.],\n",
       "       [0., 0., 0., 0., 0., 1., 1., 1., 1., 1., 1., 1., 1., 1., 1., 1.,\n",
       "        1., 1., 1., 1., 1., 1., 1., 1., 1., 1., 1., 1., 1., 1., 1.],\n",
       "       [0., 0., 0., 0., 0., 0., 1., 1., 1., 1., 1., 1., 1., 1., 1., 1.,\n",
       "        1., 1., 1., 1., 1., 1., 1., 1., 1., 1., 1., 1., 1., 1., 1.],\n",
       "       [0., 0., 0., 0., 0., 0., 0., 1., 1., 1., 1., 1., 1., 1., 1., 1.,\n",
       "        1., 1., 1., 1., 1., 1., 1., 1., 1., 1., 1., 1., 1., 1., 1.],\n",
       "       [0., 0., 0., 0., 0., 0., 0., 0., 1., 1., 1., 1., 1., 1., 1., 1.,\n",
       "        1., 1., 1., 1., 1., 1., 1., 1., 1., 1., 1., 1., 1., 1., 1.],\n",
       "       [0., 0., 0., 0., 0., 0., 0., 0., 0., 1., 1., 1., 1., 1., 1., 1.,\n",
       "        1., 1., 1., 1., 1., 1., 1., 1., 1., 1., 1., 1., 1., 1., 1.],\n",
       "       [0., 0., 0., 0., 0., 0., 0., 0., 0., 0., 1., 1., 1., 1., 1., 1.,\n",
       "        1., 1., 1., 1., 1., 1., 1., 1., 1., 1., 1., 1., 1., 1., 1.],\n",
       "       [0., 0., 0., 0., 0., 0., 0., 0., 0., 0., 0., 1., 1., 1., 1., 1.,\n",
       "        1., 1., 1., 1., 1., 1., 1., 1., 1., 1., 1., 1., 1., 1., 1.],\n",
       "       [0., 0., 0., 0., 0., 0., 0., 0., 0., 0., 0., 0., 1., 1., 1., 1.,\n",
       "        1., 1., 1., 1., 1., 1., 1., 1., 1., 1., 1., 1., 1., 1., 1.],\n",
       "       [0., 0., 0., 0., 0., 0., 0., 0., 0., 0., 0., 0., 0., 1., 1., 1.,\n",
       "        1., 1., 1., 1., 1., 1., 1., 1., 1., 1., 1., 1., 1., 1., 1.],\n",
       "       [0., 0., 0., 0., 0., 0., 0., 0., 0., 0., 0., 0., 0., 0., 1., 1.,\n",
       "        1., 1., 1., 1., 1., 1., 1., 1., 1., 1., 1., 1., 1., 1., 1.],\n",
       "       [0., 0., 0., 0., 0., 0., 0., 0., 0., 0., 0., 0., 0., 0., 0., 1.,\n",
       "        1., 1., 1., 1., 1., 1., 1., 1., 1., 1., 1., 1., 1., 1., 1.],\n",
       "       [0., 0., 0., 0., 0., 0., 0., 0., 0., 0., 0., 0., 0., 0., 0., 0.,\n",
       "        1., 1., 1., 1., 1., 1., 1., 1., 1., 1., 1., 1., 1., 1., 1.],\n",
       "       [0., 0., 0., 0., 0., 0., 0., 0., 0., 0., 0., 0., 0., 0., 0., 0.,\n",
       "        0., 1., 1., 1., 1., 1., 1., 1., 1., 1., 1., 1., 1., 1., 1.],\n",
       "       [0., 0., 0., 0., 0., 0., 0., 0., 0., 0., 0., 0., 0., 0., 0., 0.,\n",
       "        0., 0., 1., 1., 1., 1., 1., 1., 1., 1., 1., 1., 1., 1., 1.],\n",
       "       [0., 0., 0., 0., 0., 0., 0., 0., 0., 0., 0., 0., 0., 0., 0., 0.,\n",
       "        0., 0., 0., 1., 1., 1., 1., 1., 1., 1., 1., 1., 1., 1., 1.],\n",
       "       [0., 0., 0., 0., 0., 0., 0., 0., 0., 0., 0., 0., 0., 0., 0., 0.,\n",
       "        0., 0., 0., 0., 1., 1., 1., 1., 1., 1., 1., 1., 1., 1., 1.],\n",
       "       [0., 0., 0., 0., 0., 0., 0., 0., 0., 0., 0., 0., 0., 0., 0., 0.,\n",
       "        0., 0., 0., 0., 0., 1., 1., 1., 1., 1., 1., 1., 1., 1., 1.],\n",
       "       [0., 0., 0., 0., 0., 0., 0., 0., 0., 0., 0., 0., 0., 0., 0., 0.,\n",
       "        0., 0., 0., 0., 0., 0., 1., 1., 1., 1., 1., 1., 1., 1., 1.],\n",
       "       [0., 0., 0., 0., 0., 0., 0., 0., 0., 0., 0., 0., 0., 0., 0., 0.,\n",
       "        0., 0., 0., 0., 0., 0., 0., 1., 1., 1., 1., 1., 1., 1., 1.],\n",
       "       [0., 0., 0., 0., 0., 0., 0., 0., 0., 0., 0., 0., 0., 0., 0., 0.,\n",
       "        0., 0., 0., 0., 0., 0., 0., 0., 1., 1., 1., 1., 1., 1., 1.],\n",
       "       [0., 0., 0., 0., 0., 0., 0., 0., 0., 0., 0., 0., 0., 0., 0., 0.,\n",
       "        0., 0., 0., 0., 0., 0., 0., 0., 0., 1., 1., 1., 1., 1., 1.],\n",
       "       [0., 0., 0., 0., 0., 0., 0., 0., 0., 0., 0., 0., 0., 0., 0., 0.,\n",
       "        0., 0., 0., 0., 0., 0., 0., 0., 0., 0., 1., 1., 1., 1., 1.],\n",
       "       [0., 0., 0., 0., 0., 0., 0., 0., 0., 0., 0., 0., 0., 0., 0., 0.,\n",
       "        0., 0., 0., 0., 0., 0., 0., 0., 0., 0., 0., 1., 1., 1., 1.],\n",
       "       [0., 0., 0., 0., 0., 0., 0., 0., 0., 0., 0., 0., 0., 0., 0., 0.,\n",
       "        0., 0., 0., 0., 0., 0., 0., 0., 0., 0., 0., 0., 1., 1., 1.],\n",
       "       [0., 0., 0., 0., 0., 0., 0., 0., 0., 0., 0., 0., 0., 0., 0., 0.,\n",
       "        0., 0., 0., 0., 0., 0., 0., 0., 0., 0., 0., 0., 0., 1., 1.],\n",
       "       [0., 0., 0., 0., 0., 0., 0., 0., 0., 0., 0., 0., 0., 0., 0., 0.,\n",
       "        0., 0., 0., 0., 0., 0., 0., 0., 0., 0., 0., 0., 0., 0., 1.]])"
      ]
     },
     "execution_count": 6,
     "metadata": {},
     "output_type": "execute_result"
    }
   ],
   "source": [
    "import numpy as np\n",
    "\n",
    "my_mask = np.zeros((31, 31))\n",
    "my_mask[np.tril_indices_from(my_mask)] = 1\n",
    "my_mask = my_mask.T\n",
    "\n",
    "my_mask"
   ]
  },
  {
   "cell_type": "markdown",
   "metadata": {
    "id": "iH-dOEiZkbcW"
   },
   "source": [
    "\n",
    "<h2 align=right style=\"line-height:200%;font-family:vazir;color:#0099cc\">\n",
    "بخش چهارم\n",
    "</h2>\n",
    "<div style=\"line-height:200%;font-family:vazir;font-size:medium\">\n",
    "<p style=\"direction: rtl;text-align: right;\">\n",
    "<ul style=\"direction: rtl;text-align: right;\">\n",
    "  <li>\n",
    "با مت‌پلات، یک شکل شامل یک صفحه محور بسازید و اندازه طول و عرض آن را به ترتیب برابر ۱۲ و ۱۰ اینچ قرار دهید.\n",
    "</li>\n",
    "\n",
    "  <li>\n",
    "با استفاده از تابع <code>heatmap</code> سیبورن، بر روی صفحه محوری که در بخش قبل ساختید، یک نقشه حرارتی بکشید. ماتریس رابطه‌ای که در قدم اول به دست آمد را به آن بدهید. این‌بار از نگاشت رنگ <code>jet</code> استفاده کنید.\n",
    "\n",
    "</li>\n",
    "\n",
    "  <li>\n",
    "ماسکی که در بخش قبل ساختید را در آرگومان <code>mask</code> به تابع <code>heatmap</code> بدهید تا فقط قسمت پایینی نقشه حرارتی رسم شود. خانه‌هایی که مقدار <code>mask</code> آنها برابر یک می‌باشد، رسم نمی‌شوند.\n",
    "\n",
    "</li>\n",
    "\n",
    "  <li>\n",
    "عنوان نمودار را برابر <code>correlation heatmap lower triangular</code> قرار دهید.\n",
    "</li>\n",
    "\n",
    "</ul>\n",
    "</p>\n",
    "</div>"
   ]
  },
  {
   "cell_type": "code",
   "execution_count": 7,
   "metadata": {
    "colab": {
     "base_uri": "https://localhost:8080/",
     "height": 655
    },
    "id": "53lnYG2qb4Lu",
    "outputId": "363dabb9-ab20-4fce-8365-90746dbb9f35"
   },
   "outputs": [
    {
     "data": {
      "image/png": "[encoded data removed]",
      "text/plain": [
       "<Figure size 1200x1000 with 2 Axes>"
      ]
     },
     "metadata": {},
     "output_type": "display_data"
    }
   ],
   "source": [
    "fig2, ax2 = plt.subplots(figsize=(12, 10))\n",
    "\n",
    "sns.heatmap(ax=ax2, data=corr_matrix, cmap='jet', mask=my_mask)\n",
    "\n",
    "ax2.set_title('correlation heatmap lower triangular');\n"
   ]
  },
  {
   "cell_type": "markdown",
   "metadata": {
    "id": "dKXyfUexjKb0"
   },
   "source": [
    "\n",
    "<h2 align=right style=\"line-height:200%;font-family:vazir;color:#0099cc\">\n",
    "توابع نگاشت رنگ\n",
    "</h2>\n",
    "<div style=\"line-height:200%;font-family:vazir;font-size:medium\">\n",
    "<p style=\"direction: rtl;text-align: right;\">\n",
    "در این تمرین از دو تابع نگاشت رنگ استفاده کردید. انتخاب نگاشت رنگ متناسب با نیاز ما و نوع مسئله  مشخص می‌شود. هر تابع نگاشت رنگ اعداد را به طیف مخصوصی از رنگ‌ها نگاشت می‌کند. این طیف می‌تواند شامل یک، دو یا حتی همه رنگ‌ها باشد. مت‌پلات توابع نگاشت رنگ متنوعی دارد که در\n",
    " <a href=\"https://matplotlib.org/stable/tutorials/colors/colormaps.html\n",
    "\">این لینک </a>\n",
    "  می‌توانید با آنها آشنا شوید.\n",
    "</p>\n",
    "</div>\n"
   ]
  },
  {
   "cell_type": "markdown",
   "metadata": {},
   "source": [
    "<h2 align=right style=\"line-height:200%;font-family:vazir;color:#0099cc\">\n",
    "سلول جواب‌ساز\n",
    "</h2>"
   ]
  },
  {
   "cell_type": "code",
   "execution_count": 8,
   "metadata": {},
   "outputs": [
    {
     "name": "stdout",
     "output_type": "stream",
     "text": [
      "File Paths:\n",
      "['fig2', 'fig1', 'corr_matrix', 'my_mask', 'unidro.ipynb']\n"
     ]
    }
   ],
   "source": [
    "\n",
    "import zlib\n",
    "import zipfile\n",
    "import joblib\n",
    "\n",
    "joblib.dump(fig2,\"fig2\")\n",
    "joblib.dump(fig1,\"fig1\")\n",
    "joblib.dump(corr_matrix,\"corr_matrix\")\n",
    "joblib.dump(my_mask,\"my_mask\")\n",
    "\n",
    "def compress(file_names):\n",
    "    print(\"File Paths:\")\n",
    "    print(file_names)\n",
    "    # Select the compression mode ZIP_DEFLATED for compression\n",
    "    # or zipfile.ZIP_STORED to just store the file\n",
    "    compression = zipfile.ZIP_DEFLATED\n",
    "    # create the zip file first parameter path/name, second mode\n",
    "    with zipfile.ZipFile(\"result.zip\", mode=\"w\") as zf:\n",
    "        for file_name in file_names:\n",
    "            # Add file to the zip file\n",
    "            # first parameter file to zip, second filename in zip\n",
    "            zf.write('./' + file_name, file_name, compress_type=compression)\n",
    "\n",
    "\n",
    "file_names = [\"fig2\",\"fig1\",\"corr_matrix\",\"my_mask\", \"unidro.ipynb\"]\n",
    "compress(file_names)"
   ]
  }
 ],
 "metadata": {
  "colab": {
   "collapsed_sections": [],
   "name": "unidro.ipynb",
   "provenance": []
  },
  "interpreter": {
   "hash": "a1a46404003b1888471f66733c8ff43ecbbd22069e04669a0d47e7a2f84d0bb4"
  },
  "kernelspec": {
   "display_name": "qenv",
   "language": "python",
   "name": "qenv"
  },
  "language_info": {
   "codemirror_mode": {
    "name": "ipython",
    "version": 3
   },
   "file_extension": ".py",
   "mimetype": "text/x-python",
   "name": "python",
   "nbconvert_exporter": "python",
   "pygments_lexer": "ipython3",
   "version": "3.8.10"
  }
 },
 "nbformat": 4,
 "nbformat_minor": 4
}
