{
 "cells": [
  {
   "cell_type": "markdown",
   "source": [
    "<h1 align=center style=\"line-height:200%;font-family:vazir;color:#0099cc\">\r\n",
    "<font face=\"vazir\" color=\"#0099cc\">\r\n",
    "انقلاب سلیب\r\n",
    "</font>\r\n",
    "</h1>"
   ],
   "metadata": {}
  },
  {
   "cell_type": "markdown",
   "source": [
    "<p dir=rtl style=\"direction: rtl;text-align: right;line-height:200%;font-family:vazir;font-size:medium\">\r\n",
    "<font face=\"vazir\" size=3>\r\n",
    "پس از استفاده از حربه مش‌عبدالله، کارمندان به خود آمدند و تصمیم گرفتند که رذايل اخلاقی خود را کنار بگذارند و انسانهای شریف و صادقی باشند. سلیب تصمیم گرفت که فروش هفتگی جارودستی هر کارمند را، روی نموداری میله‌ای نشان دهد تا حس رقابت بین آنها تقویت شود. بهترین کارمند، در هفته یک جاروبرقی جایزه می‌گیرد. در این تمرین به سلیب کمک می‌کنیم تا این نمودار انگیزشی را تهیه کند.\r\n",
    "</font> \r\n",
    "</p>"
   ],
   "metadata": {}
  },
  {
   "cell_type": "markdown",
   "source": [
    "<h2 align=right style=\"line-height:200%;font-family:vazir;color:#0099cc\">\r\n",
    "<font face=\"vazir\" color=\"#0099cc\">\r\n",
    "بخش اول\r\n",
    "</font>\r\n",
    "</h2>\r\n",
    "<p dir=rtl style=\"direction: rtl;text-align: right;line-height:200%;font-family:vazir;font-size:medium\">\r\n",
    "<font face=\"vazir\" size=3>\r\n",
    "برای رسم نمودار تشویقی برای سلیب، عملیات زیر را انجام دهید:\r\n",
    "\r\n",
    "<ul dir =rtl>\r\n",
    "  <li>\r\n",
    "یک شکل شامل یک صفحه محور بسازید و طول و عرض شکل را برابر ۸ اینچ قرار دهید.\r\n",
    "</li>\r\n",
    "\r\n",
    "  <li>\r\n",
    "در جدول زیر، تعداد جارویی که هر کارمند فروخته، آمده است. با استفاده از مت‌پلات، نمودار میله‌ای این اطلاعات را رسم کنید. نمودار را بر اساس میزان فروش مرتب کنبد به طوری که بهترین کارمند در سمت چپ نمودار و بدترین کارمند در سمت راست نمودار قرار بگیرد.\r\n",
    "  <li>\r\n",
    "رنگ میله‌ها را صورتی <code>pink</code> قرار دهید.\r\n",
    "  <li>\r\n",
    "عرض میله‌ها را برابر ۰.۶ اینچ قرار دهید. \r\n",
    "<li>\r\n",
    "\r\n",
    "عنوان محور عمودی را برابر <code>count</code> قرار دهید.\r\n",
    "</li>\r\n",
    "\r\n",
    "</ul>\r\n",
    "</font>\r\n",
    "</p>\r\n",
    "\r\n"
   ],
   "metadata": {}
  },
  {
   "cell_type": "markdown",
   "source": [
    "<p dir=rtl style=\"direction: rtl;text-align: right;line-height:200%;font-family:vazir;font-size:medium\">\r\n",
    "<table dir=rtl align = center>\r\n",
    "\r\n",
    "<tr>\r\n",
    "<th><font face=\"vazir\" size=3>حمزه</th>\r\n",
    "<th><font face=\"vazir\" size=3>دنا</th>\r\n",
    "<th><font face=\"vazir\" size=3>مصیب</th>\r\n",
    "<th><font face=\"vazir\" size=3>عرفان</th>\r\n",
    "<th><font face=\"vazir\" size=3>سارا</th>\r\n",
    "<th><font face=\"vazir\" size=3>ملیحه</th>\r\n",
    "\r\n",
    "\r\n",
    "</tr>\r\n",
    "\r\n",
    "\r\n",
    "<tr>\r\n",
    "<td><font face=\"vazir\" size=3>۳۲۰۰</td>\r\n",
    "<td><font face=\"vazir\" size=3>۲۷۹۸</td>\r\n",
    "<td><font face=\"vazir\" size=3>۵۰</td>\r\n",
    "<th><font face=\"vazir\" size=3>۲۷۱۳</th>\r\n",
    "<th><font face=\"vazir\" size=3>۲۸۸۰</th>\r\n",
    "<th><font face=\"vazir\" size=3>۲۵۰۲</th>\r\n",
    "</tr>\r\n",
    "\r\n",
    "</table>\r\n",
    "</p>\r\n"
   ],
   "metadata": {}
  },
  {
   "cell_type": "markdown",
   "source": [
    "<p dir=rtl style=\"direction: rtl;text-align: right;line-height:200%;font-family:vazir;font-size:medium\">\r\n",
    "<font face=\"vazir\" size=3>\r\n",
    "معادل انگلیسی نامها برای استفاده در مت‌پلات:\r\n",
    "<br>\r\n",
    "سارا : sara\r\n",
    "<br>\r\n",
    "حمزه : hamze\r\n",
    "<br>\r\n",
    "دنا : dena\r\n",
    "<br>\r\n",
    "عرفان : erfan\r\n",
    "<br>\r\n",
    "ملیحه : malihe\r\n",
    "<br>\r\n",
    "مصیب : mosayeb\r\n",
    "</font>\r\n",
    "</p>\r\n"
   ],
   "metadata": {}
  },
  {
   "cell_type": "code",
   "execution_count": 2,
   "source": [
    "import matplotlib.pyplot as plt\r\n",
    "\r\n",
    "sales = [3400, 2880,2798, 2713, 2502, 50]\r\n",
    "names = ['hamze','sara','dena','erfan','malihe','mosayeb']\r\n",
    "\r\n",
    "fig, ax = plt.subplots(figsize=(8,8))\r\n",
    "ax.bar(names,sales, color = 'pink', width=0.6)\r\n",
    "\r\n",
    "ax.set_ylabel('count')"
   ],
   "outputs": [
    {
     "output_type": "execute_result",
     "data": {
      "text/plain": [
       "Text(0, 0.5, 'count')"
      ]
     },
     "metadata": {},
     "execution_count": 2
    },
    {
     "output_type": "display_data",
     "data": {
      "image/png": "[encoded data removed]",
      "text/plain": [
       "<Figure size 576x576 with 1 Axes>"
      ]
     },
     "metadata": {
      "needs_background": "light"
     }
    }
   ],
   "metadata": {}
  },
  {
   "cell_type": "markdown",
   "source": [
    "<h2 align=right style=\"line-height:200%;font-family:vazir;color:#0099cc\">\r\n",
    "<font face=\"vazir\" color=\"#0099cc\">\r\n",
    "<b>سلول جواب‌ساز</b>\r\n",
    "</font>\r\n",
    "</h2>\r\n"
   ],
   "metadata": {}
  },
  {
   "cell_type": "code",
   "execution_count": 3,
   "source": [
    "import zipfile\r\n",
    "import joblib\r\n",
    "import json\r\n",
    "\r\n",
    "joblib.dump(fig,\"fig\")\r\n",
    "\r\n",
    "def compress(file_names):\r\n",
    "    print(\"File Paths:\")\r\n",
    "    print(file_names)\r\n",
    "    # Select the compression mode ZIP_DEFLATED for compression\r\n",
    "    # or zipfile.ZIP_STORED to just store the file\r\n",
    "    compression = zipfile.ZIP_DEFLATED\r\n",
    "    # create the zip file first parameter path/name, second mode\r\n",
    "    with zipfile.ZipFile(\"result.zip\", mode=\"w\") as zf:\r\n",
    "        for file_name in file_names:\r\n",
    "            # Add file to the zip file\r\n",
    "            # first parameter file to zip, second filename in zip\r\n",
    "            zf.write('./' + file_name, file_name, compress_type=compression)\r\n",
    "\r\n",
    "file_names = [\"fig\",'revolution_of_salib_solution.ipynb']\r\n",
    "compress(file_names)"
   ],
   "outputs": [],
   "metadata": {}
  },
  {
   "cell_type": "code",
   "execution_count": null,
   "source": [],
   "outputs": [],
   "metadata": {}
  }
 ],
 "metadata": {
  "orig_nbformat": 4,
  "language_info": {
   "name": "python",
   "version": "3.7.4",
   "mimetype": "text/x-python",
   "codemirror_mode": {
    "name": "ipython",
    "version": 3
   },
   "pygments_lexer": "ipython3",
   "nbconvert_exporter": "python",
   "file_extension": ".py"
  },
  "kernelspec": {
   "name": "python3",
   "display_name": "Python 3.7.4 64-bit ('qenv': venv)"
  },
  "interpreter": {
   "hash": "a1a46404003b1888471f66733c8ff43ecbbd22069e04669a0d47e7a2f84d0bb4"
  }
 },
 "nbformat": 4,
 "nbformat_minor": 2
}