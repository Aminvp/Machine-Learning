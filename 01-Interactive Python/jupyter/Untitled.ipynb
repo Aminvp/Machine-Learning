{
 "cells": [
  {
   "cell_type": "code",
   "execution_count": 2,
   "id": "ca70ebf7-dd29-4de2-a0fe-aa01f37f344e",
   "metadata": {},
   "outputs": [],
   "source": [
    "a = 3\n",
    "b = 5\n"
   ]
  },
  {
   "cell_type": "code",
   "execution_count": 2,
   "id": "ba674b37-56a5-4158-8b13-b5f0ca023e10",
   "metadata": {},
   "outputs": [
    {
     "data": {
      "text/plain": [
       "8"
      ]
     },
     "execution_count": 2,
     "metadata": {},
     "output_type": "execute_result"
    }
   ],
   "source": [
    "a + b\n"
   ]
  },
  {
   "cell_type": "markdown",
   "id": "e20b4080-4139-42d6-befc-451b63755137",
   "metadata": {},
   "source": [
    "Hello \n"
   ]
  },
  {
   "cell_type": "markdown",
   "id": "c12f62f1-45da-4d40-a335-a5c2faf66d0b",
   "metadata": {},
   "source": [
    "<img src=\"hyper_cycle.png\">\n"
   ]
  },
  {
   "cell_type": "code",
   "execution_count": 5,
   "id": "b4cc1e38-3d37-41af-8f3e-95981cdd5163",
   "metadata": {},
   "outputs": [
    {
     "data": {
      "text/plain": [
       "5"
      ]
     },
     "execution_count": 5,
     "metadata": {},
     "output_type": "execute_result"
    }
   ],
   "source": [
    "b"
   ]
  },
  {
   "cell_type": "code",
   "execution_count": null,
   "id": "e82d76ce",
   "metadata": {},
   "outputs": [],
   "source": []
  }
 ],
 "metadata": {
  "kernelspec": {
   "display_name": "qenv",
   "language": "python",
   "name": "qenv"
  },
  "language_info": {
   "codemirror_mode": {
    "name": "ipython",
    "version": 3
   },
   "file_extension": ".py",
   "mimetype": "text/x-python",
   "name": "python",
   "nbconvert_exporter": "python",
   "pygments_lexer": "ipython3",
   "version": "3.8.10"
  }
 },
 "nbformat": 4,
 "nbformat_minor": 5
}
