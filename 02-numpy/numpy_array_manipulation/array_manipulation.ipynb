{
 "cells": [
  {
   "cell_type": "markdown",
   "id": "7bd2d878",
   "metadata": {},
   "source": [
    "<h1 align=center style=\"line-height:200%;font-family:vazir;color:#0099cc\">\n",
    "<font face=\"vazir\" color=\"#0099cc\">\n",
    "    کار با آرایه\n",
    "</font>\n",
    "</h1>"
   ]
  },
  {
   "cell_type": "code",
   "execution_count": 1,
   "id": "c67c2540",
   "metadata": {},
   "outputs": [],
   "source": [
    "import numpy as np\n",
    "np.random.seed(1400)"
   ]
  },
  {
   "cell_type": "markdown",
   "id": "def9eadc",
   "metadata": {},
   "source": [
    "<h2 dir=rtl align=right style=\"line-height:200%;font-family:vazir;color:#0099cc\">\n",
    "<font face=\"vazir\" color=\"#0099cc\">\n",
    "نمایه‌سازی (indexing)\n",
    "</font>\n",
    "</h2>\n",
    "<p dir=rtl style=\"direction: rtl;text-align: right;line-height:200%;font-family:vazir;font-size:medium\">\n",
    "<font face=\"vazir\" size=3>\n",
    "    برای دسترسی به یک خانه‌ی دلخواه آرایه، می‌توان مختصات آن را داخل <code>[]</code> قرار داد. مشابه لیست پایتون، شماره‌ها از صفر آغاز می‌شوند و شماره‌ی منفی به معنای شروع از انتهای آرایه است.\n",
    "</font>\n",
    "</p>"
   ]
  },
  {
   "cell_type": "code",
   "execution_count": 2,
   "id": "092ff472",
   "metadata": {},
   "outputs": [
    {
     "name": "stdout",
     "output_type": "stream",
     "text": [
      "[0 1 2 3]\n",
      "a[0] = 0\n",
      "a[2] = 2\n",
      "a[-1] = 3\n"
     ]
    }
   ],
   "source": [
    "a = np.array([0, 1, 2, 3])\n",
    "print(a)\n",
    "print('a[0] =', a[0])\n",
    "print('a[2] =', a[2])\n",
    "print('a[-1] =', a[-1])"
   ]
  },
  {
   "cell_type": "markdown",
   "id": "e2d9ab25",
   "metadata": {},
   "source": [
    "<p dir=rtl style=\"direction: rtl;text-align: right;line-height:200%;font-family:vazir;font-size:medium\">\n",
    "<font face=\"vazir\" size=3>\n",
    "    برای دسترسی به خانه‌ای از یک آرایه‌ی نامپای چندبعدی، کافیست مختصات بعُدها را با ویرگول <code>(,)</code> از هم جدا کنید.\n",
    "</font>\n",
    "</p>"
   ]
  },
  {
   "cell_type": "code",
   "execution_count": 2,
   "id": "31c62c89",
   "metadata": {},
   "outputs": [
    {
     "name": "stdout",
     "output_type": "stream",
     "text": [
      "[[5 1 7 8 5]\n",
      " [8 1 8 3 8]\n",
      " [9 8 4 1 4]]\n",
      "a[2, 3] = 1\n"
     ]
    }
   ],
   "source": [
    "a = np.random.randint(0, 10, (3, 5))\n",
    "print(a)\n",
    "print('a[2, 3] =', a[2, 3])"
   ]
  },
  {
   "cell_type": "markdown",
   "id": "1d1575b8",
   "metadata": {},
   "source": [
    "<p dir=rtl style=\"direction: rtl;text-align: right;line-height:200%;font-family:vazir;font-size:medium\">\n",
    "<font face=\"vazir\" size=3>\n",
    "    هم‌چنین می‌توانید مقدار یک خانه را ضمن دسترسی به آن تغییر دهید.\n",
    "</font>\n",
    "</p>"
   ]
  },
  {
   "cell_type": "code",
   "execution_count": 3,
   "id": "ed57288f",
   "metadata": {},
   "outputs": [
    {
     "name": "stdout",
     "output_type": "stream",
     "text": [
      "a[2, 3] = 10\n"
     ]
    }
   ],
   "source": [
    "a[2, 3] = 10\n",
    "print('a[2, 3] =', a[2, 3])"
   ]
  },
  {
   "cell_type": "markdown",
   "id": "e3188132",
   "metadata": {},
   "source": [
    "<p dir=rtl style=\"direction: rtl;text-align: right;line-height:200%;font-family:vazir;font-size:medium\">\n",
    "<font face=\"vazir\" size=3>\n",
    "    دقت داشته باشید که چون آرایه نوع داده مشخصی دارد، مقداری که داخل یک خانه آن قرار می‌دهید در صورت امکان به نوع داده آرایه تبدیل می‌شود. برای مثال اگر در یک آرایه از جنس اعداد صحیح یک مقدار حقیقی قرار دهید، بخش صحیح عدد داخل آرایه قرار می‌گیرد.\n",
    "</font>\n",
    "</p>"
   ]
  },
  {
   "cell_type": "code",
   "execution_count": 4,
   "id": "385330dd",
   "metadata": {},
   "outputs": [
    {
     "name": "stdout",
     "output_type": "stream",
     "text": [
      "a[2, 3] = 3\n"
     ]
    }
   ],
   "source": [
    "a[2, 3] = 3.14\n",
    "print('a[2, 3] =', a[2, 3])"
   ]
  },
  {
   "cell_type": "markdown",
   "id": "974694f5",
   "metadata": {},
   "source": [
    "<h2 dir=rtl align=right style=\"line-height:200%;font-family:vazir;color:#0099cc\">\n",
    "<font face=\"vazir\" color=\"#0099cc\">\n",
    "برش (slicing)\n",
    "</font>\n",
    "</h2>\n",
    "<p dir=rtl style=\"direction: rtl;text-align: right;line-height:200%;font-family:vazir;font-size:medium\">\n",
    "<font face=\"vazir\" size=3>\n",
    "    برای دسترسی به زیرآرایه‌های یک آرایه نامپای، می‌توان مثل لیست پایتون آن را برش داد و ابتدای برش، انتهای برش و گام‌ برش را با دونقطه <code>(:)</code> از هم جدا کرد. در صورت مشخص نکردن این مقادیر، مقدار پیش‌فرض (صفر برای شروع، اندازه آرایه برای پایان و یک برای گام پرش) برای هر یک لحاظ می‌شود.\n",
    "</font>\n",
    "</p>"
   ]
  },
  {
   "cell_type": "code",
   "execution_count": 6,
   "id": "43db39b9",
   "metadata": {},
   "outputs": [
    {
     "name": "stdout",
     "output_type": "stream",
     "text": [
      "[0 1 2]\n",
      "[2 3]\n",
      "[1 3]\n",
      "[4 3 2 1 0]\n"
     ]
    }
   ],
   "source": [
    "a = np.array([0, 1, 2, 3, 4])\n",
    "print(a[:3])\n",
    "print(a[2:4])\n",
    "print(a[1:5:2])\n",
    "print(a[::-1])"
   ]
  },
  {
   "cell_type": "markdown",
   "id": "accbf7e8",
   "metadata": {},
   "source": [
    "<p dir=rtl style=\"direction: rtl;text-align: right;line-height:200%;font-family:vazir;font-size:medium\">\n",
    "<font face=\"vazir\" size=3>\n",
    "    مشابه نمایه‌سازی می‌توانیم برش‌ها را برای هر بُعد مشخص کنیم و آن‌ها را با ویرگول <code>(,)</code> از هم جدا کنیم. به این ترتیب به یک برش از آرایه می‌رسیم که مرتبه (تعداد ابعاد) آن مشابه آرایه اصلی است.\n",
    "</font>\n",
    "</p>"
   ]
  },
  {
   "cell_type": "code",
   "execution_count": 7,
   "id": "09e9b004",
   "metadata": {},
   "outputs": [
    {
     "name": "stdout",
     "output_type": "stream",
     "text": [
      "[[1 2]\n",
      " [4 5]]\n",
      "[[3 5]\n",
      " [6 8]]\n"
     ]
    }
   ],
   "source": [
    "a = np.array([[0, 1, 2],\n",
    "              [3, 4, 5],\n",
    "              [6, 7, 8],\n",
    "              [9, 10, 11]])\n",
    "print(a[:2, 1:])\n",
    "print(a[1:3, ::2])"
   ]
  },
  {
   "cell_type": "markdown",
   "id": "39c8bde3",
   "metadata": {},
   "source": [
    "<p dir=rtl style=\"direction: rtl;text-align: right;line-height:200%;font-family:vazir;font-size:medium\">\n",
    "<font face=\"vazir\" size=3>\n",
    "    برای دسترسی به زیرآرایه‌های با مرتبه (تعداد ابعاد) پایین‌ترِ آرایه می‌توانیم از ترکیب نمایه‌سازی و برش استفاده کنیم. برای مثال <code>a[:2, 1]</code> یک برش دوتایی از ابتدای بُعد نخست می‌دهد و از بُعد دوم هم مختصات <code>1</code> را نمایه‌سازی می‌کند و زیرآرایه حاصل را اختیارمان می‌گذارد. بُعد اول که حاصل برش است حفظ می‌شود و بُعد دوم که نمایه‌سازی شده از بین می‌رود. در نتیجه این زیرآرایه، یک آرایه تک‌بعدی با اندازه ۲ خواهد بود. این مثال و مثال‌های دیگری را در کد زیر مشاهده می‌کنید. \n",
    "</font>\n",
    "</p>"
   ]
  },
  {
   "cell_type": "code",
   "execution_count": 8,
   "id": "629315bd",
   "metadata": {},
   "outputs": [
    {
     "name": "stdout",
     "output_type": "stream",
     "text": [
      "[1 4]\n",
      "[6 7 8]\n",
      "[ 1  4  7 10]\n",
      "[6 7 8]\n"
     ]
    }
   ],
   "source": [
    "print(a[:2, 1])\n",
    "print(a[2, :])\n",
    "print(a[:, 1])\n",
    "print(a[2])"
   ]
  },
  {
   "cell_type": "markdown",
   "id": "9fbbc654",
   "metadata": {},
   "source": [
    "\n",
    "<p dir=rtl style=\"direction: rtl;text-align: right;line-height:200%;font-family:vazir;font-size:medium\">\n",
    "<font face=\"vazir\" size=3>\n",
    "    همان‌طور که می‌بینید علامت دونقطه خالی (<code>:</code>) به معنای برش و انتخاب کل یک بعد است و اگر تعدادی از ابعاد آخر به این شکل برش خورده باشند می‌توان از ذکر آن‌ها چشم‌پوشی کرد (<code>a[2, :]</code> معادل <code>a[2]</code> است).\n",
    "</font>\n",
    "</p>"
   ]
  },
  {
   "cell_type": "markdown",
   "id": "714b07c2",
   "metadata": {},
   "source": [
    "<p dir=rtl style=\"direction: rtl;text-align: right;line-height:200%;font-family:vazir;font-size:medium\">\n",
    "<font face=\"vazir\" size=3>\n",
    "    یک نکته مهم و کاربردی درباره نمایه‌سازی و برش آرایه‌ها در نامپای این است که حاصل آن‌ها یک دید (view) به زیرآرایه‌ای از آرایه اصلی در اختیارمان می‌گذارد، و برخلاف لیست پایتون یک کپی از آن تولید نمی‌کند. بدین معنا که با تغییر دادن زیرآرایه‌ی حاصل، آرایه اصلی نیز تغییر می‌کند. مثالی از آن را در کد زیر مشاهده می‌کنید.\n",
    "</font>\n",
    "</p>"
   ]
  },
  {
   "cell_type": "code",
   "execution_count": 9,
   "id": "8e70908b",
   "metadata": {},
   "outputs": [
    {
     "name": "stdout",
     "output_type": "stream",
     "text": [
      "[[ 0  1  2]\n",
      " [ 3 10  5]\n",
      " [ 6  7  8]]\n"
     ]
    }
   ],
   "source": [
    "a = np.array([[0, 1, 2],\n",
    "              [3, 4, 5],\n",
    "              [6, 7, 8]])\n",
    "sub_a = a[1:3, 1:]\n",
    "sub_a[0, 0] = 10\n",
    "print(a)"
   ]
  },
  {
   "cell_type": "markdown",
   "id": "ca9a6193",
   "metadata": {},
   "source": [
    "<p dir=rtl style=\"direction: rtl;text-align: right;line-height:200%;font-family:vazir;font-size:medium\">\n",
    "<font face=\"vazir\" size=3>\n",
    "    برای کپی گرفتن از یک زیرآرایه می‌توانید متد <code>copy</code> را برای آن صدا بزنید.\n",
    "</font>\n",
    "</p>"
   ]
  },
  {
   "cell_type": "code",
   "execution_count": 10,
   "id": "236c706b",
   "metadata": {},
   "outputs": [
    {
     "name": "stdout",
     "output_type": "stream",
     "text": [
      "[[0 1 2]\n",
      " [3 4 5]\n",
      " [6 7 8]]\n"
     ]
    }
   ],
   "source": [
    "a = np.array([[0, 1, 2],\n",
    "              [3, 4, 5],\n",
    "              [6, 7, 8]])\n",
    "sub_copy_a = a[2:4, 1:].copy()\n",
    "sub_copy_a[0, 0] = 10\n",
    "print(a)"
   ]
  },
  {
   "cell_type": "markdown",
   "id": "97395e89",
   "metadata": {},
   "source": [
    "<h2 dir=rtl align=right style=\"line-height:200%;font-family:vazir;color:#0099cc\">\n",
    "<font face=\"vazir\" color=\"#0099cc\">\n",
    "بازآرایی (reshaping)\n",
    "</font>\n",
    "</h2>\n",
    "<p dir=rtl style=\"direction: rtl;text-align: right;line-height:200%;font-family:vazir;font-size:medium\">\n",
    "<font face=\"vazir\" size=3>\n",
    "    یک آرایه از پیش تعریف شده را می‌توان بازآرایی کرد و به آن ابعاد تازه‌ای داد؛ به شرط آن که اندازه‌ی آرایه برابر با اندازه حاصل از ابعاد داده‌شده باشد. برای این منظور کافیست متد <code>reshape</code> را برای آرایه صدا بزنیم و اندازه‌ی ابعاد تازه را در قالب یک چندتایی یا یک عدد (برای آرایه تک‌بعدی) به آن ورودی دهیم. به عنوان مثال به کمک کد زیر می‌توانیم یک آرایه‌ی تک‌بعدی با طول 16 را به شکل یک آرایه‌ی دوبعدی با ابعاد 4 در 4 بازآرایی کنیم.\n",
    "</font>\n",
    "</p>"
   ]
  },
  {
   "cell_type": "code",
   "execution_count": 5,
   "id": "fb9009ae",
   "metadata": {},
   "outputs": [
    {
     "name": "stdout",
     "output_type": "stream",
     "text": [
      "[ 0  1  2  3  4  5  6  7  8  9 10 11 12 13 14 15]\n",
      "[[ 0  1  2  3]\n",
      " [ 4  5  6  7]\n",
      " [ 8  9 10 11]\n",
      " [12 13 14 15]]\n"
     ]
    }
   ],
   "source": [
    "a = np.arange(16)\n",
    "print(a)\n",
    "print(a.reshape(4, 4))"
   ]
  },
  {
   "cell_type": "markdown",
   "id": "29ae617a",
   "metadata": {},
   "source": [
    "<p dir=rtl style=\"direction: rtl;text-align: right;line-height:200%;font-family:vazir;font-size:medium\">\n",
    "<font face=\"vazir\" size=3>\n",
    "    به عنوان مثال دیگر می‌توان یک آرایه تک‌بعدی را بازآرایی کرده و آن را به‌گونه‌ای دوبعدی کرد که اندازه‌ی یک بُعد آن یک شود.\n",
    "</font>\n",
    "</p>"
   ]
  },
  {
   "cell_type": "code",
   "execution_count": 12,
   "id": "9ec3cd24",
   "metadata": {},
   "outputs": [
    {
     "name": "stdout",
     "output_type": "stream",
     "text": [
      "[[1]\n",
      " [2]\n",
      " [3]]\n",
      "[[1 2 3]]\n"
     ]
    }
   ],
   "source": [
    "a = np.array([1, 2, 3])\n",
    "print(a.reshape(3, 1))\n",
    "print(a.reshape(1, 3))"
   ]
  },
  {
   "cell_type": "markdown",
   "id": "92684159",
   "metadata": {},
   "source": [
    "<p dir=rtl style=\"direction: rtl;text-align: right;line-height:200%;font-family:vazir;font-size:medium\">\n",
    "<font face=\"vazir\" size=3>\n",
    "    اگر برای بازآرایی اندازه‌ی دقیقاً یکی از بعدها را معادل با <code>1-</code> ورودی دهیم آنگاه نامپای از روی اندازه‌ی آرایه و اندازه‌ی سایر ابعاد ورودی، اندازه‌ آن بعد را تشخیص خواهد داد.\n",
    "</font>\n",
    "</p>"
   ]
  },
  {
   "cell_type": "code",
   "execution_count": 13,
   "id": "3358a10a",
   "metadata": {},
   "outputs": [
    {
     "name": "stdout",
     "output_type": "stream",
     "text": [
      "[[[ 0  1  2]\n",
      "  [ 3  4  5]]\n",
      "\n",
      " [[ 6  7  8]\n",
      "  [ 9 10 11]]]\n"
     ]
    }
   ],
   "source": [
    "a = np.arange(12)\n",
    "print(a.reshape(2, -1, 3))"
   ]
  },
  {
   "cell_type": "markdown",
   "id": "a87a585c",
   "metadata": {},
   "source": [
    "<p dir=rtl style=\"direction: rtl;text-align: right;line-height:200%;font-family:vazir;font-size:medium\">\n",
    "<font face=\"vazir\" size=3>\n",
    "    بسیاری از مواقع پیش می‌آید که قصد داریم یک آرایه‌ی چندبعدی را به یک آرایه‌ی تک‌بعدی تبدیل کنیم. به چنین کاری مسطح‌سازی (Flattening) گفته می‌شود و به راحتی با متد بازآرایی نامپای قابل انجام است.\n",
    "</font>\n",
    "</p>"
   ]
  },
  {
   "cell_type": "code",
   "execution_count": 14,
   "id": "3ce63fd9",
   "metadata": {},
   "outputs": [
    {
     "name": "stdout",
     "output_type": "stream",
     "text": [
      "[0 1 2 3 4 5 6 7 8]\n"
     ]
    }
   ],
   "source": [
    "a = np.array([[0, 1, 2],\n",
    "              [3, 4, 5],\n",
    "              [6, 7, 8]])\n",
    "print(a.reshape(-1))"
   ]
  },
  {
   "cell_type": "markdown",
   "id": "6791542d",
   "metadata": {},
   "source": [
    "<h2 dir=rtl align=right style=\"line-height:200%;font-family:vazir;color:#0099cc\">\n",
    "<font face=\"vazir\" color=\"#0099cc\">\n",
    "ترانهادن (transpose)\n",
    "</font>\n",
    "</h2>\n",
    "<p dir=rtl style=\"direction: rtl;text-align: right;line-height:200%;font-family:vazir;font-size:medium\">\n",
    "<font face=\"vazir\" size=3>\n",
    "    جدا از بازآرایی، ترتیب ابعاد یک آرایه را نیز می‌توان تغییر داد. با صدا زدن متد <code>T</code> یا <code>transpose</code> (بدون ورودی) ترتیب ابعاد آرایه برعکس می‌شود. برای مثال با برعکس کردن بعدهای یک آرایه دوبعدی جای سطرها و ستون‌های آن عوض می‌شود. بنابراین اگر آرایه دوبعدی را یک ماتریس در نظر بگیریم، ماتریس ترانهاده به دست می‌آید. \n",
    "</font>\n",
    "</p>"
   ]
  },
  {
   "cell_type": "code",
   "execution_count": 15,
   "id": "7932cef5",
   "metadata": {},
   "outputs": [
    {
     "name": "stdout",
     "output_type": "stream",
     "text": [
      "[[0 1 2 3]\n",
      " [4 5 6 7]]\n",
      "[[0 4]\n",
      " [1 5]\n",
      " [2 6]\n",
      " [3 7]]\n"
     ]
    }
   ],
   "source": [
    "a = np.arange(8).reshape(2, 4)\n",
    "print(a)\n",
    "print(a.T)"
   ]
  },
  {
   "cell_type": "markdown",
   "id": "ec55e864",
   "metadata": {},
   "source": [
    "<p dir=rtl style=\"direction: rtl;text-align: right;line-height:200%;font-family:vazir;font-size:medium\">\n",
    "<font face=\"vazir\" size=3>\n",
    "    می‌توان ترتیب دلخواهی را هم با ورودی دادن به متد <code>transpose</code> اعمال کرد. آرایه زیر از اعداد 0 تا 23 را در نظر بگیرید. \n",
    "</font>\n",
    "</p>"
   ]
  },
  {
   "cell_type": "code",
   "execution_count": 16,
   "id": "0d586611",
   "metadata": {},
   "outputs": [
    {
     "name": "stdout",
     "output_type": "stream",
     "text": [
      "[[[ 0  1  2  3]\n",
      "  [ 4  5  6  7]\n",
      "  [ 8  9 10 11]]\n",
      "\n",
      " [[12 13 14 15]\n",
      "  [16 17 18 19]\n",
      "  [20 21 22 23]]]\n"
     ]
    }
   ],
   "source": [
    "a = np.arange(24).reshape(2, 3, 4)\n",
    "print(a)"
   ]
  },
  {
   "cell_type": "markdown",
   "id": "ca6fc565",
   "metadata": {},
   "source": [
    "<p dir=rtl style=\"direction: rtl;text-align: right;line-height:200%;font-family:vazir;font-size:medium\">\n",
    "<font face=\"vazir\" size=3>\n",
    "    این آرایه سه بعد دارد که به ترتیب اندازه‌های 2، 3 و 4 دارند و برای اشاره به هر خانه از آن به ترتیب باید مختصات خانه در این بعدها را تعیین کنیم. برای مثال عدد 23 در خانه <code>a[1, 2, 3]‍</code> قرار دارد. حال اگر متد <code>transpose</code> را برای <code>a</code> صدا بزنیم و ترتیب تازه‌ای را به آن ورودی دهیم، ترتیب بعدها تغییر می‌کند. \n",
    "</font>\n",
    "</p>"
   ]
  },
  {
   "cell_type": "code",
   "execution_count": 17,
   "id": "bf97f5dc",
   "metadata": {},
   "outputs": [
    {
     "data": {
      "text/plain": [
       "array([[[ 0, 12],\n",
       "        [ 1, 13],\n",
       "        [ 2, 14],\n",
       "        [ 3, 15]],\n",
       "\n",
       "       [[ 4, 16],\n",
       "        [ 5, 17],\n",
       "        [ 6, 18],\n",
       "        [ 7, 19]],\n",
       "\n",
       "       [[ 8, 20],\n",
       "        [ 9, 21],\n",
       "        [10, 22],\n",
       "        [11, 23]]])"
      ]
     },
     "execution_count": 17,
     "metadata": {},
     "output_type": "execute_result"
    }
   ],
   "source": [
    "a.transpose(1, 2, 0)"
   ]
  },
  {
   "cell_type": "markdown",
   "id": "14e7b0fc",
   "metadata": {},
   "source": [
    "<p dir=rtl style=\"direction: rtl;text-align: right;line-height:200%;font-family:vazir;font-size:medium\">\n",
    "<font face=\"vazir\" size=3>\n",
    "    در کد فوق با صدا زدن <code>a.transpose(1, 2, 0)</code>، بُعد دوم (شماره 1) تبدیل به بُعد اول آرایه جدید، بُعد سوم (شماره 2) تبدیل به بُعد دوم آرایه جدید و بُعد نخست (شماره 0) تبدیل به بُعد سوم آرایه جدید می‌شود. به این ترتیب اندازه ابعاد آرایه جدید به ترتیب 3، 4 و 2 خواهد بود و عدد 23 این بار در خانه <code>[2, 3, 1]</code> قرار می‌گیرد.\n",
    "</font>\n",
    "</p>"
   ]
  },
  {
   "cell_type": "markdown",
   "id": "cff7ec20",
   "metadata": {},
   "source": [
    "<p dir=rtl style=\"direction: rtl;text-align: right;line-height:200%;font-family:vazir;font-size:medium\">\n",
    "<font face=\"vazir\" size=3>\n",
    "    اگر بخواهیم تنها دو تا از بعدها را با هم جابجا کنیم می‌توانیم از متد <code>swapaxes</code> استفاده کنیم و شماره‌ی دو بعد آرایه (با شروع از 0) را به آن ورودی دهیم. \n",
    "</font>\n",
    "</p>"
   ]
  },
  {
   "cell_type": "code",
   "execution_count": 18,
   "id": "a1be4801",
   "metadata": {},
   "outputs": [
    {
     "data": {
      "text/plain": [
       "array([[[ 0, 12],\n",
       "        [ 4, 16],\n",
       "        [ 8, 20]],\n",
       "\n",
       "       [[ 1, 13],\n",
       "        [ 5, 17],\n",
       "        [ 9, 21]],\n",
       "\n",
       "       [[ 2, 14],\n",
       "        [ 6, 18],\n",
       "        [10, 22]],\n",
       "\n",
       "       [[ 3, 15],\n",
       "        [ 7, 19],\n",
       "        [11, 23]]])"
      ]
     },
     "execution_count": 18,
     "metadata": {},
     "output_type": "execute_result"
    }
   ],
   "source": [
    "a.swapaxes(0, 2)"
   ]
  },
  {
   "cell_type": "markdown",
   "id": "fe85f624",
   "metadata": {},
   "source": [
    "<h2 dir=rtl align=right style=\"line-height:200%;font-family:vazir;color:#0099cc\">\n",
    "<font face=\"vazir\" color=\"#0099cc\">\n",
    "به هم دوختن (concatenate) و شکافتن (split) آرایه‌ها\n",
    "</font>\n",
    "</h2>\n",
    "<p dir=rtl style=\"direction: rtl;text-align: right;line-height:200%;font-family:vazir;font-size:medium\">\n",
    "<font face=\"vazir\" size=3>\n",
    "    برای به هم دوختن چند آرایه می‌توان از تابع <code>concatenate</code> استفاده کرد. به این شکل که در یک لیست تعدادی آرایه به آن می‌دهیم تا آرایه‌ها را در جهت محوری که با پارامتر <code>axis</code> مشخص می‌شود (به طور پیش‌فرض محور نخست) به هم بدوزد. آرایه‌های داده‌شده باید در جهت سایر محورها ابعاد یکسانی داشته باشند.\n",
    "</font>\n",
    "</p>"
   ]
  },
  {
   "cell_type": "code",
   "execution_count": 19,
   "id": "3c4672b2",
   "metadata": {},
   "outputs": [
    {
     "data": {
      "text/plain": [
       "array([[ 0,  1,  2],\n",
       "       [ 3,  4,  5],\n",
       "       [ 6,  7,  8],\n",
       "       [ 9, 10, 11],\n",
       "       [12, 13, 14]])"
      ]
     },
     "execution_count": 19,
     "metadata": {},
     "output_type": "execute_result"
    }
   ],
   "source": [
    "x = np.arange(6).reshape(2, 3)\n",
    "y = np.arange(6, 12).reshape(2, 3)\n",
    "z = np.arange(12, 15).reshape(1, 3)\n",
    "np.concatenate([x, y, z])"
   ]
  },
  {
   "cell_type": "code",
   "execution_count": 20,
   "id": "cf086e98",
   "metadata": {},
   "outputs": [
    {
     "data": {
      "text/plain": [
       "array([[ 0,  1,  2,  6,  7,  8],\n",
       "       [ 3,  4,  5,  9, 10, 11]])"
      ]
     },
     "execution_count": 20,
     "metadata": {},
     "output_type": "execute_result"
    }
   ],
   "source": [
    "np.concatenate([x, y], axis=1)"
   ]
  },
  {
   "cell_type": "markdown",
   "id": "3f2a791d",
   "metadata": {},
   "source": [
    "<p dir=rtl style=\"direction: rtl;text-align: right;line-height:200%;font-family:vazir;font-size:medium\">\n",
    "<font face=\"vazir\" size=3>\n",
    "    عملیات شکافتن یک آرایه به لیستی از چند آرایه که برعکس دوختن است را می‌توان به کمک تابع <code>split</code> انجام داد. این تابع یک آرایه را در جهت محوری که با <code>axis</code> مشخص می‌شود (به طور پیش‌فرض محور نخست) از نقاطی که با یک لیست به آن داده شده می‌شکافد. \n",
    "</font>\n",
    "</p>"
   ]
  },
  {
   "cell_type": "code",
   "execution_count": 21,
   "id": "b61312d1",
   "metadata": {},
   "outputs": [
    {
     "name": "stdout",
     "output_type": "stream",
     "text": [
      "[0 1]\n",
      "[2 3 4]\n",
      "[5 6 7 8 9]\n"
     ]
    }
   ],
   "source": [
    "a = np.arange(10)\n",
    "x, y, z = np.split(a, [2, 5])\n",
    "print(x)\n",
    "print(y)\n",
    "print(z)"
   ]
  },
  {
   "cell_type": "markdown",
   "id": "90333fe8",
   "metadata": {},
   "source": [
    "<p dir=rtl style=\"direction: rtl;text-align: right;line-height:200%;font-family:vazir;font-size:medium\">\n",
    "<font face=\"vazir\" size=3>\n",
    "    به جای نقاط برش می‌توان یک عدد ورودی داد تا آرایه به آن تعداد آرایه با ابعاد برابر تقسیم شود. اما اندازه بعد آرایه در راستای محور <code>axis</code> باید حتماً بر این عدد بخش‌پذیر باشد تا بتوان آرایه را به تکه‌های برابر تقسیم کرد. \n",
    "</font>\n",
    "</p>"
   ]
  },
  {
   "cell_type": "code",
   "execution_count": 22,
   "id": "ade3f521",
   "metadata": {},
   "outputs": [
    {
     "name": "stdout",
     "output_type": "stream",
     "text": [
      "[[0 1]\n",
      " [6 7]]\n",
      "[[2 3]\n",
      " [8 9]]\n",
      "[[ 4  5]\n",
      " [10 11]]\n"
     ]
    }
   ],
   "source": [
    "a = np.arange(12).reshape(2, 6)\n",
    "x, y, z = np.split(a, 3, axis=1)\n",
    "print(x)\n",
    "print(y)\n",
    "print(z)"
   ]
  }
 ],
 "metadata": {
  "kernelspec": {
   "display_name": "qenv",
   "language": "python",
   "name": "qenv"
  },
  "language_info": {
   "codemirror_mode": {
    "name": "ipython",
    "version": 3
   },
   "file_extension": ".py",
   "mimetype": "text/x-python",
   "name": "python",
   "nbconvert_exporter": "python",
   "pygments_lexer": "ipython3",
   "version": "3.8.10"
  },
  "vscode": {
   "interpreter": {
    "hash": "916dbcbb3f70747c44a77c7bcd40155683ae19c65e1c03b4aa3499c5328201f1"
   }
  }
 },
 "nbformat": 4,
 "nbformat_minor": 5
}
