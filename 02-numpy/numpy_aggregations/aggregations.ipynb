{
 "cells": [
  {
   "cell_type": "markdown",
   "id": "df94a6e9",
   "metadata": {},
   "source": [
    "<h1 align=center style=\"line-height:200%;font-family:vazir;color:#0099cc\">\n",
    "<font face=\"vazir\" color=\"#0099cc\">\n",
    "    توابع تجمیعی\n",
    "</font>\n",
    "</h1>"
   ]
  },
  {
   "cell_type": "code",
   "execution_count": 1,
   "id": "f8b13b3d",
   "metadata": {},
   "outputs": [],
   "source": [
    "import numpy as np\n",
    "np.random.seed(1400)"
   ]
  },
  {
   "cell_type": "markdown",
   "id": "cf2116bf",
   "metadata": {},
   "source": [
    "<p dir=rtl style=\"direction: rtl;text-align: right;line-height:200%;font-family:vazir;font-size:medium\">\n",
    "<font face=\"vazir\" size=3>\n",
    "برای توصیف داده معمولا از آماره‌هایی چون میانگین و انحراف معیار استفاده می‌شود که داده را در قالب اعداد توصیف می‌کنند. به توابعی از این دست که درباره یک مجموعه از داده یک عدد گزارش می‌کنند، توابع تجمیعی می‌گوییم. توابعی چون مجموع (sum) ، کمینه (min) و بیشینه (max) همگی از این شمارند. نمونه‌ای از استفاده از این توابع را در کد زیر مشاهده می‌کنید.\n",
    "\n",
    "</font>\n",
    "</p>"
   ]
  },
  {
   "cell_type": "code",
   "execution_count": 3,
   "id": "467feead",
   "metadata": {},
   "outputs": [
    {
     "name": "stdout",
     "output_type": "stream",
     "text": [
      "[5 1 7 8 5 8 1 8 3 8 9 8 4 1 4 4 1 7 3 1]\n",
      "sum = 96\n",
      "min = 1\n",
      "max = 9\n"
     ]
    }
   ],
   "source": [
    "a = np.random.randint(0, 10, 20)\n",
    "print(a)\n",
    "print('sum =', np.sum(a))\n",
    "print('min =', np.min(a))\n",
    "print('max =', np.max(a))"
   ]
  },
  {
   "cell_type": "code",
   "execution_count": 4,
   "id": "8ed7bd9c",
   "metadata": {},
   "outputs": [
    {
     "name": "stdout",
     "output_type": "stream",
     "text": [
      "1 9 96\n"
     ]
    }
   ],
   "source": [
    "print(a.min(), a.max(), a.sum())"
   ]
  },
  {
   "cell_type": "markdown",
   "id": "fff3b1d6",
   "metadata": {},
   "source": [
    "<p dir=rtl style=\"direction: rtl;text-align: right;line-height:200%;font-family:vazir;font-size:medium\">\n",
    "<font face=\"vazir\" size=3>\n",
    "یک نکته حائز اهمیت این است که توابع تجمیعی‌ای چون موارد فوق، داخل خود پایتون هم پیاده‌سازی شده‌اند و کار مشابهی را انجام می‌دهند؛ اما توابع تجمیعی نامپای به خاطر استفاده از کدهای کامپایل شده برای انجام محاسبات، بسیار سریع‌تر عمل می‌کنند (نمونه‌ای از این مقایسه را در کد زیر مشاهده می‌کنید) و هم‌چنین برای آرایه‌های چندبعدی مناسب‌ترند. از این رو بهتر است تا جای ممکن از توابع داخل نامپای استفاده کنیم.\n",
    "</font>\n",
    "</p>"
   ]
  },
  {
   "cell_type": "code",
   "execution_count": 5,
   "id": "0c821b46",
   "metadata": {},
   "outputs": [
    {
     "name": "stdout",
     "output_type": "stream",
     "text": [
      "91.4 ms ± 1.61 ms per loop (mean ± std. dev. of 7 runs, 10 loops each)\n",
      "584 µs ± 3.19 µs per loop (mean ± std. dev. of 7 runs, 1,000 loops each)\n"
     ]
    }
   ],
   "source": [
    "big_array = np.random.rand(1000*1000)\n",
    "%timeit sum(big_array)\n",
    "%timeit np.sum(big_array)"
   ]
  },
  {
   "cell_type": "code",
   "execution_count": 6,
   "id": "6387886b",
   "metadata": {},
   "outputs": [
    {
     "name": "stdout",
     "output_type": "stream",
     "text": [
      "[[6 5 4 2]\n",
      " [0 1 4 5]\n",
      " [0 3 1 9]]\n"
     ]
    }
   ],
   "source": [
    "a = np.random.randint(0, 10, (3, 4))\n",
    "print(a)"
   ]
  },
  {
   "cell_type": "markdown",
   "id": "76fde941",
   "metadata": {},
   "source": [
    "<p dir=rtl style=\"direction: rtl;text-align: right;line-height:200%;font-family:vazir;font-size:medium\">\n",
    "<font face=\"vazir\" size=3>\n",
    "توابع تجمیعی نامپای را می‌توان برای آرایه‌های چندبعدی هم به کار برد. به طور پیش‌فرض این توابع نتیجه را در قالب یک عدد برای همه خانه‌های آرایه گزارش می‌کنند.\n",
    "    <br>\n",
    "      با تعیین محور تجمیع می‌توان این کار را در راستای تنها یک محور هم انجام داد. برای مثال اگر یک آرایه دو بعدی داشته باشیم و بخواهیم مقدار کمینه ستون‌ها را به صورت یک آرایه داشته باشیم، کافیست متد min را با ورودی axis=0 برای آرایه صدا بزنیم.  \n",
    "</font>\n",
    "</p>"
   ]
  },
  {
   "cell_type": "code",
   "execution_count": 8,
   "id": "88e05b80",
   "metadata": {},
   "outputs": [
    {
     "data": {
      "text/plain": [
       "40"
      ]
     },
     "execution_count": 8,
     "metadata": {},
     "output_type": "execute_result"
    }
   ],
   "source": [
    "a.sum()"
   ]
  },
  {
   "cell_type": "code",
   "execution_count": 9,
   "id": "d1feb9ab",
   "metadata": {},
   "outputs": [
    {
     "data": {
      "text/plain": [
       "array([0, 1, 1, 2])"
      ]
     },
     "execution_count": 9,
     "metadata": {},
     "output_type": "execute_result"
    }
   ],
   "source": [
    "a.min(axis=0)"
   ]
  },
  {
   "cell_type": "code",
   "execution_count": 10,
   "id": "497b8378",
   "metadata": {},
   "outputs": [
    {
     "data": {
      "text/plain": [
       "array([6, 5, 9])"
      ]
     },
     "execution_count": 10,
     "metadata": {},
     "output_type": "execute_result"
    }
   ],
   "source": [
    "a.max(axis=1)"
   ]
  },
  {
   "cell_type": "markdown",
   "id": "8b71422b",
   "metadata": {},
   "source": [
    "<p dir=rtl style=\"direction: rtl;text-align: right;line-height:200%;font-family:vazir;font-size:medium\">\n",
    "<font face=\"vazir\" size=3>\n",
    "    حال مثالی برای استفاده از توابع تجمیعی برای گزارش توصیف‌هایی آماری از داده را بررسی می‌کنیم. این کار را روی داده قد بازیکنان ترکیب اولیه دو تیم ملی فوتبال ایران و اسپانیا در مسابقه گروهی جام جهانی ۲۰۱۸ روسیه انجام می‌دهیم. داده‌ها را در آرایه دو بعدی دو در یازده <code>heights</code> نگه داشته‌ایم که سطر نخست آن (<code>heights[0]</code>) مربوط به تیم ملی ایران و سطر دوم آن (<code>heights[1]</code>) متعلق به تیم ملی اسپانیاست. آماره‌ها را برای هر تیم جداگانه محاسبه می‌کنیم.\n",
    "</font>\n",
    "</p>"
   ]
  },
  {
   "cell_type": "code",
   "execution_count": 11,
   "id": "43881534",
   "metadata": {},
   "outputs": [
    {
     "name": "stdout",
     "output_type": "stream",
     "text": [
      "Iran vs Spain\n",
      "Mean height: [184.63636364 179.63636364]\n",
      "Standard deviation: [4.79152144 8.91650897]\n"
     ]
    }
   ],
   "source": [
    "heights = np.array([[194, 185, 183, 184, 178, 178, 190, 187, 187, 179, 186], \n",
    "                    [192, 173, 194, 184, 170, 189, 170, 170, 176, 173, 185]])\n",
    "print('Iran vs Spain')\n",
    "print('Mean height:', heights.mean(axis=1))\n",
    "print('Standard deviation:', heights.std(axis=1))"
   ]
  },
  {
   "cell_type": "code",
   "execution_count": 12,
   "id": "29b207c9",
   "metadata": {},
   "outputs": [
    {
     "name": "stdout",
     "output_type": "stream",
     "text": [
      "Min: [178 170]\n",
      "25th percentile: [181.  171.5]\n",
      "Median: [185. 176.]\n",
      "75th percentile: [187. 187.]\n",
      "Max: [194 194]\n"
     ]
    }
   ],
   "source": [
    "print('Min:', np.min(heights, axis=1)) \n",
    "print('25th percentile:', np.percentile(heights, 25, axis=1)) \n",
    "print('Median:', np.median(heights, axis=1))\n",
    "print('75th percentile:', np.percentile(heights, 75, axis=1))\n",
    "print('Max:', np.max(heights, axis=1))"
   ]
  },
  {
   "cell_type": "code",
   "execution_count": null,
   "id": "9c201e7f",
   "metadata": {},
   "outputs": [],
   "source": []
  }
 ],
 "metadata": {
  "kernelspec": {
   "display_name": "qenv",
   "language": "python",
   "name": "qenv"
  },
  "language_info": {
   "codemirror_mode": {
    "name": "ipython",
    "version": 3
   },
   "file_extension": ".py",
   "mimetype": "text/x-python",
   "name": "python",
   "nbconvert_exporter": "python",
   "pygments_lexer": "ipython3",
   "version": "3.8.10"
  }
 },
 "nbformat": 4,
 "nbformat_minor": 5
}
