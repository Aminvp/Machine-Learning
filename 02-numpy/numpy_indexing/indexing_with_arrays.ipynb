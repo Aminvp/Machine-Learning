{
 "cells": [
  {
   "cell_type": "markdown",
   "id": "30b340a4",
   "metadata": {},
   "source": [
    "<h1 align=center style=\"line-height:200%;font-family:vazir;color:#0099cc\">\n",
    "<font face=\"vazir\" color=\"#0099cc\">\n",
    "    نمایه‌سازی با آرایه‌ها\n",
    "</font>\n",
    "</h1>"
   ]
  },
  {
   "cell_type": "code",
   "execution_count": 1,
   "id": "a6135bfe",
   "metadata": {},
   "outputs": [],
   "source": [
    "import numpy as np"
   ]
  },
  {
   "cell_type": "markdown",
   "id": "4b437935",
   "metadata": {},
   "source": [
    "<h2 align=right style=\"direction: rtl;text-align: right;line-height:200%;font-family:vazir;color:#0099cc\">\n",
    "<font face=\"vazir\" color=\"#0099cc\">\n",
    "    نمایه‌سازی با آرایه‌های بولی (boolean indexing)  \n",
    "</font>\n",
    "</h2>\n",
    "<p dir=rtl style=\"direction: rtl;text-align: right;line-height:200%;font-family:vazir;font-size:medium\">\n",
    "<font face=\"vazir\" size=3>\n",
    "    پیش از این، استفاده از نتیجه‌ی مقایسه بین آرایه‌ها با استفاده از توابع خلاصه‌سازی چون <code>sum</code> را آموختیم. اما یک قابلیت دیگر نامپای که حاصل چنین مقایسه‌ای را ارزشمندتر می‌کند قابلیت نمایه‌سازی (indexing) از آرایه‌ها به وسیله‌ی آرایه‌های بولی است. به این ترتیب می‌توانیم به راحتی به یک زیرمجموعه از آرایه که ویژگی مشخصی دارد، دسترسی پیدا کنیم. دوباره به مسئله دمای هوای شهر شیراز که در درس‌نامه قبلی به آن پرداختیم، باز می‌گردیم.\n",
    "</font>\n",
    "</p>"
   ]
  },
  {
   "cell_type": "code",
   "execution_count": 2,
   "id": "0aff6b84",
   "metadata": {},
   "outputs": [],
   "source": [
    "t = np.array([[10, 12, 11, 17, 15, 11, 14],\n",
    "             [13, 15, 18, 21, 19, 18, 17],\n",
    "             [18, 20, 21, 19, 23, 24, 22],\n",
    "             [20, 23, 19, 21, 25, 22, 21]])"
   ]
  },
  {
   "cell_type": "markdown",
   "id": "08557ca8",
   "metadata": {},
   "source": [
    "<p dir=rtl style=\"direction: rtl;text-align: right;line-height:200%;font-family:vazir;font-size:medium\">\n",
    "<font face=\"vazir\" size=3>\n",
    "کافیست خط زیر را بنویسیم تا دمای هوا در روزهایی از آرایه فوق که دمای بین ۱۵ و ۲۰ دارند را در قالب یک آرایه یک‌بعدی داشته باشیم.\n",
    "</font>\n",
    "</p>"
   ]
  },
  {
   "cell_type": "code",
   "execution_count": 3,
   "id": "d4097561",
   "metadata": {},
   "outputs": [
    {
     "data": {
      "text/plain": [
       "array([17, 15, 15, 18, 19, 18, 17, 18, 20, 19, 20, 19])"
      ]
     },
     "execution_count": 3,
     "metadata": {},
     "output_type": "execute_result"
    }
   ],
   "source": [
    "t[(t >= 15) & (t <= 20)]"
   ]
  },
  {
   "cell_type": "markdown",
   "id": "b5554a14",
   "metadata": {},
   "source": [
    "<p dir=rtl style=\"direction: rtl;text-align: right;line-height:200%;font-family:vazir;font-size:medium\">\n",
    "<font face=\"vazir\" size=3>\n",
    "    در کدهای زیر، چند نمونه استخراج اطلاعات از داده به کمک این روش را مشاهده می‌کنید.\n",
    "</font>\n",
    "</p>"
   ]
  },
  {
   "cell_type": "code",
   "execution_count": 4,
   "id": "b2cbf15a",
   "metadata": {},
   "outputs": [
    {
     "name": "stdout",
     "output_type": "stream",
     "text": [
      "میانگین دمای هوا در روزهای گرم‌تر از ۲۰ درجه: 22.3\n",
      "میانه دمای هوا در روزهای سردتر از ۲۰ و گرم‌تر از ۱۵ درجه: 18.0\n"
     ]
    }
   ],
   "source": [
    "print('میانگین دمای هوا در روزهای گرم‌تر از ۲۰ درجه:', t[t > 20].mean())\n",
    "print('میانه دمای هوا در روزهای سردتر از ۲۰ و گرم‌تر از ۱۵ درجه:', np.median(t[(t > 15) & (t < 20)]))"
   ]
  },
  {
   "cell_type": "code",
   "execution_count": 7,
   "id": "7fec56ec",
   "metadata": {},
   "outputs": [
    {
     "name": "stdout",
     "output_type": "stream",
     "text": [
      "[[ 0  1  2  3  4  5  6]\n",
      " [ 7  8  9 10 11 12 13]\n",
      " [14 15 16 17 18 19 20]\n",
      " [21 22 23 24 25 26 27]]\n",
      "میانه دمای روزهای آخرِ هفته کل ماه: 19.5\n",
      "میانه دمای دو هفته نخست ماه: 15.0\n",
      "میانگین دمای روزهای آخرِ هفته در دو هفته پایانی ماه: 22.25\n"
     ]
    }
   ],
   "source": [
    "calendar = np.arange(4*7).reshape(4, 7)\n",
    "print(calendar)\n",
    "holidays = (calendar%7 >= 5) # آرایه بولی متناظر روزهای آخر هفته (پنج‌شنبه و جمعه)\n",
    "first_mid = (calendar < 2*7) # آرایه بولی متناظر روزهای دو هفته اول اردیبهشت\n",
    "print('میانه دمای روزهای آخرِ هفته کل ماه:', np.median(t[holidays]))\n",
    "print('میانه دمای دو هفته نخست ماه:', np.median(t[first_mid]))\n",
    "print('میانگین دمای روزهای آخرِ هفته در دو هفته پایانی ماه:', np.mean(t[~first_mid & holidays]))"
   ]
  },
  {
   "cell_type": "markdown",
   "id": "826963b2",
   "metadata": {},
   "source": [
    "<h2 align=right style=\"direction: rtl;text-align: right;line-height:200%;font-family:vazir;color:#0099cc\">\n",
    "<font face=\"vazir\" color=\"#0099cc\">\n",
    "    نمایه‌سازی با آرایه‌های عددی (fancy indexing)  \n",
    "</font>\n",
    "</h2>\n",
    "<p dir=rtl style=\"direction: rtl;text-align: right;line-height:200%;font-family:vazir;font-size:medium\">\n",
    "<font face=\"vazir\" size=3>\n",
    "    برای انتخاب بعضی عناصر آرایه، بر حسب جایگاهشان، استفاده از آرایه‌های عددی برای نمایه‌سازی کاربرد دارد.\n",
    "    <br>\n",
    "    برای مثال، اگر بخواهیم خانه‌های شماره ۲، ۳ و ۵ از یک آرایه یک بعدی را جدا کنیم، کافیست یک آرایه نمایه‌سازی دربرگیرنده این شماره‌ها بسازیم. سپس می‌توانیم به شکل زیر، آن را داخل براکت قرار دهیم تا خانه‌های مدنظرمان در قالب یک آرایه برگردانده شوند.\n",
    "</font>\n",
    "</p>"
   ]
  },
  {
   "cell_type": "code",
   "execution_count": 8,
   "id": "b329778d",
   "metadata": {},
   "outputs": [
    {
     "data": {
      "text/plain": [
       "array([ 4,  8, 32])"
      ]
     },
     "execution_count": 8,
     "metadata": {},
     "output_type": "execute_result"
    }
   ],
   "source": [
    "a = np.array([1, 2, 4, 8, 16, 32])\n",
    "ind = [2, 3, 5]\n",
    "a[ind]"
   ]
  },
  {
   "cell_type": "markdown",
   "id": "e5170843",
   "metadata": {},
   "source": [
    "\n",
    "<p dir=rtl style=\"direction: rtl;text-align: right;line-height:200%;font-family:vazir;font-size:medium\">\n",
    "<font face=\"vazir\" size=3>\n",
    "    دقت کنید آرایه‌ای که برگردانده می‌شود، هم‌شکل با آرایه‌ی نمایه‌سازی است. در همین مثال فوق، اگر آرایه <code>ind</code> را دوبعدی تعریف کنیم، <code>a[ind]</code> هم دوبعدی خواهد بود و در هر خانه‌ی آن مقدار خانه‌ای از آرایه اصلی که در <code>ind</code> به شماره‌ی آن اشاره شده قرار می‌گیرد.\n",
    "</font>\n",
    "</p>"
   ]
  },
  {
   "cell_type": "code",
   "execution_count": 9,
   "id": "09b042fb",
   "metadata": {},
   "outputs": [
    {
     "data": {
      "text/plain": [
       "array([[ 4,  8],\n",
       "       [16,  2]])"
      ]
     },
     "execution_count": 9,
     "metadata": {},
     "output_type": "execute_result"
    }
   ],
   "source": [
    "ind = np.array([[2, 3],\n",
    "               [4, 1]])\n",
    "a[ind]"
   ]
  },
  {
   "cell_type": "markdown",
   "id": "b69b0534",
   "metadata": {},
   "source": [
    "\n",
    "<p dir=rtl style=\"direction: rtl;text-align: right;line-height:200%;font-family:vazir;font-size:medium\">\n",
    "<font face=\"vazir\" size=3>\n",
    "    اگر آرایه‌مان دوبعدی باشد یک آرایه شامل شماره سطرها و یک آرایه شامل شماره ستون‌های خانه‌های درخواستی می‌سازیم و به شکل زیر آن‌ها را به ترتیب داخل براکت قرار می‌دهیم.\n",
    "</font>\n",
    "</p>"
   ]
  },
  {
   "cell_type": "code",
   "execution_count": 17,
   "id": "a763f663",
   "metadata": {},
   "outputs": [
    {
     "name": "stdout",
     "output_type": "stream",
     "text": [
      "[[ 0  1  2]\n",
      " [ 3  4  5]\n",
      " [ 6  7  8]\n",
      " [ 9 10 11]]\n"
     ]
    },
    {
     "data": {
      "text/plain": [
       "array([ 0,  8, 10,  6])"
      ]
     },
     "execution_count": 17,
     "metadata": {},
     "output_type": "execute_result"
    }
   ],
   "source": [
    "a = np.arange(12).reshape(4, 3)\n",
    "print(a)\n",
    "row = np.array([0, 2, 3, 2])\n",
    "col = np.array([0, 2, 1, 0])\n",
    "a[row, col]\n"
   ]
  },
  {
   "cell_type": "markdown",
   "id": "f5270bce",
   "metadata": {},
   "source": [
    "<p dir=rtl style=\"direction: rtl;text-align: right;line-height:200%;font-family:vazir;font-size:medium\">\n",
    "<font face=\"vazir\" size=3>\n",
    "    گذاشتن <code>np.newaxis</code> در جایی از براکت، به معنای اضافه کردن یک بُعد با اندازه یک به آرایه در آنجا است. برای مثال <code>row[:, np.newaxis]</code> معادل است با <code>row.reshape(4, 1)</code>.\n",
    "</font>\n",
    "</p>"
   ]
  },
  {
   "cell_type": "code",
   "execution_count": 19,
   "id": "c6b4aad0",
   "metadata": {},
   "outputs": [
    {
     "name": "stdout",
     "output_type": "stream",
     "text": [
      "[[0]\n",
      " [2]\n",
      " [3]\n",
      " [2]]\n",
      "[0 2 1 0]\n"
     ]
    },
    {
     "data": {
      "text/plain": [
       "array([[ 0,  2,  1,  0],\n",
       "       [ 6,  8,  7,  6],\n",
       "       [ 9, 11, 10,  9],\n",
       "       [ 6,  8,  7,  6]])"
      ]
     },
     "execution_count": 19,
     "metadata": {},
     "output_type": "execute_result"
    }
   ],
   "source": [
    "print(row[:, np.newaxis])\n",
    "print(col)\n",
    "a[row[:, np.newaxis], col]"
   ]
  },
  {
   "cell_type": "markdown",
   "id": "a9bf27f9",
   "metadata": {},
   "source": [
    "<p dir=rtl style=\"direction: rtl;text-align: right;line-height:200%;font-family:vazir;font-size:medium\">\n",
    "<font face=\"vazir\" size=3>\n",
    "هم‌چنین می‌توانیم ضمن نمایه‌سازی به این شیوه، آرایه مورد نظر را تغییر دهیم. مثلا با کد زیر می‌توانیم خانه‌های با مقدار زوج آرایه را ده برابر کنیم.\n",
    "</font>\n",
    "</p>"
   ]
  },
  {
   "cell_type": "code",
   "execution_count": 30,
   "id": "cbc56b69",
   "metadata": {},
   "outputs": [
    {
     "name": "stdout",
     "output_type": "stream",
     "text": [
      "[20  1  3 40  5]\n"
     ]
    }
   ],
   "source": [
    "a = np.array([2, 1, 3, 4, 5])\n",
    "a[a%2 == 0] *= 10\n",
    "print(a)"
   ]
  },
  {
   "cell_type": "markdown",
   "id": "b0575eb6",
   "metadata": {},
   "source": [
    "<p dir=rtl style=\"direction: rtl;text-align: right;line-height:200%;font-family:vazir;font-size:medium\">\n",
    "<font face=\"vazir\" size=3>\n",
    "    به عنوان مثال دیگر، کد زیر خانه‌های شماره ۱، ۲ و ۴ آرایه‌ی حاصل از کد قبل را ده برابر می‌کند.\n",
    "</font>\n",
    "</p>"
   ]
  },
  {
   "cell_type": "code",
   "execution_count": 31,
   "id": "371d3866",
   "metadata": {},
   "outputs": [
    {
     "name": "stdout",
     "output_type": "stream",
     "text": [
      "[20 10 30 40 50]\n"
     ]
    }
   ],
   "source": [
    "a[[1, 1, 2, 4]] *= 10\n",
    "print(a)"
   ]
  },
  {
   "cell_type": "markdown",
   "id": "ce78be37",
   "metadata": {},
   "source": [
    "<p dir=rtl style=\"direction: rtl;text-align: right;line-height:200%;font-family:vazir;font-size:medium\">\n",
    "<font face=\"vazir\" size=3>\n",
    "    دقت کنید که در کد بالا اگر یک شماره را چند بار در آرایه نمایه‌سازی تکرار کنیم، به همان تعداد عملیات فوق رویش اجرا نمی‌شود. برای این منظور تابع عمومی <code>at</code> فراهم شده تا به کمک آن عملیات روی هر خانه با توجه به تعداد تکرارش در آرایه‌ی نمایه‌سازی انجام شود. شیوه‌ی استفاده از <code>at</code> را در کد زیر مشاهده می‌کنید.\n",
    "</font>\n",
    "</p>"
   ]
  },
  {
   "cell_type": "code",
   "execution_count": 32,
   "id": "6d3c5401",
   "metadata": {},
   "outputs": [
    {
     "name": "stdout",
     "output_type": "stream",
     "text": [
      "[35 20 35 40 50]\n"
     ]
    }
   ],
   "source": [
    "np.add.at(a, [0, 0, 0, 1, 1, 2], 5)\n",
    "print(a)"
   ]
  },
  {
   "cell_type": "code",
   "execution_count": null,
   "id": "a2794a72",
   "metadata": {},
   "outputs": [],
   "source": []
  }
 ],
 "metadata": {
  "kernelspec": {
   "display_name": "qenv",
   "language": "python",
   "name": "qenv"
  },
  "language_info": {
   "codemirror_mode": {
    "name": "ipython",
    "version": 3
   },
   "file_extension": ".py",
   "mimetype": "text/x-python",
   "name": "python",
   "nbconvert_exporter": "python",
   "pygments_lexer": "ipython3",
   "version": "3.8.10"
  },
  "vscode": {
   "interpreter": {
    "hash": "916dbcbb3f70747c44a77c7bcd40155683ae19c65e1c03b4aa3499c5328201f1"
   }
  }
 },
 "nbformat": 4,
 "nbformat_minor": 5
}
