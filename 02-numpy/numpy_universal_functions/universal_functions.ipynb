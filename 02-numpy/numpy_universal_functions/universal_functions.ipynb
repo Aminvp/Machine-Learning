{
 "cells": [
  {
   "cell_type": "markdown",
   "id": "a421c817",
   "metadata": {},
   "source": [
    "<h1 align=center style=\"line-height:200%;font-family:vazir;color:#0099cc\">\n",
    "<font face=\"vazir\" color=\"#0099cc\">\n",
    "    توابع عمومی\n",
    "</font>\n",
    "</h1>"
   ]
  },
  {
   "cell_type": "code",
   "execution_count": 1,
   "id": "a4b1ce84",
   "metadata": {},
   "outputs": [],
   "source": [
    "import numpy as np\n",
    "np.random.seed(1400)"
   ]
  },
  {
   "cell_type": "markdown",
   "id": "11f94b6e",
   "metadata": {},
   "source": [
    "\n",
    "<p dir=rtl style=\"direction: rtl;text-align: right;line-height:200%;font-family:vazir;font-size:medium\">\n",
    "<font face=\"vazir\" size=3>\n",
    "    لازم به ذکر است از <code>np.random.seed</code> به منظور تولید اعداد شبه‌تصادفی (<i>pseudo-random</i>) استفاده می‌شود. با تعیین یک مقدار دلخواه برای آن، مولد اعداد تصادفی نامپای را به‌گونه‌ای تنظیم می‌کنیم که در هربار فراخوانی، اعداد مشابهی را خروجی دهد. در این نوت‌بوک به منظور رعایت تشابه خروجی کدهای درسنامه و کدی که شما اجرا خواهید کرد از این قابلیت استفاده شده است. \n",
    "</font>\n",
    "</p>"
   ]
  },
  {
   "cell_type": "markdown",
   "id": "21ca1ffe",
   "metadata": {},
   "source": [
    "\n",
    "<p dir=rtl style=\"direction: rtl;text-align: right;line-height:200%;font-family:vazir;font-size:medium\">\n",
    "<font face=\"vazir\" size=3>\n",
    "    برای مشاهده میزان بهینگی نامپای، عناصر دو آرایه را نظیر به نظیر با همدیگر جمع می‌کنیم.\n",
    "    <br>\n",
    "    یک بار از تابع <code>cal_sum</code> و بار دیگر با استفاده از نامپای این کار را انجام می‌دهیم تا بتوانیم نتیجه را مقایسه کنیم.\n",
    "</font>\n",
    "</p>"
   ]
  },
  {
   "cell_type": "code",
   "execution_count": 2,
   "id": "7e89ed02",
   "metadata": {},
   "outputs": [
    {
     "name": "stdout",
     "output_type": "stream",
     "text": [
      "a = [5 1 7 8]\n",
      "b = [5 8 1 8]\n",
      "[10  9  8 16]\n"
     ]
    }
   ],
   "source": [
    "a = np.random.randint(0, 10, 4) # آرایه‌ای شامل 4 عضو تصادفی در بازه 0 تا 9 \n",
    "b = np.random.randint(0, 10, 4) # آرایه‌ای شامل 4 عضو تصادفی در بازه 0 تا 9 \n",
    "print('a =', a)\n",
    "print('b =', b)\n",
    "\n",
    "def cal_sum(a,b) :\n",
    "    output = np.empty(len(a), dtype='int_')\n",
    "    for i in range(len(a)):\n",
    "        output[i] = a[i] + b[i]\n",
    "    return output\n",
    "\n",
    "print(cal_sum(a, b))"
   ]
  },
  {
   "cell_type": "code",
   "execution_count": 3,
   "id": "d9a4b298",
   "metadata": {},
   "outputs": [
    {
     "name": "stdout",
     "output_type": "stream",
     "text": [
      "3.52 s ± 50.2 ms per loop (mean ± std. dev. of 7 runs, 1 loop each)\n"
     ]
    }
   ],
   "source": [
    "big_size = 10*1000*1000\n",
    "a = np.random.randint(0, 10, big_size) \n",
    "b = np.random.randint(0, 10, big_size) \n",
    "%timeit cal_sum(a, b)"
   ]
  },
  {
   "cell_type": "code",
   "execution_count": 5,
   "id": "15104f11",
   "metadata": {},
   "outputs": [
    {
     "name": "stdout",
     "output_type": "stream",
     "text": [
      "26.1 ms ± 286 µs per loop (mean ± std. dev. of 7 runs, 10 loops each)\n"
     ]
    }
   ],
   "source": [
    "%timeit np.add(a, b) "
   ]
  },
  {
   "cell_type": "markdown",
   "id": "1db1a572",
   "metadata": {},
   "source": [
    "<p dir=rtl style=\"direction: rtl;text-align: right;line-height:200%;font-family:vazir;font-size:medium\">\n",
    "<font face=\"vazir\" size=3>\n",
    "    طبق دو سلول بالا، اگر طول آرایه‌هایی که داریم ۱۰ میلیون باشد، چندین ثانیه طول می‌کشد تا فقط بتوانیم جمع عنصر به عنصر تنها دو آرایه را به‌دست آوریم (بسته به سیستم اجرا کننده ممکن است تفاوتی جزئی در زمان اجرا دیده شود). مشخصا اگر تعداد آرایه‌ها بیشتر شود یا عملیات پیچیده‌تری داشته باشیم، خیلی بیشتر از چند ثانیه طول می‌کشد تا محاسبات انجام شود. \n",
    "</font>\n",
    "</p>"
   ]
  },
  {
   "cell_type": "markdown",
   "id": "653d5811",
   "metadata": {},
   "source": [
    "<p dir=rtl style=\"direction: rtl;text-align: right;line-height:200%;font-family:vazir;font-size:medium\">\n",
    "<font face=\"vazir\" size=3>\n",
    "      کتابخانه نامپای برای این منظور توابع عمومی (<i>universal functions</i> یا به اختصار <i>ufunc</i>) را پیش‌بینی کرده است. در سلول زیر مقدار زمان مصرفی برای <i>ufunc</i> مربوط به جمع عنصر به عنصر را مشاهده می‌کنیم. تابع <code>np.add</code> یک <i>ufunc</i> برای جمع عنصر به عنصر دو آرایه است. این تابع در ورودی دو آرایه دریافت می‌کند و در خروجی آرایه‌ای قرار می‌دهد که عنصر i ام اش حاصل جمع عنصر i ام دو آرایه ورودی است.\n",
    "</font>\n",
    "</p>"
   ]
  },
  {
   "cell_type": "code",
   "execution_count": 6,
   "id": "7d69065f",
   "metadata": {},
   "outputs": [
    {
     "name": "stdout",
     "output_type": "stream",
     "text": [
      "[9 5 9 8]\n",
      "[9 5 9 8]\n"
     ]
    }
   ],
   "source": [
    "a = np.random.randint(0, 10, 4) \n",
    "b = np.random.randint(0, 10, 4) \n",
    "print(np.add(a, b)) # قالب قبلی\n",
    "print(a + b) # استفاده از عملگر معادل"
   ]
  },
  {
   "cell_type": "code",
   "execution_count": 8,
   "id": "06aab359",
   "metadata": {},
   "outputs": [
    {
     "name": "stdout",
     "output_type": "stream",
     "text": [
      "a + b = [-2 11  3  8]\n",
      "a + b = [-2 11  3  8]\n"
     ]
    }
   ],
   "source": [
    "a = np.array([0, 1, 2, 3])\n",
    "b = np.array([-2, 10, 1, 5])\n",
    "print('a + b =', np.add(a, b)) \n",
    "print('a + b =', a + b) # است a + b معادل np.add(a, b)"
   ]
  },
  {
   "cell_type": "markdown",
   "id": "7ff5a0d7",
   "metadata": {},
   "source": [
    "<p dir=rtl style=\"direction: rtl;text-align: right;line-height:200%;font-family:vazir;font-size:medium\">\n",
    "<font face=\"vazir\" size=3>\n",
    "    علاوه بر <code>np.add</code>، نامپای توابع عمومی دیگری نیز دارد. برخی توابع عمومی، دو عملوند و برخی دیگر تنها یک عملوند را در ورودی می‌پذیرند. در ابتدا به برخی توابع دو عملوندی آن نگاهی بی‌اندازیم.\n",
    "</font>\n",
    "</p>"
   ]
  },
  {
   "cell_type": "code",
   "execution_count": 9,
   "id": "f4f647cd",
   "metadata": {},
   "outputs": [
    {
     "name": "stdout",
     "output_type": "stream",
     "text": [
      "a - b = [ 2 -9  1 -2]\n",
      "a - b = [ 2 -9  1 -2]\n"
     ]
    }
   ],
   "source": [
    "print('a - b =', np.subtract(a, b)) \n",
    "print('a - b =', a - b) # است a - b معادل np.subtract(a, b)"
   ]
  },
  {
   "cell_type": "code",
   "execution_count": 10,
   "id": "a4335035",
   "metadata": {},
   "outputs": [
    {
     "name": "stdout",
     "output_type": "stream",
     "text": [
      "a * b = [ 0 10  2 15]\n",
      "a * b = [ 0 10  2 15]\n"
     ]
    }
   ],
   "source": [
    "print('a * b =', np.multiply(a, b)) \n",
    "print('a * b =', a * b) # است a * b معادل np.multiply(a, b)"
   ]
  },
  {
   "cell_type": "code",
   "execution_count": 9,
   "id": "353017c4",
   "metadata": {},
   "outputs": [
    {
     "name": "stdout",
     "output_type": "stream",
     "text": [
      "a / b = [-0.   0.1  2.   0.6]\n",
      "a / b = [-0.   0.1  2.   0.6]\n"
     ]
    }
   ],
   "source": [
    "print('a / b =', np.divide(a, b)) \n",
    "print('a / b =', a / b) # است a / b معادل np.divide(a, b)"
   ]
  },
  {
   "cell_type": "markdown",
   "id": "24e68b1d",
   "metadata": {},
   "source": [
    "<p dir=rtl style=\"direction: rtl;text-align: right;line-height:200%;font-family:vazir;font-size:medium\">\n",
    "<font face=\"vazir\" size=3>\n",
    "    در سلول‌های زیر، توابع عمومی‌ای را می‌بینیم که یک عملوند می‌پذیرند.\n",
    "</font>\n",
    "</p>"
   ]
  },
  {
   "cell_type": "code",
   "execution_count": 11,
   "id": "5cd9e992",
   "metadata": {},
   "outputs": [
    {
     "name": "stdout",
     "output_type": "stream",
     "text": [
      "a = [4 8 3 6 6]\n",
      "b = [-8  6 -7  6  1]\n"
     ]
    }
   ],
   "source": [
    "a = np.random.randint(0, 11, 5) # آرایه‌ای شامل 5 عدد تصادفی در بازه 0 تا 10\n",
    "b = np.random.randint(-10, 11, 5) # آرایه‌ای شامل 5 عدد تصادفی در بازه 10- تا 10\n",
    "print('a =', a)\n",
    "print('b =', b)"
   ]
  },
  {
   "cell_type": "code",
   "execution_count": 11,
   "id": "01a8fe4d",
   "metadata": {},
   "outputs": [
    {
     "name": "stdout",
     "output_type": "stream",
     "text": [
      "absolute values of b = [8 6 7 6 1]\n"
     ]
    }
   ],
   "source": [
    "print('absolute values of b =', np.abs(b)) "
   ]
  },
  {
   "cell_type": "code",
   "execution_count": 12,
   "id": "cd882a2e",
   "metadata": {},
   "outputs": [
    {
     "name": "stdout",
     "output_type": "stream",
     "text": [
      "square values of a = [16 64  9 36 36]\n"
     ]
    }
   ],
   "source": [
    "print('square values of a =', np.square(a) ) "
   ]
  },
  {
   "cell_type": "markdown",
   "id": "5e0dcc3b",
   "metadata": {},
   "source": [
    "<p dir=rtl style=\"direction: rtl;text-align: right;line-height:200%;font-family:vazir;font-size:medium\">\n",
    "<font face=\"vazir\" size=3>\n",
    "    ثابت <b>Not a Number</b> یا <code>nan</code> برای نشان دادن عدد نبودن مقدار یک خانه در آرایه عددی استفاده می‌شود. برای مثال اگر تابع <code>sqrt</code> برای یک خانه با مقدار <code>1-</code> صدا زده شود، حاصل <code>nan</code> خواهد شد.\n",
    "</font>\n",
    "</p>"
   ]
  },
  {
   "cell_type": "code",
   "execution_count": 12,
   "id": "6157b4d9",
   "metadata": {},
   "outputs": [
    {
     "name": "stdout",
     "output_type": "stream",
     "text": [
      "a =  [ 1  2 -3  4 -5]\n",
      "isnan results for a = [False False False False False]\n",
      "sqrt(a) =  [1.         1.41421356        nan 2.                nan]\n",
      "isnan resultes for sqrt(a) = [False False  True False  True]\n"
     ]
    }
   ],
   "source": [
    "np.seterr(invalid=\"ignore\") # خطای ناشی از عملیات غیرمجاز را نادیده می‌گیرد\n",
    "a = np.array([1 , 2 , -3 , 4, -5])\n",
    "print('a = ', a)\n",
    "print('isnan results for a =', np.isnan(a))\n",
    "print('sqrt(a) = ', np.sqrt(a))\n",
    "print('isnan resultes for sqrt(a) =', np.isnan(np.sqrt(a)))"
   ]
  },
  {
   "cell_type": "code",
   "execution_count": null,
   "id": "0fb84bb0",
   "metadata": {},
   "outputs": [],
   "source": []
  }
 ],
 "metadata": {
  "kernelspec": {
   "display_name": "qenv",
   "language": "python",
   "name": "qenv"
  },
  "language_info": {
   "codemirror_mode": {
    "name": "ipython",
    "version": 3
   },
   "file_extension": ".py",
   "mimetype": "text/x-python",
   "name": "python",
   "nbconvert_exporter": "python",
   "pygments_lexer": "ipython3",
   "version": "3.8.10"
  }
 },
 "nbformat": 4,
 "nbformat_minor": 5
}
